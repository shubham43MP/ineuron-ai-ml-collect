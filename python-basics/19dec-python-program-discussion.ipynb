{
 "cells": [
  {
   "cell_type": "code",
   "execution_count": 2,
   "id": "07536cd8",
   "metadata": {},
   "outputs": [],
   "source": [
    "a = 10"
   ]
  },
  {
   "cell_type": "code",
   "execution_count": 3,
   "id": "beccb017",
   "metadata": {},
   "outputs": [],
   "source": [
    "if(a < 15):\n",
    "    pass"
   ]
  },
  {
   "cell_type": "code",
   "execution_count": 4,
   "id": "3a959f9a",
   "metadata": {},
   "outputs": [
    {
     "name": "stdout",
     "output_type": "stream",
     "text": [
      "if statement is wrong\n"
     ]
    }
   ],
   "source": [
    "if 3 > 10:\n",
    "    print(\"10 is lesser than 3\")\n",
    "else : \n",
    "    print('if statement is wrong')"
   ]
  },
  {
   "cell_type": "code",
   "execution_count": 10,
   "id": "98a7cdcd",
   "metadata": {},
   "outputs": [
    {
     "name": "stdout",
     "output_type": "stream",
     "text": [
      "ENTER THE INCOME25\n",
      "Will buy home\n"
     ]
    }
   ],
   "source": [
    "income = int(input(\"ENTER THE INCOME\"))\n",
    "\n",
    "if income < 50:\n",
    "    print('Will buy home')\n",
    "elif income < 70:\n",
    "    print(\"I may be buy car\")\n",
    "elif income < 90:\n",
    "    print('Will rent a house')\n",
    "else: \n",
    "    print('Not buying anything')"
   ]
  },
  {
   "cell_type": "code",
   "execution_count": 8,
   "id": "ce846aff",
   "metadata": {},
   "outputs": [
    {
     "name": "stdout",
     "output_type": "stream",
     "text": [
      "50000\n",
      "Discount is  10000.0\n"
     ]
    }
   ],
   "source": [
    "total_price = int(input())\n",
    "if total_price > 20000:\n",
    "    discount = total_price * .20\n",
    "    print('Discount is ', discount)\n",
    "elif total_price <= 7000:\n",
    "    discount = total_price *.05\n",
    "else:\n",
    "    print('No discounts')"
   ]
  },
  {
   "cell_type": "code",
   "execution_count": 9,
   "id": "26f81bf0",
   "metadata": {},
   "outputs": [
    {
     "data": {
      "text/plain": [
       "True"
      ]
     },
     "execution_count": 9,
     "metadata": {},
     "output_type": "execute_result"
    }
   ],
   "source": [
    "\"abc\" == \"abc\""
   ]
  },
  {
   "cell_type": "code",
   "execution_count": 11,
   "id": "0b69d8ad",
   "metadata": {},
   "outputs": [
    {
     "name": "stdout",
     "output_type": "stream",
     "text": [
      "1\n",
      "2\n",
      "3\n",
      "4\n",
      "5\n",
      "6\n",
      "7\n"
     ]
    }
   ],
   "source": [
    "l = [1, 2,3,4,5,6,7]\n",
    "\n",
    "for i in l:\n",
    "    print((i))"
   ]
  },
  {
   "cell_type": "code",
   "execution_count": 14,
   "id": "8a63c458",
   "metadata": {},
   "outputs": [
    {
     "name": "stdout",
     "output_type": "stream",
     "text": [
      "  a\n",
      "  b\n",
      "  c\n",
      "  d\n"
     ]
    }
   ],
   "source": [
    "s = \"abcd\"\n",
    "for i in \"abcd\":\n",
    "    print(\" \", i)"
   ]
  },
  {
   "cell_type": "code",
   "execution_count": 16,
   "id": "11cbd960",
   "metadata": {},
   "outputs": [
    {
     "name": "stdout",
     "output_type": "stream",
     "text": [
      "1\n",
      "3\n",
      "5\n",
      "sath\n"
     ]
    }
   ],
   "source": [
    "t = (1,3,5,\"sath\")\n",
    "for i in t:\n",
    "    print(i)"
   ]
  },
  {
   "cell_type": "code",
   "execution_count": 18,
   "id": "fb3fbd94",
   "metadata": {},
   "outputs": [
    {
     "name": "stdout",
     "output_type": "stream",
     "text": [
      "====> <class 'int'>\n",
      "====> <class 'int'>\n",
      "====> <class 'float'>\n",
      "====> <class 'complex'>\n"
     ]
    }
   ],
   "source": [
    "l = [1,4,5.6, 4+7j]\n",
    "for i in l:\n",
    "    print('====>',type(i))"
   ]
  },
  {
   "cell_type": "code",
   "execution_count": 19,
   "id": "e25bd725",
   "metadata": {},
   "outputs": [
    {
     "name": "stdout",
     "output_type": "stream",
     "text": [
      "[3, 6, 7.6]\n"
     ]
    }
   ],
   "source": [
    "l = [1,4,5.6]\n",
    "l1 = []\n",
    "for i in l:\n",
    "    l1.append(i+2)\n",
    "\n",
    "print(l1)"
   ]
  },
  {
   "cell_type": "code",
   "execution_count": 27,
   "id": "cb8164f4",
   "metadata": {},
   "outputs": [
    {
     "name": "stdout",
     "output_type": "stream",
     "text": [
      "[1, 4]\n"
     ]
    }
   ],
   "source": [
    "l = [1,4,5.6, \"sudh\", 8+6j, [6,7,80]]\n",
    "l1 = []\n",
    "\n",
    "for i in l:\n",
    "    if(type(i)== int):\n",
    "        l1.append(i)\n",
    "print(l1)"
   ]
  },
  {
   "cell_type": "code",
   "execution_count": null,
   "id": "125ee7f5",
   "metadata": {},
   "outputs": [],
   "source": []
  }
 ],
 "metadata": {
  "kernelspec": {
   "display_name": "Python 3 (ipykernel)",
   "language": "python",
   "name": "python3"
  },
  "language_info": {
   "codemirror_mode": {
    "name": "ipython",
    "version": 3
   },
   "file_extension": ".py",
   "mimetype": "text/x-python",
   "name": "python",
   "nbconvert_exporter": "python",
   "pygments_lexer": "ipython3",
   "version": "3.9.9"
  }
 },
 "nbformat": 4,
 "nbformat_minor": 5
}
