{
 "cells": [
  {
   "cell_type": "code",
   "execution_count": 2,
   "id": "24529d99",
   "metadata": {},
   "outputs": [],
   "source": [
    "class xyz:\n",
    "    def __init__(self, a,b,c):\n",
    "        self.a = a\n",
    "        self.b = b\n",
    "        self.c = c\n",
    "    \n",
    "    def test(self):\n",
    "        print(\"This is my first test method of xyz class\")\n",
    "        \n",
    "    def test1(self):\n",
    "        print(\"Test1 of xyz class\")\n",
    "        \n",
    "    def test2(self):\n",
    "        print(\"Test2 of xyz class\")"
   ]
  },
  {
   "cell_type": "code",
   "execution_count": 3,
   "id": "1c98b5f7",
   "metadata": {},
   "outputs": [],
   "source": [
    "class xyz1 (xyz): # Core syntax for inheritance\n",
    "    pass"
   ]
  },
  {
   "cell_type": "code",
   "execution_count": 4,
   "id": "de5b3c15",
   "metadata": {},
   "outputs": [],
   "source": [
    "p1 = xyz1(1,2,3)"
   ]
  },
  {
   "cell_type": "code",
   "execution_count": 5,
   "id": "1be85f9b",
   "metadata": {},
   "outputs": [
    {
     "data": {
      "text/plain": [
       "1"
      ]
     },
     "execution_count": 5,
     "metadata": {},
     "output_type": "execute_result"
    }
   ],
   "source": [
    "p1.a"
   ]
  },
  {
   "cell_type": "code",
   "execution_count": 6,
   "id": "93c8e76f",
   "metadata": {},
   "outputs": [
    {
     "name": "stdout",
     "output_type": "stream",
     "text": [
      "This is my first test method of xyz class\n"
     ]
    }
   ],
   "source": [
    "p1.test()"
   ]
  },
  {
   "cell_type": "code",
   "execution_count": 7,
   "id": "b1da937d",
   "metadata": {},
   "outputs": [],
   "source": [
    "class xyz1 (xyz):\n",
    "    def test(self):\n",
    "        print(\"Test in the child class\")"
   ]
  },
  {
   "cell_type": "code",
   "execution_count": 8,
   "id": "5c9924bd",
   "metadata": {},
   "outputs": [],
   "source": [
    "p1 = xyz1(1,2,3)"
   ]
  },
  {
   "cell_type": "code",
   "execution_count": 9,
   "id": "c1023af0",
   "metadata": {},
   "outputs": [
    {
     "name": "stdout",
     "output_type": "stream",
     "text": [
      "Test in the child class\n"
     ]
    }
   ],
   "source": [
    "p1.test()"
   ]
  },
  {
   "cell_type": "code",
   "execution_count": 29,
   "id": "ee7a8125",
   "metadata": {},
   "outputs": [],
   "source": [
    "# Multiple class inheritance\n",
    "\n",
    "class xyz:\n",
    "    def __init__(self, a,b,c):\n",
    "        self.a = a\n",
    "        self.b = b\n",
    "        self.c = c\n",
    "        \n",
    "    def test(self):\n",
    "        print(\"This is my first test method of xyz class\")\n",
    "        \n",
    "class xy1:\n",
    "    def __init__(self, p,v,q):\n",
    "        self.p = p\n",
    "        self.v = v\n",
    "        self.q = q\n",
    "        \n",
    "    def test(self):\n",
    "        print(\"This is my first test method of xyz1 class\")\n",
    "        \n",
    "    def test1(self):\n",
    "        print(\"This is my first test method of xyz1 class and test1 method\")\n",
    "        \n",
    "class child(xyz1, xyz):\n",
    "    def __init__(self, *args, **kwargs):\n",
    "        xyz.__init__(self, *args)\n",
    "        xyz1.__init__(self, **kwargs)\n",
    "    "
   ]
  },
  {
   "cell_type": "code",
   "execution_count": 30,
   "id": "5de1daa4",
   "metadata": {},
   "outputs": [
    {
     "ename": "TypeError",
     "evalue": "__init__() got an unexpected keyword argument 'p'",
     "output_type": "error",
     "traceback": [
      "\u001b[0;31m---------------------------------------------------------------------------\u001b[0m",
      "\u001b[0;31mTypeError\u001b[0m                                 Traceback (most recent call last)",
      "\u001b[0;32m/var/folders/bw/xnttl0q52nx09j0kmrlb90dm0000gn/T/ipykernel_2620/2019042089.py\u001b[0m in \u001b[0;36m<module>\u001b[0;34m\u001b[0m\n\u001b[0;32m----> 1\u001b[0;31m \u001b[0mc\u001b[0m \u001b[0;34m=\u001b[0m \u001b[0mchild\u001b[0m\u001b[0;34m(\u001b[0m\u001b[0;36m1\u001b[0m\u001b[0;34m,\u001b[0m\u001b[0;36m2\u001b[0m\u001b[0;34m,\u001b[0m\u001b[0;36m3\u001b[0m\u001b[0;34m,\u001b[0m \u001b[0mp\u001b[0m \u001b[0;34m=\u001b[0m \u001b[0;36m6\u001b[0m\u001b[0;34m,\u001b[0m \u001b[0mq\u001b[0m\u001b[0;34m=\u001b[0m \u001b[0;36m8\u001b[0m\u001b[0;34m)\u001b[0m\u001b[0;34m\u001b[0m\u001b[0;34m\u001b[0m\u001b[0m\n\u001b[0m",
      "\u001b[0;32m/var/folders/bw/xnttl0q52nx09j0kmrlb90dm0000gn/T/ipykernel_2620/1706988684.py\u001b[0m in \u001b[0;36m__init__\u001b[0;34m(self, *args, **kwargs)\u001b[0m\n\u001b[1;32m     25\u001b[0m     \u001b[0;32mdef\u001b[0m \u001b[0m__init__\u001b[0m\u001b[0;34m(\u001b[0m\u001b[0mself\u001b[0m\u001b[0;34m,\u001b[0m \u001b[0;34m*\u001b[0m\u001b[0margs\u001b[0m\u001b[0;34m,\u001b[0m \u001b[0;34m**\u001b[0m\u001b[0mkwargs\u001b[0m\u001b[0;34m)\u001b[0m\u001b[0;34m:\u001b[0m\u001b[0;34m\u001b[0m\u001b[0;34m\u001b[0m\u001b[0m\n\u001b[1;32m     26\u001b[0m         \u001b[0mxyz\u001b[0m\u001b[0;34m.\u001b[0m\u001b[0m__init__\u001b[0m\u001b[0;34m(\u001b[0m\u001b[0mself\u001b[0m\u001b[0;34m,\u001b[0m \u001b[0;34m*\u001b[0m\u001b[0margs\u001b[0m\u001b[0;34m)\u001b[0m\u001b[0;34m\u001b[0m\u001b[0;34m\u001b[0m\u001b[0m\n\u001b[0;32m---> 27\u001b[0;31m         \u001b[0mxyz1\u001b[0m\u001b[0;34m.\u001b[0m\u001b[0m__init__\u001b[0m\u001b[0;34m(\u001b[0m\u001b[0mself\u001b[0m\u001b[0;34m,\u001b[0m \u001b[0;34m**\u001b[0m\u001b[0mkwargs\u001b[0m\u001b[0;34m)\u001b[0m\u001b[0;34m\u001b[0m\u001b[0;34m\u001b[0m\u001b[0m\n\u001b[0m\u001b[1;32m     28\u001b[0m \u001b[0;34m\u001b[0m\u001b[0m\n",
      "\u001b[0;31mTypeError\u001b[0m: __init__() got an unexpected keyword argument 'p'"
     ]
    }
   ],
   "source": [
    "c = child(1,2,3, p = 6, q= 8)"
   ]
  },
  {
   "cell_type": "code",
   "execution_count": 24,
   "id": "64d3f683",
   "metadata": {},
   "outputs": [
    {
     "name": "stdout",
     "output_type": "stream",
     "text": [
      "Test1 of xyz class\n"
     ]
    }
   ],
   "source": [
    "c. test1()"
   ]
  },
  {
   "cell_type": "code",
   "execution_count": 25,
   "id": "356621f2",
   "metadata": {},
   "outputs": [],
   "source": [
    "# Multilevel inheritance\n",
    "class xyz:\n",
    "    def __init__(self, a,b,c):\n",
    "        self.a = a\n",
    "        self.b = b\n",
    "        self.c = c\n",
    "        \n",
    "    def test(self):\n",
    "        print(\"This is my first test method of xyz class\")\n",
    "        \n",
    "class xy1(xyz):\n",
    "        \n",
    "    def test(self):\n",
    "        print(\"This is my first test method of xyz1 class\")\n",
    "        \n",
    "    def test1(self):\n",
    "        print(\"This is my first test1 method of xyz1 class and test1 method\")\n",
    "        \n",
    "class xyz2(xyz1):\n",
    "    def test2(self):\n",
    "        print(\"This is method from class2 test 2\")"
   ]
  },
  {
   "cell_type": "code",
   "execution_count": 27,
   "id": "9233324d",
   "metadata": {},
   "outputs": [],
   "source": [
    "v = xyz2(5,6,7)"
   ]
  },
  {
   "cell_type": "code",
   "execution_count": 28,
   "id": "b3ef6a88",
   "metadata": {},
   "outputs": [
    {
     "name": "stdout",
     "output_type": "stream",
     "text": [
      "This is method from class2 test 2\n"
     ]
    }
   ],
   "source": [
    "v.test2()"
   ]
  },
  {
   "cell_type": "code",
   "execution_count": 31,
   "id": "78d971ec",
   "metadata": {},
   "outputs": [],
   "source": [
    "# in python, acess modifiers are not like java\n",
    "\n",
    "class test:\n",
    "    def __init__(self, a,b,c):\n",
    "        self.a = a\n",
    "        self.b = b\n",
    "        self.c = c"
   ]
  },
  {
   "cell_type": "code",
   "execution_count": 32,
   "id": "f2ded2e5",
   "metadata": {},
   "outputs": [],
   "source": [
    "u = test(4,5,6)"
   ]
  },
  {
   "cell_type": "code",
   "execution_count": 33,
   "id": "2895baf4",
   "metadata": {},
   "outputs": [
    {
     "data": {
      "text/plain": [
       "4"
      ]
     },
     "execution_count": 33,
     "metadata": {},
     "output_type": "execute_result"
    }
   ],
   "source": [
    "u.a"
   ]
  },
  {
   "cell_type": "code",
   "execution_count": 34,
   "id": "f3750f3d",
   "metadata": {},
   "outputs": [],
   "source": [
    "class test1(test):\n",
    "    pass"
   ]
  },
  {
   "cell_type": "code",
   "execution_count": 35,
   "id": "3721b2db",
   "metadata": {},
   "outputs": [],
   "source": [
    "u1 = test1(1,5,6)"
   ]
  },
  {
   "cell_type": "code",
   "execution_count": 36,
   "id": "b8026f7f",
   "metadata": {},
   "outputs": [
    {
     "data": {
      "text/plain": [
       "1"
      ]
     },
     "execution_count": 36,
     "metadata": {},
     "output_type": "execute_result"
    }
   ],
   "source": [
    "u1.a"
   ]
  },
  {
   "cell_type": "code",
   "execution_count": 56,
   "id": "21c05e3a",
   "metadata": {},
   "outputs": [],
   "source": [
    "# Encapsultation is hiding the implementation with access modifiers\n",
    "\n",
    "class test:\n",
    "    def __init__(self, a,b,c):\n",
    "        self._a = a\n",
    "        self.__b = b\n",
    "        self.c = c\n",
    "        \n",
    "class test1(test):\n",
    "    pass\n",
    "#     def __init__(self):\n",
    "#         test.__init__(self)\n",
    "\n",
    "v = test(5,6,7)\n",
    "\n",
    "# No underscore --> public ==> v.a\n",
    "# Single underscore --> protected ==> v._a\n",
    "# Double Underscore --> private  ==> acess like this v._test__b"
   ]
  },
  {
   "cell_type": "code",
   "execution_count": 51,
   "id": "4d5289bf",
   "metadata": {},
   "outputs": [
    {
     "ename": "AttributeError",
     "evalue": "'test' object has no attribute 'a'",
     "output_type": "error",
     "traceback": [
      "\u001b[0;31m---------------------------------------------------------------------------\u001b[0m",
      "\u001b[0;31mAttributeError\u001b[0m                            Traceback (most recent call last)",
      "\u001b[0;32m/var/folders/bw/xnttl0q52nx09j0kmrlb90dm0000gn/T/ipykernel_2620/1557286138.py\u001b[0m in \u001b[0;36m<module>\u001b[0;34m\u001b[0m\n\u001b[0;32m----> 1\u001b[0;31m \u001b[0mv\u001b[0m\u001b[0;34m.\u001b[0m\u001b[0ma\u001b[0m \u001b[0;31m# __ is protected\u001b[0m\u001b[0;34m\u001b[0m\u001b[0;34m\u001b[0m\u001b[0m\n\u001b[0m",
      "\u001b[0;31mAttributeError\u001b[0m: 'test' object has no attribute 'a'"
     ]
    }
   ],
   "source": [
    "v.a # __ is protected "
   ]
  },
  {
   "cell_type": "code",
   "execution_count": 52,
   "id": "9d777aa1",
   "metadata": {},
   "outputs": [
    {
     "data": {
      "text/plain": [
       "5"
      ]
     },
     "execution_count": 52,
     "metadata": {},
     "output_type": "execute_result"
    }
   ],
   "source": [
    "v._a #"
   ]
  },
  {
   "cell_type": "code",
   "execution_count": 53,
   "id": "de322e75",
   "metadata": {},
   "outputs": [
    {
     "data": {
      "text/plain": [
       "6"
      ]
     },
     "execution_count": 53,
     "metadata": {},
     "output_type": "execute_result"
    }
   ],
   "source": [
    "v._test__b # We cant call just v__b"
   ]
  },
  {
   "cell_type": "code",
   "execution_count": 57,
   "id": "447d6d76",
   "metadata": {},
   "outputs": [],
   "source": [
    "v1 = test1(3,4,6)"
   ]
  },
  {
   "cell_type": "code",
   "execution_count": 60,
   "id": "dc7f9ba0",
   "metadata": {},
   "outputs": [
    {
     "data": {
      "text/plain": [
       "3"
      ]
     },
     "execution_count": 60,
     "metadata": {},
     "output_type": "execute_result"
    }
   ],
   "source": [
    "v1._a"
   ]
  },
  {
   "cell_type": "code",
   "execution_count": 61,
   "id": "3cf9c1c1",
   "metadata": {},
   "outputs": [
    {
     "data": {
      "text/plain": [
       "6"
      ]
     },
     "execution_count": 61,
     "metadata": {},
     "output_type": "execute_result"
    }
   ],
   "source": [
    "v1.c"
   ]
  },
  {
   "cell_type": "code",
   "execution_count": 63,
   "id": "39f52aff",
   "metadata": {},
   "outputs": [
    {
     "data": {
      "text/plain": [
       "4"
      ]
     },
     "execution_count": 63,
     "metadata": {},
     "output_type": "execute_result"
    }
   ],
   "source": [
    "v1._test__b"
   ]
  },
  {
   "cell_type": "code",
   "execution_count": 69,
   "id": "43c8c941",
   "metadata": {},
   "outputs": [],
   "source": [
    "class bonuscalculator:\n",
    "    def __init__(self, empid, empidrating):\n",
    "        self.empid = empid\n",
    "        self.emprating = empidrating\n",
    "        self.__bonusforratingA = \"70%\"\n",
    "        self.__bonusforratingB = \"60%\"\n",
    "        self.__bonusforratingC = \"40%\"\n",
    "        \n",
    "    def bonuscalculator(self):\n",
    "        if self.emprating == 'A':\n",
    "            bonus = self.__bonusforratingA\n",
    "            return bonus\n",
    "        elif self.emprating == \"B\":\n",
    "            bonus = self.__bonusforratingB\n",
    "            return bonus\n",
    "        else:\n",
    "            bonus = self.__bonusforratingC\n",
    "            return bonus\n",
    "        "
   ]
  },
  {
   "cell_type": "code",
   "execution_count": 70,
   "id": "fbf4417a",
   "metadata": {},
   "outputs": [],
   "source": [
    "emp1 = bonuscalculator(101, \"A\")\n",
    "emp2 = bonuscalculator(102, \"B\")\n",
    "emp3 = bonuscalculator(101, \"C\")"
   ]
  },
  {
   "cell_type": "markdown",
   "id": "d40d9042",
   "metadata": {},
   "source": [
    "emp1.bonuscalculator()"
   ]
  },
  {
   "cell_type": "code",
   "execution_count": 71,
   "id": "29e7fafa",
   "metadata": {},
   "outputs": [
    {
     "data": {
      "text/plain": [
       "'70%'"
      ]
     },
     "execution_count": 71,
     "metadata": {},
     "output_type": "execute_result"
    }
   ],
   "source": [
    "emp1.bonuscalculator()"
   ]
  },
  {
   "cell_type": "code",
   "execution_count": null,
   "id": "39d2f35b",
   "metadata": {},
   "outputs": [],
   "source": []
  }
 ],
 "metadata": {
  "kernelspec": {
   "display_name": "Python 3 (ipykernel)",
   "language": "python",
   "name": "python3"
  },
  "language_info": {
   "codemirror_mode": {
    "name": "ipython",
    "version": 3
   },
   "file_extension": ".py",
   "mimetype": "text/x-python",
   "name": "python",
   "nbconvert_exporter": "python",
   "pygments_lexer": "ipython3",
   "version": "3.9.7"
  }
 },
 "nbformat": 4,
 "nbformat_minor": 5
}
