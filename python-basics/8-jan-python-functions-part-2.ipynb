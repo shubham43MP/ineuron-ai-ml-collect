{
 "cells": [
  {
   "cell_type": "code",
   "execution_count": 1,
   "id": "00fb5e88",
   "metadata": {},
   "outputs": [],
   "source": [
    "def test(a,b,c,d,e):\n",
    "    return a,b,c,d,e"
   ]
  },
  {
   "cell_type": "code",
   "execution_count": 2,
   "id": "a599b6ad",
   "metadata": {},
   "outputs": [
    {
     "data": {
      "text/plain": [
       "(3, 6, 2, 56, 789)"
      ]
     },
     "execution_count": 2,
     "metadata": {},
     "output_type": "execute_result"
    }
   ],
   "source": [
    "test(3,6,2,56,789)"
   ]
  },
  {
   "cell_type": "code",
   "execution_count": 4,
   "id": "e8b7c47d",
   "metadata": {},
   "outputs": [],
   "source": [
    "def test1(*args):\n",
    "    return args"
   ]
  },
  {
   "cell_type": "code",
   "execution_count": 5,
   "id": "dbd5f36a",
   "metadata": {},
   "outputs": [
    {
     "data": {
      "text/plain": [
       "(3, 6, 2, 56, 789)"
      ]
     },
     "execution_count": 5,
     "metadata": {},
     "output_type": "execute_result"
    }
   ],
   "source": [
    "test1(3,6,2,56,789)"
   ]
  },
  {
   "cell_type": "code",
   "execution_count": 6,
   "id": "c31a16bb",
   "metadata": {},
   "outputs": [
    {
     "data": {
      "text/plain": [
       "(56, 789)"
      ]
     },
     "execution_count": 6,
     "metadata": {},
     "output_type": "execute_result"
    }
   ],
   "source": [
    "test1(56,789)"
   ]
  },
  {
   "cell_type": "code",
   "execution_count": 8,
   "id": "33733d8e",
   "metadata": {},
   "outputs": [],
   "source": [
    "def test2(*abc):\n",
    "    return abc"
   ]
  },
  {
   "cell_type": "code",
   "execution_count": 9,
   "id": "00c07412",
   "metadata": {},
   "outputs": [
    {
     "data": {
      "text/plain": [
       "(4, 'shubham')"
      ]
     },
     "execution_count": 9,
     "metadata": {},
     "output_type": "execute_result"
    }
   ],
   "source": [
    "test2(4, \"shubham\")"
   ]
  },
  {
   "cell_type": "code",
   "execution_count": 10,
   "id": "9e4c51e5",
   "metadata": {},
   "outputs": [],
   "source": [
    "def test3(*sudh, a):\n",
    "    return a, sudh"
   ]
  },
  {
   "cell_type": "code",
   "execution_count": 12,
   "id": "6781e347",
   "metadata": {},
   "outputs": [
    {
     "data": {
      "text/plain": [
       "(7, (34, 56, 74))"
      ]
     },
     "execution_count": 12,
     "metadata": {},
     "output_type": "execute_result"
    }
   ],
   "source": [
    "test3(34, 56, 74, a= 7)"
   ]
  },
  {
   "cell_type": "code",
   "execution_count": 15,
   "id": "d83a717d",
   "metadata": {},
   "outputs": [],
   "source": [
    "def test4(*sudh, a,c):\n",
    "    return sudh, a, c"
   ]
  },
  {
   "cell_type": "code",
   "execution_count": 16,
   "id": "557649ca",
   "metadata": {},
   "outputs": [
    {
     "data": {
      "text/plain": [
       "((5, 6, 'u'), 'shubham', [1, 51.6])"
      ]
     },
     "execution_count": 16,
     "metadata": {},
     "output_type": "execute_result"
    }
   ],
   "source": [
    "test4(5,6,\"u\", a=\"shubham\", c=[1,51.6])"
   ]
  },
  {
   "cell_type": "code",
   "execution_count": 17,
   "id": "f8eab419",
   "metadata": {},
   "outputs": [],
   "source": [
    "def test5(a, *sudh):\n",
    "    return a, sudh"
   ]
  },
  {
   "cell_type": "code",
   "execution_count": 18,
   "id": "511c6d01",
   "metadata": {},
   "outputs": [
    {
     "data": {
      "text/plain": [
       "(5, (6, 'u'))"
      ]
     },
     "execution_count": 18,
     "metadata": {},
     "output_type": "execute_result"
    }
   ],
   "source": [
    "test5(5,6,\"u\")"
   ]
  },
  {
   "cell_type": "code",
   "execution_count": 19,
   "id": "318f8347",
   "metadata": {},
   "outputs": [],
   "source": [
    "def test6(a, *sudh, b, c):\n",
    "    return a, sudh, b, c"
   ]
  },
  {
   "cell_type": "code",
   "execution_count": 20,
   "id": "49b4efbf",
   "metadata": {},
   "outputs": [
    {
     "data": {
      "text/plain": [
       "('shubhan', (5, 6, 7, 4, 3), 'jshdjks', 'Done')"
      ]
     },
     "execution_count": 20,
     "metadata": {},
     "output_type": "execute_result"
    }
   ],
   "source": [
    "test6(\"shubhan\", [5,6,7,4,3], [\"abc\",\"done\",7,8,9])"
   ]
  },
  {
   "cell_type": "code",
   "execution_count": 26,
   "id": "866448b1",
   "metadata": {},
   "outputs": [],
   "source": [
    "def test7(*args):\n",
    "    l = []\n",
    "    for i in args:\n",
    "        if type(i) == list:\n",
    "            l.append(i)\n",
    "    return l"
   ]
  },
  {
   "cell_type": "code",
   "execution_count": 27,
   "id": "a51182e3",
   "metadata": {},
   "outputs": [
    {
     "data": {
      "text/plain": [
       "[[5, 6, 7, 4, 3], ['abc', 'done', 7, 8, 9]]"
      ]
     },
     "execution_count": 27,
     "metadata": {},
     "output_type": "execute_result"
    }
   ],
   "source": [
    "test7(\"shubhan\", [5,6,7,4,3], [\"abc\",\"done\",7,8,9])"
   ]
  },
  {
   "cell_type": "code",
   "execution_count": 28,
   "id": "59a77d34",
   "metadata": {},
   "outputs": [],
   "source": [
    "# single asterisk (*) means any values\n",
    "# double asterisk (**) means any kind of key value pair data"
   ]
  },
  {
   "cell_type": "code",
   "execution_count": 30,
   "id": "ccbf6c19",
   "metadata": {},
   "outputs": [],
   "source": [
    "def test8(**kwargs): # Returns a dictionary \n",
    "    return kwargs"
   ]
  },
  {
   "cell_type": "code",
   "execution_count": 33,
   "id": "227b7ac8",
   "metadata": {},
   "outputs": [
    {
     "data": {
      "text/plain": [
       "{'a': 7, 'b': 'abc'}"
      ]
     },
     "execution_count": 33,
     "metadata": {},
     "output_type": "execute_result"
    }
   ],
   "source": [
    "d1 = {\"key1\": 5546, \"key2\": 4536, \"key3\": \"Shubham\"}\n",
    "test8(a= 7, b =\"abc\")"
   ]
  },
  {
   "cell_type": "code",
   "execution_count": 34,
   "id": "0b53c4ea",
   "metadata": {},
   "outputs": [],
   "source": [
    "def test9(**shubh):\n",
    "    return shubh"
   ]
  },
  {
   "cell_type": "code",
   "execution_count": 36,
   "id": "5b7b51af",
   "metadata": {},
   "outputs": [
    {
     "data": {
      "text/plain": [
       "{'name': 'Shubham', 'age': 31, 'phone': '4567'}"
      ]
     },
     "execution_count": 36,
     "metadata": {},
     "output_type": "execute_result"
    }
   ],
   "source": [
    "test9(name=\"Shubham\", age=31, phone = \"4567\")"
   ]
  },
  {
   "cell_type": "code",
   "execution_count": 37,
   "id": "bff4333f",
   "metadata": {},
   "outputs": [],
   "source": [
    "def test10(a, **sudh):\n",
    "    return sudh, a"
   ]
  },
  {
   "cell_type": "code",
   "execution_count": 38,
   "id": "516b62a6",
   "metadata": {},
   "outputs": [
    {
     "data": {
      "text/plain": [
       "({'b': 65, 'c': 78}, 89)"
      ]
     },
     "execution_count": 38,
     "metadata": {},
     "output_type": "execute_result"
    }
   ],
   "source": [
    "test10(89, b = 65, c = 78)"
   ]
  },
  {
   "cell_type": "code",
   "execution_count": 39,
   "id": "1f3ac7f2",
   "metadata": {},
   "outputs": [
    {
     "ename": "SyntaxError",
     "evalue": "invalid syntax (3261171459.py, line 1)",
     "output_type": "error",
     "traceback": [
      "\u001b[0;36m  File \u001b[0;32m\"/var/folders/bw/xnttl0q52nx09j0kmrlb90dm0000gn/T/ipykernel_2753/3261171459.py\"\u001b[0;36m, line \u001b[0;32m1\u001b[0m\n\u001b[0;31m    def test10(a, **sudhm, *args):\u001b[0m\n\u001b[0m                           ^\u001b[0m\n\u001b[0;31mSyntaxError\u001b[0m\u001b[0;31m:\u001b[0m invalid syntax\n"
     ]
    }
   ],
   "source": [
    "def test10(a, **sudhm, *args): # Invalid syntax. We cant use * after **\n",
    "    return sudh, a, args"
   ]
  },
  {
   "cell_type": "code",
   "execution_count": 42,
   "id": "f937a857",
   "metadata": {},
   "outputs": [],
   "source": [
    "def test11(a, *sudhm, **args): # This will work\n",
    "    return a, sudhm, args"
   ]
  },
  {
   "cell_type": "code",
   "execution_count": 43,
   "id": "bb15c617",
   "metadata": {},
   "outputs": [
    {
     "data": {
      "text/plain": [
       "(1, (3, 4, 5, 6, 7), {'g': 4576, 'l': 67})"
      ]
     },
     "execution_count": 43,
     "metadata": {},
     "output_type": "execute_result"
    }
   ],
   "source": [
    "test11(1,3,4,5,6,7, g =4576, l = 67)"
   ]
  },
  {
   "cell_type": "code",
   "execution_count": 44,
   "id": "8c1502e4",
   "metadata": {},
   "outputs": [],
   "source": [
    "def test13 (a,b):\n",
    "    return a*b"
   ]
  },
  {
   "cell_type": "code",
   "execution_count": 45,
   "id": "cc326e49",
   "metadata": {},
   "outputs": [
    {
     "data": {
      "text/plain": [
       "42"
      ]
     },
     "execution_count": 45,
     "metadata": {},
     "output_type": "execute_result"
    }
   ],
   "source": [
    "test13(6,7)"
   ]
  },
  {
   "cell_type": "code",
   "execution_count": 50,
   "id": "f07a4b4a",
   "metadata": {},
   "outputs": [],
   "source": [
    "a = lambda a,b: (a*b, a+b) # Mostly used for single liners but for complezx function use regular func"
   ]
  },
  {
   "cell_type": "code",
   "execution_count": 51,
   "id": "fb6cd7d4",
   "metadata": {},
   "outputs": [
    {
     "data": {
      "text/plain": [
       "(42, 13)"
      ]
     },
     "execution_count": 51,
     "metadata": {},
     "output_type": "execute_result"
    }
   ],
   "source": [
    "a(7, 6)"
   ]
  },
  {
   "cell_type": "code",
   "execution_count": 52,
   "id": "68d0eecc",
   "metadata": {},
   "outputs": [
    {
     "name": "stdout",
     "output_type": "stream",
     "text": [
      "[3, 4, 5, 6, 7, 8, 9, 11]\n"
     ]
    }
   ],
   "source": [
    "# List Comprehension\n",
    "\n",
    "l = [1,2,3,4,5,6,7,9]\n",
    "result = []\n",
    "for i in l:\n",
    "    result.append(i +2)\n",
    "print(result)"
   ]
  },
  {
   "cell_type": "code",
   "execution_count": 54,
   "id": "13dfaa41",
   "metadata": {},
   "outputs": [
    {
     "data": {
      "text/plain": [
       "[3, 4, 5, 6, 7, 8, 9, 11]"
      ]
     },
     "execution_count": 54,
     "metadata": {},
     "output_type": "execute_result"
    }
   ],
   "source": [
    "def test14(a):\n",
    "    l1 = []\n",
    "    for i in a:\n",
    "        l1.append(i +2)\n",
    "    return l1\n",
    "test14(l)"
   ]
  },
  {
   "cell_type": "code",
   "execution_count": 59,
   "id": "fd87f542",
   "metadata": {},
   "outputs": [
    {
     "data": {
      "text/plain": [
       "[2, 4, 6]"
      ]
     },
     "execution_count": 59,
     "metadata": {},
     "output_type": "execute_result"
    }
   ],
   "source": [
    "[i*2 for i in l if i < 4] # This is a list comprehension"
   ]
  },
  {
   "cell_type": "code",
   "execution_count": 60,
   "id": "8fce5692",
   "metadata": {},
   "outputs": [],
   "source": [
    "# Iterator vs iterable --> \n",
    "# String is iterable but or iterator"
   ]
  },
  {
   "cell_type": "code",
   "execution_count": 61,
   "id": "ed1f309a",
   "metadata": {},
   "outputs": [],
   "source": [
    "a = \"abc\""
   ]
  },
  {
   "cell_type": "code",
   "execution_count": 62,
   "id": "125ef1d3",
   "metadata": {},
   "outputs": [
    {
     "ename": "TypeError",
     "evalue": "'str' object is not an iterator",
     "output_type": "error",
     "traceback": [
      "\u001b[0;31m---------------------------------------------------------------------------\u001b[0m",
      "\u001b[0;31mTypeError\u001b[0m                                 Traceback (most recent call last)",
      "\u001b[0;32m/var/folders/bw/xnttl0q52nx09j0kmrlb90dm0000gn/T/ipykernel_2753/1242322984.py\u001b[0m in \u001b[0;36m<module>\u001b[0;34m\u001b[0m\n\u001b[0;32m----> 1\u001b[0;31m \u001b[0mnext\u001b[0m\u001b[0;34m(\u001b[0m\u001b[0ma\u001b[0m\u001b[0;34m)\u001b[0m\u001b[0;34m\u001b[0m\u001b[0;34m\u001b[0m\u001b[0m\n\u001b[0m",
      "\u001b[0;31mTypeError\u001b[0m: 'str' object is not an iterator"
     ]
    }
   ],
   "source": [
    "next(a)"
   ]
  },
  {
   "cell_type": "code",
   "execution_count": 69,
   "id": "082eefb5",
   "metadata": {},
   "outputs": [],
   "source": [
    "b  = iter(a)"
   ]
  },
  {
   "cell_type": "code",
   "execution_count": 70,
   "id": "4483dd98",
   "metadata": {},
   "outputs": [
    {
     "data": {
      "text/plain": [
       "'a'"
      ]
     },
     "execution_count": 70,
     "metadata": {},
     "output_type": "execute_result"
    }
   ],
   "source": [
    "next(b)"
   ]
  },
  {
   "cell_type": "code",
   "execution_count": 71,
   "id": "93f89260",
   "metadata": {},
   "outputs": [
    {
     "data": {
      "text/plain": [
       "'b'"
      ]
     },
     "execution_count": 71,
     "metadata": {},
     "output_type": "execute_result"
    }
   ],
   "source": [
    "next(b)"
   ]
  },
  {
   "cell_type": "code",
   "execution_count": 72,
   "id": "ab588a59",
   "metadata": {},
   "outputs": [
    {
     "ename": "TypeError",
     "evalue": "'int' object is not iterable",
     "output_type": "error",
     "traceback": [
      "\u001b[0;31m---------------------------------------------------------------------------\u001b[0m",
      "\u001b[0;31mTypeError\u001b[0m                                 Traceback (most recent call last)",
      "\u001b[0;32m/var/folders/bw/xnttl0q52nx09j0kmrlb90dm0000gn/T/ipykernel_2753/3186544426.py\u001b[0m in \u001b[0;36m<module>\u001b[0;34m\u001b[0m\n\u001b[0;32m----> 1\u001b[0;31m \u001b[0miter\u001b[0m\u001b[0;34m(\u001b[0m\u001b[0;36m45\u001b[0m\u001b[0;34m)\u001b[0m\u001b[0;34m\u001b[0m\u001b[0;34m\u001b[0m\u001b[0m\n\u001b[0m",
      "\u001b[0;31mTypeError\u001b[0m: 'int' object is not iterable"
     ]
    }
   ],
   "source": [
    "iter(45)"
   ]
  },
  {
   "cell_type": "code",
   "execution_count": 73,
   "id": "6f11be8e",
   "metadata": {},
   "outputs": [],
   "source": [
    "# iNTEGER IS NOT ITERABLE SO CANT CONVERT IT TO ITERATOR\n",
    "# if element is not iterable, it cant be iterated"
   ]
  },
  {
   "cell_type": "code",
   "execution_count": null,
   "id": "d4055fcc",
   "metadata": {},
   "outputs": [],
   "source": [
    "# All iterables are iterators: like string, list tuple etc\n",
    "#"
   ]
  }
 ],
 "metadata": {
  "kernelspec": {
   "display_name": "Python 3 (ipykernel)",
   "language": "python",
   "name": "python3"
  },
  "language_info": {
   "codemirror_mode": {
    "name": "ipython",
    "version": 3
   },
   "file_extension": ".py",
   "mimetype": "text/x-python",
   "name": "python",
   "nbconvert_exporter": "python",
   "pygments_lexer": "ipython3",
   "version": "3.9.7"
  }
 },
 "nbformat": 4,
 "nbformat_minor": 5
}
