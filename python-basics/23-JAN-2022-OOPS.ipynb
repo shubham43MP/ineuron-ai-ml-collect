{
 "cells": [
  {
   "cell_type": "code",
   "execution_count": 34,
   "id": "a0905200",
   "metadata": {},
   "outputs": [],
   "source": [
    "class Car:\n",
    "    def __init__(self, body_type, engine, fuel_type):\n",
    "        # Self is just a convention to take a pointer as the first argument of the function\n",
    "        # Self acts as aa pointer to the class NOTHING MUCH. Self is not a keyword REMEMBER\n",
    "        # Init is like a constructor\n",
    "        self.body_type = body_type\n",
    "        self.engine = engine\n",
    "        self.fuel_type = fuel_type\n",
    "    \n",
    "    def test(self):\n",
    "        print(\"This is my first method in car class\", self.engine)\n",
    "        \n",
    "    def isPetrol(self):\n",
    "        return self.fuel_type != 'Diesel'\n",
    "    \n",
    "    def mileage(self):\n",
    "        if self.isPetrol():\n",
    "            return \"15-25 KMPL\"\n",
    "        return \"16-30 KMPL\""
   ]
  },
  {
   "cell_type": "code",
   "execution_count": 35,
   "id": "f24f3f91",
   "metadata": {},
   "outputs": [],
   "source": [
    "fortuner = Car(\"Sedan\", \"1800 cc\", \"Diesel\")"
   ]
  },
  {
   "cell_type": "code",
   "execution_count": 36,
   "id": "9501643c",
   "metadata": {},
   "outputs": [
    {
     "data": {
      "text/plain": [
       "'Sedan'"
      ]
     },
     "execution_count": 36,
     "metadata": {},
     "output_type": "execute_result"
    }
   ],
   "source": [
    "fortuner.body_type"
   ]
  },
  {
   "cell_type": "code",
   "execution_count": 37,
   "id": "70371f2d",
   "metadata": {},
   "outputs": [
    {
     "name": "stdout",
     "output_type": "stream",
     "text": [
      "This is my first method in car class 1800 cc\n"
     ]
    }
   ],
   "source": [
    "fortuner.test()"
   ]
  },
  {
   "cell_type": "code",
   "execution_count": 38,
   "id": "d4fc204e",
   "metadata": {},
   "outputs": [
    {
     "data": {
      "text/plain": [
       "'16-30 KMPL'"
      ]
     },
     "execution_count": 38,
     "metadata": {},
     "output_type": "execute_result"
    }
   ],
   "source": [
    "fortuner.mileage()"
   ]
  },
  {
   "cell_type": "code",
   "execution_count": 39,
   "id": "731a3d04",
   "metadata": {},
   "outputs": [],
   "source": [
    "tiago = Car(\"HATCHBACK\", \"1200 cc\", \"Petrol\")"
   ]
  },
  {
   "cell_type": "code",
   "execution_count": 40,
   "id": "115d3b9f",
   "metadata": {},
   "outputs": [
    {
     "data": {
      "text/plain": [
       "'15-25 KMPL'"
      ]
     },
     "execution_count": 40,
     "metadata": {},
     "output_type": "execute_result"
    }
   ],
   "source": [
    "tiago.mileage()"
   ]
  },
  {
   "cell_type": "code",
   "execution_count": 85,
   "id": "2badb10e",
   "metadata": {},
   "outputs": [],
   "source": [
    "class dict_parser:\n",
    "    def __init__(self, d):\n",
    "        if type(d) != dict:\n",
    "            raise Exception('Not a dictionary, please enter a dictionary')\n",
    "        self.d = d\n",
    "        \n",
    "    def getDictKeys(self):\n",
    "        return self.d.keys()\n",
    "    \n",
    "    def getDictValues(self):\n",
    "        return self.d.values()\n",
    "    \n",
    "    def insertKeyValue(self, key, value):\n",
    "        self.d[key] = value\n",
    "    "
   ]
  },
  {
   "cell_type": "code",
   "execution_count": 86,
   "id": "73160b1b",
   "metadata": {},
   "outputs": [],
   "source": [
    "d = {\"key1\": 10, \"key2\": 23}"
   ]
  },
  {
   "cell_type": "code",
   "execution_count": 87,
   "id": "da68f07f",
   "metadata": {},
   "outputs": [],
   "source": [
    "dictionaryExplorer = dict_parser(d)"
   ]
  },
  {
   "cell_type": "code",
   "execution_count": 93,
   "id": "ed25b942",
   "metadata": {},
   "outputs": [
    {
     "data": {
      "text/plain": [
       "dict_keys(['key1', 'key2', 'key3'])"
      ]
     },
     "execution_count": 93,
     "metadata": {},
     "output_type": "execute_result"
    }
   ],
   "source": [
    "dictionaryExplorer.getDictKeys()"
   ]
  },
  {
   "cell_type": "code",
   "execution_count": 89,
   "id": "cc78640f",
   "metadata": {},
   "outputs": [
    {
     "data": {
      "text/plain": [
       "dict_values([10, 23])"
      ]
     },
     "execution_count": 89,
     "metadata": {},
     "output_type": "execute_result"
    }
   ],
   "source": [
    "dictionaryExplorer.getDictValues()"
   ]
  },
  {
   "cell_type": "code",
   "execution_count": 90,
   "id": "ceb61e83",
   "metadata": {},
   "outputs": [],
   "source": [
    "l = [1,2,3,4,5,6]"
   ]
  },
  {
   "cell_type": "code",
   "execution_count": 91,
   "id": "4fc2094e",
   "metadata": {},
   "outputs": [
    {
     "ename": "Exception",
     "evalue": "Not a dictionary, please enter a dictionary",
     "output_type": "error",
     "traceback": [
      "\u001b[0;31m---------------------------------------------------------------------------\u001b[0m",
      "\u001b[0;31mException\u001b[0m                                 Traceback (most recent call last)",
      "\u001b[0;32m/var/folders/bw/xnttl0q52nx09j0kmrlb90dm0000gn/T/ipykernel_1425/3738932905.py\u001b[0m in \u001b[0;36m<module>\u001b[0;34m\u001b[0m\n\u001b[0;32m----> 1\u001b[0;31m \u001b[0mdict1\u001b[0m \u001b[0;34m=\u001b[0m \u001b[0mdict_parser\u001b[0m\u001b[0;34m(\u001b[0m\u001b[0ml\u001b[0m\u001b[0;34m)\u001b[0m\u001b[0;34m\u001b[0m\u001b[0;34m\u001b[0m\u001b[0m\n\u001b[0m",
      "\u001b[0;32m/var/folders/bw/xnttl0q52nx09j0kmrlb90dm0000gn/T/ipykernel_1425/4074601340.py\u001b[0m in \u001b[0;36m__init__\u001b[0;34m(self, d)\u001b[0m\n\u001b[1;32m      2\u001b[0m     \u001b[0;32mdef\u001b[0m \u001b[0m__init__\u001b[0m\u001b[0;34m(\u001b[0m\u001b[0mself\u001b[0m\u001b[0;34m,\u001b[0m \u001b[0md\u001b[0m\u001b[0;34m)\u001b[0m\u001b[0;34m:\u001b[0m\u001b[0;34m\u001b[0m\u001b[0;34m\u001b[0m\u001b[0m\n\u001b[1;32m      3\u001b[0m         \u001b[0;32mif\u001b[0m \u001b[0mtype\u001b[0m\u001b[0;34m(\u001b[0m\u001b[0md\u001b[0m\u001b[0;34m)\u001b[0m \u001b[0;34m!=\u001b[0m \u001b[0mdict\u001b[0m\u001b[0;34m:\u001b[0m\u001b[0;34m\u001b[0m\u001b[0;34m\u001b[0m\u001b[0m\n\u001b[0;32m----> 4\u001b[0;31m             \u001b[0;32mraise\u001b[0m \u001b[0mException\u001b[0m\u001b[0;34m(\u001b[0m\u001b[0;34m'Not a dictionary, please enter a dictionary'\u001b[0m\u001b[0;34m)\u001b[0m\u001b[0;34m\u001b[0m\u001b[0;34m\u001b[0m\u001b[0m\n\u001b[0m\u001b[1;32m      5\u001b[0m         \u001b[0mself\u001b[0m\u001b[0;34m.\u001b[0m\u001b[0md\u001b[0m \u001b[0;34m=\u001b[0m \u001b[0md\u001b[0m\u001b[0;34m\u001b[0m\u001b[0;34m\u001b[0m\u001b[0m\n\u001b[1;32m      6\u001b[0m \u001b[0;34m\u001b[0m\u001b[0m\n",
      "\u001b[0;31mException\u001b[0m: Not a dictionary, please enter a dictionary"
     ]
    }
   ],
   "source": [
    "dict1 = dict_parser(l)"
   ]
  },
  {
   "cell_type": "code",
   "execution_count": 94,
   "id": "2e662953",
   "metadata": {},
   "outputs": [],
   "source": [
    "dictionaryExplorer.insertKeyValue(\"key3\", 89)"
   ]
  },
  {
   "cell_type": "code",
   "execution_count": 95,
   "id": "2aacd856",
   "metadata": {},
   "outputs": [
    {
     "data": {
      "text/plain": [
       "<_io.TextIOWrapper name='mydict.py' mode='w' encoding='UTF-8'>"
      ]
     },
     "execution_count": 95,
     "metadata": {},
     "output_type": "execute_result"
    }
   ],
   "source": [
    "open(\"mydict.py\", \"w\")"
   ]
  },
  {
   "cell_type": "code",
   "execution_count": 96,
   "id": "0e6df2e7",
   "metadata": {},
   "outputs": [
    {
     "name": "stdout",
     "output_type": "stream",
     "text": [
      "15-jan-2022-exception-handling-and-logging.ipynb\r\n",
      "19dec-python-program-discussion.ipynb\r\n",
      "20-dec-python-program-discussion.ipynb\r\n",
      "21-dec-python-program-discussion.ipynb\r\n",
      "23-JAN-2022-OOPS.ipynb\r\n",
      "23-dec-function.ipynb\r\n",
      "8-jan-python-functions-part-2.ipynb\r\n",
      "9-jan-python-iterator-generator.ipynb\r\n",
      "basic-2-dec5.ipynb\r\n",
      "basic-3-dec18-tuples-set-dict.ipynb\r\n",
      "google.txt\r\n",
      "mydict.py\r\n",
      "pythonbasic-1-dec-4.ipynb\r\n",
      "test.IPYNB\r\n",
      "test.log\r\n",
      "test.txt\r\n",
      "test1.text\r\n",
      "test1classdec4.ipynb\r\n"
     ]
    }
   ],
   "source": [
    "ls"
   ]
  },
  {
   "cell_type": "code",
   "execution_count": 97,
   "id": "b5ebe002",
   "metadata": {},
   "outputs": [],
   "source": [
    "import mydict"
   ]
  },
  {
   "cell_type": "code",
   "execution_count": 98,
   "id": "76edb145",
   "metadata": {},
   "outputs": [],
   "source": [
    "d = {\"key1\": 10, \"key2\": 23}"
   ]
  },
  {
   "cell_type": "code",
   "execution_count": 100,
   "id": "35885b66",
   "metadata": {},
   "outputs": [],
   "source": [
    "dct = mydict.dictionary_parser(d)"
   ]
  },
  {
   "cell_type": "code",
   "execution_count": 101,
   "id": "1bc76add",
   "metadata": {},
   "outputs": [
    {
     "data": {
      "text/plain": [
       "dict_keys(['key1', 'key2'])"
      ]
     },
     "execution_count": 101,
     "metadata": {},
     "output_type": "execute_result"
    }
   ],
   "source": [
    "dct.getDictKeys()"
   ]
  },
  {
   "cell_type": "code",
   "execution_count": 112,
   "id": "22416be6",
   "metadata": {},
   "outputs": [],
   "source": [
    "from mydict import dictionary_parser"
   ]
  },
  {
   "cell_type": "code",
   "execution_count": 109,
   "id": "f7bd5b01",
   "metadata": {},
   "outputs": [
    {
     "ename": "AttributeError",
     "evalue": "module 'mydict' has no attribute 'Car1'",
     "output_type": "error",
     "traceback": [
      "\u001b[0;31m---------------------------------------------------------------------------\u001b[0m",
      "\u001b[0;31mAttributeError\u001b[0m                            Traceback (most recent call last)",
      "\u001b[0;32m/var/folders/bw/xnttl0q52nx09j0kmrlb90dm0000gn/T/ipykernel_1425/4235199699.py\u001b[0m in \u001b[0;36m<module>\u001b[0;34m\u001b[0m\n\u001b[0;32m----> 1\u001b[0;31m \u001b[0mmydict\u001b[0m\u001b[0;34m.\u001b[0m\u001b[0mCar1\u001b[0m\u001b[0;34m\u001b[0m\u001b[0;34m\u001b[0m\u001b[0m\n\u001b[0m",
      "\u001b[0;31mAttributeError\u001b[0m: module 'mydict' has no attribute 'Car1'"
     ]
    }
   ],
   "source": []
  },
  {
   "cell_type": "code",
   "execution_count": null,
   "id": "b1987e22",
   "metadata": {},
   "outputs": [],
   "source": []
  }
 ],
 "metadata": {
  "kernelspec": {
   "display_name": "Python 3 (ipykernel)",
   "language": "python",
   "name": "python3"
  },
  "language_info": {
   "codemirror_mode": {
    "name": "ipython",
    "version": 3
   },
   "file_extension": ".py",
   "mimetype": "text/x-python",
   "name": "python",
   "nbconvert_exporter": "python",
   "pygments_lexer": "ipython3",
   "version": "3.9.7"
  }
 },
 "nbformat": 4,
 "nbformat_minor": 5
}
