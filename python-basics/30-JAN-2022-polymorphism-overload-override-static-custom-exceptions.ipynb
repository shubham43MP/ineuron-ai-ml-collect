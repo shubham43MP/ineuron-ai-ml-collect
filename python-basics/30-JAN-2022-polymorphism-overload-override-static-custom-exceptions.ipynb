{
 "cells": [
  {
   "cell_type": "code",
   "execution_count": 1,
   "id": "1c10cd53",
   "metadata": {},
   "outputs": [],
   "source": [
    "# Polymorphism"
   ]
  },
  {
   "cell_type": "code",
   "execution_count": 2,
   "id": "0a5445ad",
   "metadata": {},
   "outputs": [],
   "source": [
    "# Polymorphism means that multiple forms or a single entity\n",
    "# Technically its nothing but a function with multiple forms with same function name"
   ]
  },
  {
   "cell_type": "code",
   "execution_count": 3,
   "id": "d409a5fd",
   "metadata": {},
   "outputs": [],
   "source": [
    "def test(a,b):\n",
    "    return a+b"
   ]
  },
  {
   "cell_type": "code",
   "execution_count": 4,
   "id": "b3dcf456",
   "metadata": {},
   "outputs": [
    {
     "data": {
      "text/plain": [
       "7"
      ]
     },
     "execution_count": 4,
     "metadata": {},
     "output_type": "execute_result"
    }
   ],
   "source": [
    "test(3,4)"
   ]
  },
  {
   "cell_type": "code",
   "execution_count": 5,
   "id": "1c155ad0",
   "metadata": {},
   "outputs": [
    {
     "data": {
      "text/plain": [
       "'ABCKLJ'"
      ]
     },
     "execution_count": 5,
     "metadata": {},
     "output_type": "execute_result"
    }
   ],
   "source": [
    "test(\"ABC\", \"KLJ\")"
   ]
  },
  {
   "cell_type": "code",
   "execution_count": 6,
   "id": "0dd39aa4",
   "metadata": {},
   "outputs": [],
   "source": [
    "class insta:\n",
    "    def share_stories(self):\n",
    "        print(\"this shares insta stories\")\n",
    "        \n",
    "class facebook:\n",
    "    def share_stories(self):\n",
    "        print(\"this shares facebook stories\")"
   ]
  },
  {
   "cell_type": "code",
   "execution_count": 7,
   "id": "a7d55fff",
   "metadata": {},
   "outputs": [],
   "source": [
    "def sharestories(app):\n",
    "    app.share_stories()"
   ]
  },
  {
   "cell_type": "code",
   "execution_count": 8,
   "id": "f2619dcd",
   "metadata": {},
   "outputs": [],
   "source": [
    "i = insta()"
   ]
  },
  {
   "cell_type": "code",
   "execution_count": 9,
   "id": "2817beb7",
   "metadata": {},
   "outputs": [],
   "source": [
    "f = facebook()"
   ]
  },
  {
   "cell_type": "code",
   "execution_count": 10,
   "id": "e7c4cfe1",
   "metadata": {},
   "outputs": [
    {
     "name": "stdout",
     "output_type": "stream",
     "text": [
      "this shares insta stories\n"
     ]
    }
   ],
   "source": [
    "sharestories(i)"
   ]
  },
  {
   "cell_type": "code",
   "execution_count": 11,
   "id": "f0846e3a",
   "metadata": {},
   "outputs": [],
   "source": [
    "class social_media:\n",
    "    def share_stories(self):\n",
    "        print(\"Share a story\")\n",
    "    def upload_pic(self):\n",
    "        print(\"this helps to upload picture on social media\")\n",
    "        \n",
    "class facebook(social_media):\n",
    "    def share_stories(self):\n",
    "        print(\"This is func for sharing Facebook stories\")\n",
    "        \n",
    "class insta(social_media):\n",
    "    def share_stories(self):\n",
    "        print(\"This is func for sharing insta stories\")"
   ]
  },
  {
   "cell_type": "code",
   "execution_count": 12,
   "id": "6257d273",
   "metadata": {},
   "outputs": [],
   "source": [
    "i = insta()\n",
    "f = facebook()\n"
   ]
  },
  {
   "cell_type": "code",
   "execution_count": 14,
   "id": "b571af5e",
   "metadata": {},
   "outputs": [
    {
     "name": "stdout",
     "output_type": "stream",
     "text": [
      "This is func for sharing insta stories\n"
     ]
    }
   ],
   "source": [
    "i.share_stories() # Calls the local fiunction of the class instad of the parent function"
   ]
  },
  {
   "cell_type": "code",
   "execution_count": 15,
   "id": "70e9f3ef",
   "metadata": {},
   "outputs": [
    {
     "name": "stdout",
     "output_type": "stream",
     "text": [
      "This is func for sharing Facebook stories\n"
     ]
    }
   ],
   "source": [
    "f.share_stories()"
   ]
  },
  {
   "cell_type": "code",
   "execution_count": 17,
   "id": "b1d6db36",
   "metadata": {},
   "outputs": [],
   "source": [
    "# Exception and custom Exception Class creation -  A classic OOPS implementation in Python"
   ]
  },
  {
   "cell_type": "code",
   "execution_count": 18,
   "id": "11e93073",
   "metadata": {},
   "outputs": [],
   "source": [
    "class test(Exception):\n",
    "    def __init__(self, msg):\n",
    "        self.msg = msg"
   ]
  },
  {
   "cell_type": "code",
   "execution_count": 19,
   "id": "eb1355cf",
   "metadata": {},
   "outputs": [
    {
     "name": "stdout",
     "output_type": "stream",
     "text": [
      "This is my own custom excetion class\n"
     ]
    }
   ],
   "source": [
    "try:\n",
    "    raise(test(\"This is my own custom excetion class\"))\n",
    "except test as t:\n",
    "    print(t)\n",
    "    "
   ]
  },
  {
   "cell_type": "code",
   "execution_count": 20,
   "id": "bac6f846",
   "metadata": {},
   "outputs": [
    {
     "ename": "test",
     "evalue": "This is my own custom excetion class",
     "output_type": "error",
     "traceback": [
      "\u001b[0;31m---------------------------------------------------------------------------\u001b[0m",
      "\u001b[0;31mtest\u001b[0m                                      Traceback (most recent call last)",
      "\u001b[0;32m/var/folders/bw/xnttl0q52nx09j0kmrlb90dm0000gn/T/ipykernel_1131/2468602942.py\u001b[0m in \u001b[0;36m<module>\u001b[0;34m\u001b[0m\n\u001b[0;32m----> 1\u001b[0;31m \u001b[0;32mraise\u001b[0m\u001b[0;34m(\u001b[0m\u001b[0mtest\u001b[0m\u001b[0;34m(\u001b[0m\u001b[0;34m\"This is my own custom excetion class\"\u001b[0m\u001b[0;34m)\u001b[0m\u001b[0;34m)\u001b[0m\u001b[0;34m\u001b[0m\u001b[0;34m\u001b[0m\u001b[0m\n\u001b[0m",
      "\u001b[0;31mtest\u001b[0m: This is my own custom excetion class"
     ]
    }
   ],
   "source": [
    "raise(test(\"This is my own custom excetion class\"))"
   ]
  },
  {
   "cell_type": "code",
   "execution_count": 21,
   "id": "090dbf48",
   "metadata": {},
   "outputs": [],
   "source": [
    "# 1) Multiple multilevel inheritance\n",
    "# create your own class o represent olymorphism\n",
    "# Create own class for custom. Exceoptions"
   ]
  },
  {
   "cell_type": "code",
   "execution_count": 23,
   "id": "2e0d6978",
   "metadata": {},
   "outputs": [],
   "source": [
    "# 1) Multiple, multilevel inherittance\n",
    "\n",
    "class T1:\n",
    "    def abc1(self):\n",
    "        print(\"Inside T1, abc1\")\n",
    "    def test2(self):\n",
    "        print(\"Inside T1, test2\")\n",
    "        \n",
    "class T2:\n",
    "    def abc1(self):\n",
    "        print(\"Inside T2, abc1\")\n",
    "        \n",
    "class T3(T2, T1): # Multiple\n",
    "    def abc2(self):\n",
    "        print(\"Inside T3, abc2\")\n",
    "        \n",
    "class T4(T2):\n",
    "    def test3(self):\n",
    "        print(\"Inside t4 inheriting t2\")\n",
    "        \n",
    "class T5(T4): # Multilevel\n",
    "    def test4(self):\n",
    "        print(\"Inside t4 inheriting t2\")"
   ]
  },
  {
   "cell_type": "code",
   "execution_count": 24,
   "id": "f8507d6b",
   "metadata": {},
   "outputs": [],
   "source": [
    "ml = T3()"
   ]
  },
  {
   "cell_type": "code",
   "execution_count": 25,
   "id": "16ad4c07",
   "metadata": {},
   "outputs": [
    {
     "name": "stdout",
     "output_type": "stream",
     "text": [
      "Inside T3, abc2\n"
     ]
    }
   ],
   "source": [
    "ml.abc2()"
   ]
  },
  {
   "cell_type": "code",
   "execution_count": 26,
   "id": "04245ecd",
   "metadata": {},
   "outputs": [
    {
     "name": "stdout",
     "output_type": "stream",
     "text": [
      "Inside T2, abc1\n"
     ]
    }
   ],
   "source": [
    "ml.abc1()"
   ]
  },
  {
   "cell_type": "code",
   "execution_count": 27,
   "id": "db135819",
   "metadata": {},
   "outputs": [
    {
     "name": "stdout",
     "output_type": "stream",
     "text": [
      "Inside T1, test2\n"
     ]
    }
   ],
   "source": [
    "ml.test2()"
   ]
  },
  {
   "cell_type": "code",
   "execution_count": 28,
   "id": "8c11b02f",
   "metadata": {},
   "outputs": [],
   "source": [
    "mulevl = T5()"
   ]
  },
  {
   "cell_type": "code",
   "execution_count": 29,
   "id": "1f1da3cb",
   "metadata": {},
   "outputs": [
    {
     "name": "stdout",
     "output_type": "stream",
     "text": [
      "Inside t4 inheriting t2\n"
     ]
    }
   ],
   "source": [
    "mulevl.test4()"
   ]
  },
  {
   "cell_type": "markdown",
   "id": "406a849e",
   "metadata": {},
   "source": [
    "mulevl.test3()"
   ]
  },
  {
   "cell_type": "code",
   "execution_count": 30,
   "id": "8cd27b25",
   "metadata": {},
   "outputs": [
    {
     "name": "stdout",
     "output_type": "stream",
     "text": [
      "Inside T2, abc1\n"
     ]
    }
   ],
   "source": [
    "mulevl.abc1()"
   ]
  },
  {
   "cell_type": "code",
   "execution_count": 31,
   "id": "41203cc4",
   "metadata": {},
   "outputs": [],
   "source": [
    "# METHOD OVER OADING AND OVER RIDING"
   ]
  },
  {
   "cell_type": "code",
   "execution_count": 32,
   "id": "4402408c",
   "metadata": {},
   "outputs": [],
   "source": [
    "class Test1:\n",
    "    def sayHello(self, name = None):\n",
    "        if name is not None:\n",
    "            print(\"Hello \", name)\n",
    "        else:\n",
    "            print(\"Hello World\")"
   ]
  },
  {
   "cell_type": "code",
   "execution_count": 33,
   "id": "f9ff2009",
   "metadata": {},
   "outputs": [],
   "source": [
    "mol = Test1()"
   ]
  },
  {
   "cell_type": "code",
   "execution_count": 34,
   "id": "a815c445",
   "metadata": {},
   "outputs": [
    {
     "name": "stdout",
     "output_type": "stream",
     "text": [
      "Hello World\n"
     ]
    }
   ],
   "source": [
    "mol.sayHello()"
   ]
  },
  {
   "cell_type": "code",
   "execution_count": 35,
   "id": "4cfcf5b6",
   "metadata": {},
   "outputs": [
    {
     "name": "stdout",
     "output_type": "stream",
     "text": [
      "Hello  Shubham\n"
     ]
    }
   ],
   "source": [
    "mol.sayHello(\"Shubham\")"
   ]
  },
  {
   "cell_type": "code",
   "execution_count": 57,
   "id": "642d221c",
   "metadata": {},
   "outputs": [
    {
     "data": {
      "text/plain": [
       "'Static Methods, variables --> The class variable/method which is specific to a class and not an object & called\\nwithout an object'"
      ]
     },
     "execution_count": 57,
     "metadata": {},
     "output_type": "execute_result"
    }
   ],
   "source": [
    "# Static Methods, variables --> The class variable/method which is specific to a class and not an object & \n",
    "# Statics can be called without an object with just the classname\n",
    "# Use Case ---> If you want to use class specific constants/methods independent of an object"
   ]
  },
  {
   "cell_type": "code",
   "execution_count": 58,
   "id": "75271fff",
   "metadata": {},
   "outputs": [],
   "source": [
    "class Test2:\n",
    "    dflt_greeting = \"Hello Everyone\" # Static variable\n",
    "    def sayHello(self, name = None):\n",
    "        print(\"Hello World\")\n",
    "      \n",
    "    @staticmethod\n",
    "    def customStatic(): # Static Method\n",
    "        print(\"This is a static method\")\n",
    "\n",
    "class Test3(Test2):\n",
    "    def sayHello(self, name = \"Shubham\"):\n",
    "        print(\"Hello \", name)\n",
    "            "
   ]
  },
  {
   "cell_type": "code",
   "execution_count": 59,
   "id": "9eee8402",
   "metadata": {},
   "outputs": [],
   "source": [
    "mor = Test3()"
   ]
  },
  {
   "cell_type": "code",
   "execution_count": 60,
   "id": "4ab2e13f",
   "metadata": {},
   "outputs": [
    {
     "name": "stdout",
     "output_type": "stream",
     "text": [
      "Hello  Shubham\n"
     ]
    }
   ],
   "source": [
    "mor.sayHello()"
   ]
  },
  {
   "cell_type": "code",
   "execution_count": null,
   "id": "fc2eda8e",
   "metadata": {},
   "outputs": [],
   "source": []
  },
  {
   "cell_type": "code",
   "execution_count": 61,
   "id": "4ed8917f",
   "metadata": {},
   "outputs": [
    {
     "data": {
      "text/plain": [
       "'Hello Everyone'"
      ]
     },
     "execution_count": 61,
     "metadata": {},
     "output_type": "execute_result"
    }
   ],
   "source": [
    "Test2.dflt_greeting"
   ]
  },
  {
   "cell_type": "code",
   "execution_count": 62,
   "id": "60d59722",
   "metadata": {},
   "outputs": [
    {
     "name": "stdout",
     "output_type": "stream",
     "text": [
      "This is a static method\n"
     ]
    }
   ],
   "source": [
    "Test2.customStatic()"
   ]
  },
  {
   "cell_type": "code",
   "execution_count": 63,
   "id": "d721ce60",
   "metadata": {},
   "outputs": [],
   "source": [
    "# Abstraction"
   ]
  },
  {
   "cell_type": "code",
   "execution_count": null,
   "id": "e1db1ec7",
   "metadata": {},
   "outputs": [],
   "source": []
  },
  {
   "cell_type": "code",
   "execution_count": null,
   "id": "6483ebfa",
   "metadata": {},
   "outputs": [],
   "source": []
  }
 ],
 "metadata": {
  "kernelspec": {
   "display_name": "Python 3 (ipykernel)",
   "language": "python",
   "name": "python3"
  },
  "language_info": {
   "codemirror_mode": {
    "name": "ipython",
    "version": 3
   },
   "file_extension": ".py",
   "mimetype": "text/x-python",
   "name": "python",
   "nbconvert_exporter": "python",
   "pygments_lexer": "ipython3",
   "version": "3.9.7"
  }
 },
 "nbformat": 4,
 "nbformat_minor": 5
}
