{
 "cells": [
  {
   "cell_type": "code",
   "execution_count": 2,
   "id": "e8413746",
   "metadata": {},
   "outputs": [
    {
     "data": {
      "text/plain": [
       "26"
      ]
     },
     "execution_count": 2,
     "metadata": {},
     "output_type": "execute_result"
    }
   ],
   "source": [
    "s= \"This is basic python class\"\n",
    "len(s)"
   ]
  },
  {
   "cell_type": "code",
   "execution_count": 4,
   "id": "fde468a6",
   "metadata": {},
   "outputs": [
    {
     "name": "stdout",
     "output_type": "stream",
     "text": [
      "Total length is 26\n"
     ]
    }
   ],
   "source": [
    "count = 0\n",
    "for i in s:\n",
    "    count += 1\n",
    "print('Total length is', count)"
   ]
  },
  {
   "cell_type": "code",
   "execution_count": 8,
   "id": "d5e19218",
   "metadata": {},
   "outputs": [
    {
     "name": "stdout",
     "output_type": "stream",
     "text": [
      "Reverse string is:   ssalc nohtyp cisab si sihT\n"
     ]
    }
   ],
   "source": [
    "result = ''\n",
    "for i in range(len(s) - 1,-1, -1):\n",
    "    result = result + s[i]\n",
    "    \n",
    "print('Reverse string is:  ', result)"
   ]
  },
  {
   "cell_type": "code",
   "execution_count": 11,
   "id": "61df938a",
   "metadata": {},
   "outputs": [
    {
     "name": "stdout",
     "output_type": "stream",
     "text": [
      "Vowel\n",
      "Not vowel n\n",
      "Vowel\n",
      "Vowel\n",
      "Not vowel r\n",
      "Vowel\n",
      "Not vowel n\n"
     ]
    }
   ],
   "source": [
    "s = 'ineuron'\n",
    "v ='AaEeIiOoUu'\n",
    "for i in s:    \n",
    "    if i in v:\n",
    "        print(\"Vowel\", i)\n",
    "    else:\n",
    "        print('Not vowel', i)"
   ]
  },
  {
   "cell_type": "code",
   "execution_count": null,
   "id": "32e486e6",
   "metadata": {},
   "outputs": [],
   "source": []
  }
 ],
 "metadata": {
  "kernelspec": {
   "display_name": "Python 3 (ipykernel)",
   "language": "python",
   "name": "python3"
  },
  "language_info": {
   "codemirror_mode": {
    "name": "ipython",
    "version": 3
   },
   "file_extension": ".py",
   "mimetype": "text/x-python",
   "name": "python",
   "nbconvert_exporter": "python",
   "pygments_lexer": "ipython3",
   "version": "3.9.9"
  }
 },
 "nbformat": 4,
 "nbformat_minor": 5
}
