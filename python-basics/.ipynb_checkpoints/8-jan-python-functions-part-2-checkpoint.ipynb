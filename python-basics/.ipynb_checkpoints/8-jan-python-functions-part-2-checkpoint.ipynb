{
 "cells": [
  {
   "cell_type": "code",
   "execution_count": 1,
   "id": "d2addbad",
   "metadata": {},
   "outputs": [],
   "source": [
    "def test(a,b,c,d,e):\n",
    "    return a,b,c,d,e"
   ]
  },
  {
   "cell_type": "code",
   "execution_count": 2,
   "id": "86f09616",
   "metadata": {},
   "outputs": [
    {
     "data": {
      "text/plain": [
       "(3, 6, 2, 56, 789)"
      ]
     },
     "execution_count": 2,
     "metadata": {},
     "output_type": "execute_result"
    }
   ],
   "source": [
    "test(3,6,2,56,789)"
   ]
  },
  {
   "cell_type": "code",
   "execution_count": 4,
   "id": "af543419",
   "metadata": {},
   "outputs": [],
   "source": [
    "def test1(*args):\n",
    "    return args"
   ]
  },
  {
   "cell_type": "code",
   "execution_count": 5,
   "id": "95541f73",
   "metadata": {},
   "outputs": [
    {
     "data": {
      "text/plain": [
       "(3, 6, 2, 56, 789)"
      ]
     },
     "execution_count": 5,
     "metadata": {},
     "output_type": "execute_result"
    }
   ],
   "source": [
    "test1(3,6,2,56,789)"
   ]
  },
  {
   "cell_type": "code",
   "execution_count": 6,
   "id": "231b6f40",
   "metadata": {},
   "outputs": [
    {
     "data": {
      "text/plain": [
       "(56, 789)"
      ]
     },
     "execution_count": 6,
     "metadata": {},
     "output_type": "execute_result"
    }
   ],
   "source": [
    "test1(56,789)"
   ]
  },
  {
   "cell_type": "code",
   "execution_count": 8,
   "id": "a293580a",
   "metadata": {},
   "outputs": [],
   "source": [
    "def test2(*abc):\n",
    "    return abc"
   ]
  },
  {
   "cell_type": "code",
   "execution_count": 9,
   "id": "85709b6d",
   "metadata": {},
   "outputs": [
    {
     "data": {
      "text/plain": [
       "(4, 'shubham')"
      ]
     },
     "execution_count": 9,
     "metadata": {},
     "output_type": "execute_result"
    }
   ],
   "source": [
    "test2(4, \"shubham\")"
   ]
  },
  {
   "cell_type": "code",
   "execution_count": 10,
   "id": "54c07509",
   "metadata": {},
   "outputs": [],
   "source": [
    "def test3(*sudh, a):\n",
    "    return a, sudh"
   ]
  },
  {
   "cell_type": "code",
   "execution_count": 12,
   "id": "8e06b116",
   "metadata": {},
   "outputs": [
    {
     "data": {
      "text/plain": [
       "(7, (34, 56, 74))"
      ]
     },
     "execution_count": 12,
     "metadata": {},
     "output_type": "execute_result"
    }
   ],
   "source": [
    "test3(34, 56, 74, a= 7)"
   ]
  },
  {
   "cell_type": "code",
   "execution_count": 15,
   "id": "78edbd12",
   "metadata": {},
   "outputs": [],
   "source": [
    "def test4(*sudh, a,c):\n",
    "    return sudh, a, c"
   ]
  },
  {
   "cell_type": "code",
   "execution_count": 16,
   "id": "fca1f1fd",
   "metadata": {},
   "outputs": [
    {
     "data": {
      "text/plain": [
       "((5, 6, 'u'), 'shubham', [1, 51.6])"
      ]
     },
     "execution_count": 16,
     "metadata": {},
     "output_type": "execute_result"
    }
   ],
   "source": [
    "test4(5,6,\"u\", a=\"shubham\", c=[1,51.6])"
   ]
  },
  {
   "cell_type": "code",
   "execution_count": 17,
   "id": "e4484d16",
   "metadata": {},
   "outputs": [],
   "source": [
    "def test5(a, *sudh):\n",
    "    return a, sudh"
   ]
  },
  {
   "cell_type": "code",
   "execution_count": 18,
   "id": "c2702365",
   "metadata": {},
   "outputs": [
    {
     "data": {
      "text/plain": [
       "(5, (6, 'u'))"
      ]
     },
     "execution_count": 18,
     "metadata": {},
     "output_type": "execute_result"
    }
   ],
   "source": [
    "test5(5,6,\"u\")"
   ]
  },
  {
   "cell_type": "code",
   "execution_count": 19,
   "id": "8e58f3ec",
   "metadata": {},
   "outputs": [],
   "source": [
    "def test6(a, *sudh, b, c):\n",
    "    return a, sudh, b, c"
   ]
  },
  {
   "cell_type": "code",
   "execution_count": 20,
   "id": "28221d18",
   "metadata": {},
   "outputs": [
    {
     "data": {
      "text/plain": [
       "('shubhan', (5, 6, 7, 4, 3), 'jshdjks', 'Done')"
      ]
     },
     "execution_count": 20,
     "metadata": {},
     "output_type": "execute_result"
    }
   ],
   "source": [
    "test6(\"shubhan\", [5,6,7,4,3], [\"abc\",\"done\",7,8,9])"
   ]
  },
  {
   "cell_type": "code",
   "execution_count": 26,
   "id": "89776101",
   "metadata": {},
   "outputs": [],
   "source": [
    "def test7(*args):\n",
    "    l = []\n",
    "    for i in args:\n",
    "        if type(i) == list:\n",
    "            l.append(i)\n",
    "    return l"
   ]
  },
  {
   "cell_type": "code",
   "execution_count": 27,
   "id": "8acdf618",
   "metadata": {},
   "outputs": [
    {
     "data": {
      "text/plain": [
       "[[5, 6, 7, 4, 3], ['abc', 'done', 7, 8, 9]]"
      ]
     },
     "execution_count": 27,
     "metadata": {},
     "output_type": "execute_result"
    }
   ],
   "source": [
    "test7(\"shubhan\", [5,6,7,4,3], [\"abc\",\"done\",7,8,9])"
   ]
  },
  {
   "cell_type": "code",
   "execution_count": 28,
   "id": "ddf201c6",
   "metadata": {},
   "outputs": [],
   "source": [
    "# single asterisk (*) means any values\n",
    "# double asterisk (**) means any kind of key value pair data"
   ]
  },
  {
   "cell_type": "code",
   "execution_count": 30,
   "id": "338302f0",
   "metadata": {},
   "outputs": [],
   "source": [
    "def test8(**kwargs): # Returns a dictionary \n",
    "    return kwargs"
   ]
  },
  {
   "cell_type": "code",
   "execution_count": 33,
   "id": "d4a94367",
   "metadata": {},
   "outputs": [
    {
     "data": {
      "text/plain": [
       "{'a': 7, 'b': 'abc'}"
      ]
     },
     "execution_count": 33,
     "metadata": {},
     "output_type": "execute_result"
    }
   ],
   "source": [
    "d1 = {\"key1\": 5546, \"key2\": 4536, \"key3\": \"Shubham\"}\n",
    "test8(a= 7, b =\"abc\")"
   ]
  },
  {
   "cell_type": "code",
   "execution_count": null,
   "id": "b57b40d8",
   "metadata": {},
   "outputs": [],
   "source": []
  }
 ],
 "metadata": {
  "kernelspec": {
   "display_name": "Python 3 (ipykernel)",
   "language": "python",
   "name": "python3"
  },
  "language_info": {
   "codemirror_mode": {
    "name": "ipython",
    "version": 3
   },
   "file_extension": ".py",
   "mimetype": "text/x-python",
   "name": "python",
   "nbconvert_exporter": "python",
   "pygments_lexer": "ipython3",
   "version": "3.9.7"
  }
 },
 "nbformat": 4,
 "nbformat_minor": 5
}
