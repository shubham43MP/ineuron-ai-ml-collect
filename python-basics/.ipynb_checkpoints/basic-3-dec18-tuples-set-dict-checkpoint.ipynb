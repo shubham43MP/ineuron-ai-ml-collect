{
 "cells": [
  {
   "cell_type": "markdown",
   "id": "72ed8554",
   "metadata": {},
   "source": [
    "## Tuples"
   ]
  },
  {
   "cell_type": "code",
   "execution_count": null,
   "id": "8b0c8359",
   "metadata": {},
   "outputs": [],
   "source": [
    "# A kind of datatype to bind multiple elements like the lists.\n",
    "# Slicing works the same in lists tuples and strings\n",
    "# List can hold tuples and tuples can also hold lists\n",
    "# List vs Tuple:\n",
    "# 1) Tuple dont support the item assignment unlike lists. It is an immutable collection\n",
    "# 2) # Syntactitcally they are differentiated by []{tuple} and (){list}\n"
   ]
  },
  {
   "cell_type": "code",
   "execution_count": 1,
   "id": "c86a8bf8",
   "metadata": {},
   "outputs": [],
   "source": [
    "t = (1,2,3,4,5)"
   ]
  },
  {
   "cell_type": "code",
   "execution_count": 2,
   "id": "52347535",
   "metadata": {},
   "outputs": [
    {
     "data": {
      "text/plain": [
       "tuple"
      ]
     },
     "execution_count": 2,
     "metadata": {},
     "output_type": "execute_result"
    }
   ],
   "source": [
    "type(t)"
   ]
  },
  {
   "cell_type": "code",
   "execution_count": 3,
   "id": "7c002d17",
   "metadata": {},
   "outputs": [],
   "source": [
    "t1 = (\"abc\", 45, 5+7j, 67.65)"
   ]
  },
  {
   "cell_type": "code",
   "execution_count": 4,
   "id": "105b3ed9",
   "metadata": {},
   "outputs": [
    {
     "data": {
      "text/plain": [
       "('abc', 45, (5+7j), 67.65)"
      ]
     },
     "execution_count": 4,
     "metadata": {},
     "output_type": "execute_result"
    }
   ],
   "source": [
    "t1"
   ]
  },
  {
   "cell_type": "code",
   "execution_count": 5,
   "id": "3beec808",
   "metadata": {},
   "outputs": [],
   "source": [
    "l = (\"abc\", 45, 5+7j, 67.65)"
   ]
  },
  {
   "cell_type": "code",
   "execution_count": 6,
   "id": "2e190105",
   "metadata": {},
   "outputs": [
    {
     "data": {
      "text/plain": [
       "('abc', 45)"
      ]
     },
     "execution_count": 6,
     "metadata": {},
     "output_type": "execute_result"
    }
   ],
   "source": [
    "l[0:2]"
   ]
  },
  {
   "cell_type": "code",
   "execution_count": 7,
   "id": "6db8ce5c",
   "metadata": {},
   "outputs": [
    {
     "data": {
      "text/plain": [
       "('abc', 45)"
      ]
     },
     "execution_count": 7,
     "metadata": {},
     "output_type": "execute_result"
    }
   ],
   "source": [
    "t1[0:2]"
   ]
  },
  {
   "cell_type": "code",
   "execution_count": 9,
   "id": "6cf0738f",
   "metadata": {},
   "outputs": [
    {
     "data": {
      "text/plain": [
       "(67.65, (5+7j), 45, 'abc')"
      ]
     },
     "execution_count": 9,
     "metadata": {},
     "output_type": "execute_result"
    }
   ],
   "source": [
    "t1[::-1]"
   ]
  },
  {
   "cell_type": "code",
   "execution_count": 10,
   "id": "bbbbd93a",
   "metadata": {},
   "outputs": [
    {
     "data": {
      "text/plain": [
       "5"
      ]
     },
     "execution_count": 10,
     "metadata": {},
     "output_type": "execute_result"
    }
   ],
   "source": [
    "t[-1]"
   ]
  },
  {
   "cell_type": "code",
   "execution_count": 11,
   "id": "a0c46a03",
   "metadata": {},
   "outputs": [
    {
     "data": {
      "text/plain": [
       "('abc', (5+7j))"
      ]
     },
     "execution_count": 11,
     "metadata": {},
     "output_type": "execute_result"
    }
   ],
   "source": [
    "t1[0::2]"
   ]
  },
  {
   "cell_type": "code",
   "execution_count": 12,
   "id": "419b32d7",
   "metadata": {},
   "outputs": [],
   "source": [
    "l = [\"sbc\", 1, 2, 3]"
   ]
  },
  {
   "cell_type": "code",
   "execution_count": 13,
   "id": "a68ad53d",
   "metadata": {},
   "outputs": [],
   "source": [
    "l[0] = \"xyz\""
   ]
  },
  {
   "cell_type": "code",
   "execution_count": 14,
   "id": "2d33d062",
   "metadata": {},
   "outputs": [
    {
     "data": {
      "text/plain": [
       "1"
      ]
     },
     "execution_count": 14,
     "metadata": {},
     "output_type": "execute_result"
    }
   ],
   "source": [
    "t[0]"
   ]
  },
  {
   "cell_type": "code",
   "execution_count": 15,
   "id": "100fae8f",
   "metadata": {},
   "outputs": [
    {
     "ename": "TypeError",
     "evalue": "'tuple' object does not support item assignment",
     "output_type": "error",
     "traceback": [
      "\u001b[0;31m---------------------------------------------------------------------------\u001b[0m",
      "\u001b[0;31mTypeError\u001b[0m                                 Traceback (most recent call last)",
      "Input \u001b[0;32mIn [15]\u001b[0m, in \u001b[0;36m<module>\u001b[0;34m\u001b[0m\n\u001b[0;32m----> 1\u001b[0m t[\u001b[38;5;241m0\u001b[39m] \u001b[38;5;241m=\u001b[39m \u001b[38;5;124m\"\u001b[39m\u001b[38;5;124mShubham\u001b[39m\u001b[38;5;124m\"\u001b[39m\n",
      "\u001b[0;31mTypeError\u001b[0m: 'tuple' object does not support item assignment"
     ]
    }
   ],
   "source": [
    "t[0] = \"Shubham\" # Item assignment dont work in Tuple. Hence Tuples are immutable"
   ]
  },
  {
   "cell_type": "code",
   "execution_count": 16,
   "id": "388290b2",
   "metadata": {},
   "outputs": [],
   "source": [
    "s = \"Shubham\"\n"
   ]
  },
  {
   "cell_type": "code",
   "execution_count": 17,
   "id": "01228c89",
   "metadata": {},
   "outputs": [
    {
     "ename": "TypeError",
     "evalue": "'str' object does not support item assignment",
     "output_type": "error",
     "traceback": [
      "\u001b[0;31m---------------------------------------------------------------------------\u001b[0m",
      "\u001b[0;31mTypeError\u001b[0m                                 Traceback (most recent call last)",
      "Input \u001b[0;32mIn [17]\u001b[0m, in \u001b[0;36m<module>\u001b[0;34m\u001b[0m\n\u001b[0;32m----> 1\u001b[0m s[\u001b[38;5;241m0\u001b[39m] \u001b[38;5;241m=\u001b[39m \u001b[38;5;124m\"\u001b[39m\u001b[38;5;124mK\u001b[39m\u001b[38;5;124m\"\u001b[39m\n",
      "\u001b[0;31mTypeError\u001b[0m: 'str' object does not support item assignment"
     ]
    }
   ],
   "source": [
    "s[0] = \"K\" # Item assignment dont work in string. Hence strings are immutable"
   ]
  },
  {
   "cell_type": "code",
   "execution_count": 19,
   "id": "1b8d1ae3",
   "metadata": {},
   "outputs": [
    {
     "data": {
      "text/plain": [
       "('abc', 45, (5+7j), 67.65, 1, 2, 3, 4, 5)"
      ]
     },
     "execution_count": 19,
     "metadata": {},
     "output_type": "execute_result"
    }
   ],
   "source": [
    "t1 + t"
   ]
  },
  {
   "cell_type": "code",
   "execution_count": 20,
   "id": "937b0743",
   "metadata": {},
   "outputs": [
    {
     "data": {
      "text/plain": [
       "1"
      ]
     },
     "execution_count": 20,
     "metadata": {},
     "output_type": "execute_result"
    }
   ],
   "source": [
    "t1.count(45)"
   ]
  },
  {
   "cell_type": "code",
   "execution_count": 23,
   "id": "f04b6f41",
   "metadata": {},
   "outputs": [],
   "source": [
    "t2 = (1,2,3,4, (4,7, \"asbc\"))"
   ]
  },
  {
   "cell_type": "code",
   "execution_count": 24,
   "id": "4ed8c059",
   "metadata": {},
   "outputs": [
    {
     "data": {
      "text/plain": [
       "(1, 2, 3, 4, (4, 7, 'asbc'))"
      ]
     },
     "execution_count": 24,
     "metadata": {},
     "output_type": "execute_result"
    }
   ],
   "source": [
    "t2"
   ]
  },
  {
   "cell_type": "code",
   "execution_count": 25,
   "id": "9439eaef",
   "metadata": {},
   "outputs": [],
   "source": [
    "t3 = (6, 7 , [\"yui\", True, 1,3])"
   ]
  },
  {
   "cell_type": "code",
   "execution_count": 26,
   "id": "582e59fc",
   "metadata": {},
   "outputs": [
    {
     "data": {
      "text/plain": [
       "3"
      ]
     },
     "execution_count": 26,
     "metadata": {},
     "output_type": "execute_result"
    }
   ],
   "source": [
    "len(t3)"
   ]
  },
  {
   "cell_type": "code",
   "execution_count": 27,
   "id": "debcca23",
   "metadata": {},
   "outputs": [],
   "source": [
    "t3[2][0] = \"xyz\""
   ]
  },
  {
   "cell_type": "code",
   "execution_count": 28,
   "id": "e25fa51c",
   "metadata": {},
   "outputs": [
    {
     "data": {
      "text/plain": [
       "(6, 7, ['xyz', True, 1, 3])"
      ]
     },
     "execution_count": 28,
     "metadata": {},
     "output_type": "execute_result"
    }
   ],
   "source": [
    "t3"
   ]
  },
  {
   "cell_type": "code",
   "execution_count": 29,
   "id": "9a0b3bbd",
   "metadata": {},
   "outputs": [],
   "source": [
    "l3 = list(t3)"
   ]
  },
  {
   "cell_type": "code",
   "execution_count": 30,
   "id": "87ef8e8d",
   "metadata": {},
   "outputs": [
    {
     "data": {
      "text/plain": [
       "[6, 7, ['xyz', True, 1, 3]]"
      ]
     },
     "execution_count": 30,
     "metadata": {},
     "output_type": "execute_result"
    }
   ],
   "source": [
    "l3"
   ]
  },
  {
   "cell_type": "markdown",
   "id": "3628889e",
   "metadata": {},
   "source": [
    "## Sets"
   ]
  },
  {
   "cell_type": "code",
   "execution_count": null,
   "id": "7df79efa",
   "metadata": {},
   "outputs": [],
   "source": [
    "# Hold unique elements by value\n",
    "# They are similar to dictionary but not a key value pair instead just values\n",
    "# Slicing cant be applied to Sets just remember"
   ]
  },
  {
   "cell_type": "code",
   "execution_count": 31,
   "id": "ef639fd4",
   "metadata": {},
   "outputs": [],
   "source": [
    "l = [1,2,3,4,5,6,7,8,3,4,4,4,4,4,4,4,4,4,4,6]"
   ]
  },
  {
   "cell_type": "code",
   "execution_count": 32,
   "id": "7ebb46fd",
   "metadata": {},
   "outputs": [
    {
     "data": {
      "text/plain": [
       "[1, 2, 3, 4, 5, 6, 7, 8, 3, 4, 4, 4, 4, 4, 4, 4, 4, 4, 4, 6]"
      ]
     },
     "execution_count": 32,
     "metadata": {},
     "output_type": "execute_result"
    }
   ],
   "source": [
    "l"
   ]
  },
  {
   "cell_type": "code",
   "execution_count": 33,
   "id": "a2c98e6a",
   "metadata": {},
   "outputs": [
    {
     "data": {
      "text/plain": [
       "{1, 2, 3, 4, 5, 6, 7, 8}"
      ]
     },
     "execution_count": 33,
     "metadata": {},
     "output_type": "execute_result"
    }
   ],
   "source": [
    "s= set(l)\n",
    "s"
   ]
  },
  {
   "cell_type": "code",
   "execution_count": 34,
   "id": "3286c548",
   "metadata": {},
   "outputs": [
    {
     "data": {
      "text/plain": [
       "set"
      ]
     },
     "execution_count": 34,
     "metadata": {},
     "output_type": "execute_result"
    }
   ],
   "source": [
    "type(s)"
   ]
  },
  {
   "cell_type": "code",
   "execution_count": 35,
   "id": "5d1fdf8b",
   "metadata": {},
   "outputs": [
    {
     "data": {
      "text/plain": [
       "dict"
      ]
     },
     "execution_count": 35,
     "metadata": {},
     "output_type": "execute_result"
    }
   ],
   "source": [
    "s1 = {}\n",
    "type(s1)"
   ]
  },
  {
   "cell_type": "code",
   "execution_count": 36,
   "id": "f2920dc7",
   "metadata": {},
   "outputs": [
    {
     "data": {
      "text/plain": [
       "set"
      ]
     },
     "execution_count": 36,
     "metadata": {},
     "output_type": "execute_result"
    }
   ],
   "source": [
    "s2 = {1,2,3}\n",
    "type(s2)"
   ]
  },
  {
   "cell_type": "code",
   "execution_count": 38,
   "id": "43765c93",
   "metadata": {},
   "outputs": [
    {
     "ename": "TypeError",
     "evalue": "'set' object is not subscriptable",
     "output_type": "error",
     "traceback": [
      "\u001b[0;31m---------------------------------------------------------------------------\u001b[0m",
      "\u001b[0;31mTypeError\u001b[0m                                 Traceback (most recent call last)",
      "Input \u001b[0;32mIn [38]\u001b[0m, in \u001b[0;36m<module>\u001b[0;34m\u001b[0m\n\u001b[0;32m----> 1\u001b[0m \u001b[43ms2\u001b[49m\u001b[43m[\u001b[49m\u001b[38;5;241;43m0\u001b[39;49m\u001b[43m]\u001b[49m\n",
      "\u001b[0;31mTypeError\u001b[0m: 'set' object is not subscriptable"
     ]
    }
   ],
   "source": [
    "s2[0]"
   ]
  },
  {
   "cell_type": "code",
   "execution_count": null,
   "id": "0ce780b4",
   "metadata": {},
   "outputs": [],
   "source": []
  },
  {
   "cell_type": "code",
   "execution_count": null,
   "id": "fdbfc205",
   "metadata": {},
   "outputs": [],
   "source": []
  }
 ],
 "metadata": {
  "kernelspec": {
   "display_name": "Python 3 (ipykernel)",
   "language": "python",
   "name": "python3"
  },
  "language_info": {
   "codemirror_mode": {
    "name": "ipython",
    "version": 3
   },
   "file_extension": ".py",
   "mimetype": "text/x-python",
   "name": "python",
   "nbconvert_exporter": "python",
   "pygments_lexer": "ipython3",
   "version": "3.9.9"
  }
 },
 "nbformat": 4,
 "nbformat_minor": 5
}
