{
 "cells": [
  {
   "cell_type": "code",
   "execution_count": 2,
   "id": "9f3e8ec0",
   "metadata": {},
   "outputs": [],
   "source": [
    "# Exception handling in Python PROGRAMMING"
   ]
  },
  {
   "cell_type": "code",
   "execution_count": 5,
   "id": "ee02df24",
   "metadata": {},
   "outputs": [
    {
     "ename": "ZeroDivisionError",
     "evalue": "division by zero",
     "output_type": "error",
     "traceback": [
      "\u001b[0;31m---------------------------------------------------------------------------\u001b[0m",
      "\u001b[0;31mZeroDivisionError\u001b[0m                         Traceback (most recent call last)",
      "\u001b[0;32m/var/folders/bw/xnttl0q52nx09j0kmrlb90dm0000gn/T/ipykernel_4626/1587441500.py\u001b[0m in \u001b[0;36m<module>\u001b[0;34m\u001b[0m\n\u001b[0;32m----> 1\u001b[0;31m \u001b[0;36m5\u001b[0m\u001b[0;34m/\u001b[0m\u001b[0;36m0\u001b[0m \u001b[0;31m# Invalid Operation\u001b[0m\u001b[0;34m\u001b[0m\u001b[0;34m\u001b[0m\u001b[0m\n\u001b[0m\u001b[1;32m      2\u001b[0m \u001b[0mprint\u001b[0m\u001b[0;34m(\u001b[0m\u001b[0;34m\"Is this executing?\"\u001b[0m\u001b[0;34m)\u001b[0m\u001b[0;34m\u001b[0m\u001b[0;34m\u001b[0m\u001b[0m\n",
      "\u001b[0;31mZeroDivisionError\u001b[0m: division by zero"
     ]
    }
   ],
   "source": [
    "5/0 # Invalid Operation\n",
    "print(\"Is this executing?\")"
   ]
  },
  {
   "cell_type": "code",
   "execution_count": 16,
   "id": "e5776a79",
   "metadata": {},
   "outputs": [
    {
     "name": "stdout",
     "output_type": "stream",
     "text": [
      "Is this executing?\n",
      "This will execute once my try block will be executed successfully\n",
      "Code further\n"
     ]
    }
   ],
   "source": [
    "try:\n",
    "#     5/0 # Invalid Operation\n",
    "    print(\"Is this executing?\")\n",
    "except ZeroDivisionError as e:\n",
    "    print('zd c', e)\n",
    "except Exception as e:\n",
    "    print('parent class', e)\n",
    "else:\n",
    "    print(\"This will execute once my try block will be executed successfully\")\n",
    "print(\"Code further\")"
   ]
  },
  {
   "cell_type": "code",
   "execution_count": 1,
   "id": "d11283ab",
   "metadata": {},
   "outputs": [
    {
     "name": "stdout",
     "output_type": "stream",
     "text": [
      "zd c division by zero\n",
      "This will execute everytime after the try and catch block\n"
     ]
    }
   ],
   "source": [
    "try:\n",
    "    5/0 # Invalid Operation\n",
    "    print(\"Is this executing?\")\n",
    "except ZeroDivisionError as e:\n",
    "    print('zd c', e)\n",
    "except Exception as e:\n",
    "    print('parent class', e)\n",
    "finally:\n",
    "    print(\"This will execute everytime after the try and catch block\")"
   ]
  },
  {
   "cell_type": "code",
   "execution_count": null,
   "id": "9fd98aed",
   "metadata": {},
   "outputs": [],
   "source": []
  },
  {
   "cell_type": "code",
   "execution_count": 4,
   "id": "eeb25584",
   "metadata": {},
   "outputs": [],
   "source": [
    "def putOnlyIntegerFucker():\n",
    "    while(True):\n",
    "        try:\n",
    "            a = int(input(\"Enter an Integer \"))\n",
    "        except:\n",
    "            print(\"Please Enter a valid integer \")\n",
    "        else:\n",
    "            print(\"You have entered correct integer \")\n",
    "            break\n"
   ]
  },
  {
   "cell_type": "code",
   "execution_count": 5,
   "id": "b30c0001",
   "metadata": {},
   "outputs": [
    {
     "name": "stdout",
     "output_type": "stream",
     "text": [
      "Enter an Integer dvdvd\n",
      "Please Enter a valid integer \n",
      "Enter an Integer sf\n",
      "Please Enter a valid integer \n",
      "Enter an Integer sfv\n",
      "Please Enter a valid integer \n",
      "Enter an Integer dbv\n",
      "Please Enter a valid integer \n",
      "Enter an Integer dwbv\n",
      "Please Enter a valid integer \n",
      "Enter an Integer dvdsw\n",
      "Please Enter a valid integer \n",
      "Enter an Integer v6\n",
      "Please Enter a valid integer \n",
      "Enter an Integer 5\n",
      "You have entered correct integer \n"
     ]
    }
   ],
   "source": [
    "putOnlyIntegerFucker()"
   ]
  },
  {
   "cell_type": "code",
   "execution_count": 9,
   "id": "af6f2436",
   "metadata": {},
   "outputs": [
    {
     "ename": "Exception",
     "evalue": "NegativeNumberException",
     "output_type": "error",
     "traceback": [
      "\u001b[0;31m---------------------------------------------------------------------------\u001b[0m",
      "\u001b[0;31mException\u001b[0m                                 Traceback (most recent call last)",
      "\u001b[0;32m/var/folders/bw/xnttl0q52nx09j0kmrlb90dm0000gn/T/ipykernel_5643/3040158863.py\u001b[0m in \u001b[0;36m<module>\u001b[0;34m\u001b[0m\n\u001b[1;32m      4\u001b[0m         \u001b[0;32mraise\u001b[0m \u001b[0mException\u001b[0m\u001b[0;34m(\u001b[0m\u001b[0;34m'NegativeNumberException'\u001b[0m\u001b[0;34m)\u001b[0m\u001b[0;34m\u001b[0m\u001b[0;34m\u001b[0m\u001b[0m\n\u001b[1;32m      5\u001b[0m \u001b[0;34m\u001b[0m\u001b[0m\n\u001b[0;32m----> 6\u001b[0;31m \u001b[0mtest\u001b[0m\u001b[0;34m(\u001b[0m\u001b[0;34m-\u001b[0m\u001b[0;36m7\u001b[0m\u001b[0;34m)\u001b[0m\u001b[0;34m\u001b[0m\u001b[0;34m\u001b[0m\u001b[0m\n\u001b[0m",
      "\u001b[0;32m/var/folders/bw/xnttl0q52nx09j0kmrlb90dm0000gn/T/ipykernel_5643/3040158863.py\u001b[0m in \u001b[0;36mtest\u001b[0;34m(a)\u001b[0m\n\u001b[1;32m      2\u001b[0m \u001b[0;32mdef\u001b[0m \u001b[0mtest\u001b[0m\u001b[0;34m(\u001b[0m\u001b[0ma\u001b[0m\u001b[0;34m)\u001b[0m\u001b[0;34m:\u001b[0m\u001b[0;34m\u001b[0m\u001b[0;34m\u001b[0m\u001b[0m\n\u001b[1;32m      3\u001b[0m     \u001b[0;32mif\u001b[0m \u001b[0ma\u001b[0m\u001b[0;34m<\u001b[0m\u001b[0;36m0\u001b[0m\u001b[0;34m:\u001b[0m\u001b[0;34m\u001b[0m\u001b[0;34m\u001b[0m\u001b[0m\n\u001b[0;32m----> 4\u001b[0;31m         \u001b[0;32mraise\u001b[0m \u001b[0mException\u001b[0m\u001b[0;34m(\u001b[0m\u001b[0;34m'NegativeNumberException'\u001b[0m\u001b[0;34m)\u001b[0m\u001b[0;34m\u001b[0m\u001b[0;34m\u001b[0m\u001b[0m\n\u001b[0m\u001b[1;32m      5\u001b[0m \u001b[0;34m\u001b[0m\u001b[0m\n\u001b[1;32m      6\u001b[0m \u001b[0mtest\u001b[0m\u001b[0;34m(\u001b[0m\u001b[0;34m-\u001b[0m\u001b[0;36m7\u001b[0m\u001b[0;34m)\u001b[0m\u001b[0;34m\u001b[0m\u001b[0;34m\u001b[0m\u001b[0m\n",
      "\u001b[0;31mException\u001b[0m: NegativeNumberException"
     ]
    }
   ],
   "source": [
    "# Custom Exceptions\n",
    "def test(a):\n",
    "    if a<0:\n",
    "        raise Exception('NegativeNumberException')\n",
    "\n",
    "test(-7)"
   ]
  },
  {
   "cell_type": "code",
   "execution_count": 10,
   "id": "4ae097ff",
   "metadata": {},
   "outputs": [
    {
     "name": "stdout",
     "output_type": "stream",
     "text": [
      "Some thing went wrong -->  NegativeNumberException\n"
     ]
    }
   ],
   "source": [
    "try:\n",
    "    test(-4)\n",
    "except Exception as e:\n",
    "    print(\"Some thing went wrong --> \", e)"
   ]
  },
  {
   "cell_type": "code",
   "execution_count": 11,
   "id": "0adbbee3",
   "metadata": {},
   "outputs": [],
   "source": [
    "# Logging\n",
    "# Logging is an important concept to record what server is doing\n",
    "\n",
    "import logging"
   ]
  },
  {
   "cell_type": "code",
   "execution_count": 12,
   "id": "65440ca1",
   "metadata": {},
   "outputs": [],
   "source": [
    "logging.basicConfig(filename = \"test.log\")"
   ]
  },
  {
   "cell_type": "code",
   "execution_count": 13,
   "id": "0bc43677",
   "metadata": {},
   "outputs": [
    {
     "data": {
      "text/plain": [
       "'/Users/shudixit/ml-test/live-sessions/python-basics'"
      ]
     },
     "execution_count": 13,
     "metadata": {},
     "output_type": "execute_result"
    }
   ],
   "source": [
    "pwd()"
   ]
  },
  {
   "cell_type": "code",
   "execution_count": 14,
   "id": "b6148f40",
   "metadata": {},
   "outputs": [],
   "source": [
    "#log options\n",
    "\n",
    "# DEBUG\n",
    "# INFO\n",
    "# WARNING\n",
    "# ERROR\n",
    "# CRITICAL"
   ]
  },
  {
   "cell_type": "code",
   "execution_count": 16,
   "id": "1015689d",
   "metadata": {},
   "outputs": [],
   "source": [
    "logging.info(\"This is my first log\")\n",
    "logging.warning(\"This is my warning\")\n",
    "logging.error(\"This is an error logged\")"
   ]
  },
  {
   "cell_type": "code",
   "execution_count": null,
   "id": "2257d9dd",
   "metadata": {},
   "outputs": [],
   "source": []
  }
 ],
 "metadata": {
  "kernelspec": {
   "display_name": "Python 3 (ipykernel)",
   "language": "python",
   "name": "python3"
  },
  "language_info": {
   "codemirror_mode": {
    "name": "ipython",
    "version": 3
   },
   "file_extension": ".py",
   "mimetype": "text/x-python",
   "name": "python",
   "nbconvert_exporter": "python",
   "pygments_lexer": "ipython3",
   "version": "3.9.7"
  }
 },
 "nbformat": 4,
 "nbformat_minor": 5
}
