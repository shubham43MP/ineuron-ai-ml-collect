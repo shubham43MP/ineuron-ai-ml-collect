{
 "cells": [
  {
   "cell_type": "code",
   "execution_count": 2,
   "id": "6fe67cea",
   "metadata": {},
   "outputs": [
    {
     "data": {
      "text/plain": [
       "26"
      ]
     },
     "execution_count": 2,
     "metadata": {},
     "output_type": "execute_result"
    }
   ],
   "source": [
    "s= \"This is basic python class\"\n",
    "len(s)"
   ]
  },
  {
   "cell_type": "code",
   "execution_count": 4,
   "id": "c4749c31",
   "metadata": {},
   "outputs": [
    {
     "name": "stdout",
     "output_type": "stream",
     "text": [
      "Total length is 26\n"
     ]
    }
   ],
   "source": [
    "count = 0\n",
    "for i in s:\n",
    "    count += 1\n",
    "print('Total length is', count)"
   ]
  },
  {
   "cell_type": "code",
   "execution_count": 8,
   "id": "29ab2f3a",
   "metadata": {},
   "outputs": [
    {
     "name": "stdout",
     "output_type": "stream",
     "text": [
      "Reverse string is:   ssalc nohtyp cisab si sihT\n"
     ]
    }
   ],
   "source": [
    "result = ''\n",
    "for i in range(len(s) - 1,-1, -1):\n",
    "    result = result + s[i]\n",
    "    \n",
    "print('Reverse string is:  ', result)"
   ]
  },
  {
   "cell_type": "code",
   "execution_count": 12,
   "id": "5ad2d0cd",
   "metadata": {},
   "outputs": [
    {
     "name": "stdout",
     "output_type": "stream",
     "text": [
      "Vowel i\n",
      "Not vowel n\n",
      "Vowel e\n",
      "Vowel u\n",
      "Not vowel r\n",
      "Vowel o\n",
      "Not vowel n\n"
     ]
    }
   ],
   "source": [
    "s = 'ineuron'\n",
    "v ='AaEeIiOoUu'\n",
    "for i in s:    \n",
    "    if i in v:\n",
    "        print(\"Vowel\", i)\n",
    "    else:\n",
    "        print('Not vowel', i)"
   ]
  },
  {
   "cell_type": "code",
   "execution_count": 14,
   "id": "7f0a7066",
   "metadata": {},
   "outputs": [
    {
     "data": {
      "text/plain": [
       "True"
      ]
     },
     "execution_count": 14,
     "metadata": {},
     "output_type": "execute_result"
    }
   ],
   "source": [
    "\"g\" in \"FGermanyg\""
   ]
  },
  {
   "cell_type": "code",
   "execution_count": 18,
   "id": "2ef57674",
   "metadata": {},
   "outputs": [
    {
     "name": "stdout",
     "output_type": "stream",
     "text": [
      "A Palindrome\n"
     ]
    }
   ],
   "source": [
    "s = \"NAMAN\"\n",
    "if s[::-1] == s:\n",
    "    print('A Palindrome')\n",
    "else:\n",
    "    print('Not a palindrome')"
   ]
  },
  {
   "cell_type": "code",
   "execution_count": 23,
   "id": "124a193d",
   "metadata": {},
   "outputs": [
    {
     "data": {
      "text/plain": [
       "True"
      ]
     },
     "execution_count": 23,
     "metadata": {},
     "output_type": "execute_result"
    }
   ],
   "source": [
    "d = { \"india\": \"IN\", \"canada\": \"CA\", \"united states\": \"US\", \"Nepal\": 'NP'}\n",
    "\"india\" in d"
   ]
  },
  {
   "cell_type": "code",
   "execution_count": 24,
   "id": "c5631f40",
   "metadata": {},
   "outputs": [
    {
     "name": "stdout",
     "output_type": "stream",
     "text": [
      "{'india': 'IN', 'Nepal': 'NP'} {'canada': 'CA', 'united states': 'US'}\n"
     ]
    }
   ],
   "source": [
    "d1 = {}\n",
    "d2 = {}\n",
    "\n",
    "for i in d:\n",
    "    if len(i) <= 5:\n",
    "        d1[i] = d[i]\n",
    "    else:\n",
    "        d2[i] = d[i]\n",
    "        \n",
    "print(d1, d2)"
   ]
  },
  {
   "cell_type": "code",
   "execution_count": 25,
   "id": "26bbbf85",
   "metadata": {},
   "outputs": [],
   "source": [
    "d_1 = { \"ineuron\": {\n",
    "                        \"a\": 14,\n",
    "                        \"b\": 10,\n",
    "                        \"c\": 4\n",
    "                    },\n",
    "       \"course\": {\n",
    "           \"d\": 45,\n",
    "           \"e\": 34,\n",
    "           \"f\": 1\n",
    "       }\n",
    "}\n",
    "\n"
   ]
  },
  {
   "cell_type": "code",
   "execution_count": 29,
   "id": "98e64eb4",
   "metadata": {},
   "outputs": [
    {
     "name": "stdout",
     "output_type": "stream",
     "text": [
      "Max for  ineuron  is  14\n",
      "Max for  course  is  45\n"
     ]
    }
   ],
   "source": [
    "max = 0\n",
    "for i in d_1:\n",
    "    max = 0\n",
    "    for j in d_1[i]:\n",
    "        if max < d_1[i][j] : max = d_1[i][j]\n",
    "    print('Max for ', i, ' is ', max)\n",
    "    "
   ]
  },
  {
   "cell_type": "code",
   "execution_count": null,
   "id": "a4c53ae1",
   "metadata": {},
   "outputs": [],
   "source": []
  }
 ],
 "metadata": {
  "kernelspec": {
   "display_name": "Python 3 (ipykernel)",
   "language": "python",
   "name": "python3"
  },
  "language_info": {
   "codemirror_mode": {
    "name": "ipython",
    "version": 3
   },
   "file_extension": ".py",
   "mimetype": "text/x-python",
   "name": "python",
   "nbconvert_exporter": "python",
   "pygments_lexer": "ipython3",
   "version": "3.9.9"
  }
 },
 "nbformat": 4,
 "nbformat_minor": 5
}
