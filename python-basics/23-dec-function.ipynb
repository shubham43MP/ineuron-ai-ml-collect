{
 "cells": [
  {
   "cell_type": "code",
   "execution_count": 2,
   "id": "80b54cdb",
   "metadata": {},
   "outputs": [
    {
     "data": {
      "text/plain": [
       "7"
      ]
     },
     "execution_count": 2,
     "metadata": {},
     "output_type": "execute_result"
    }
   ],
   "source": [
    "len(\"Shubham\")"
   ]
  },
  {
   "cell_type": "code",
   "execution_count": 4,
   "id": "f238caf2",
   "metadata": {},
   "outputs": [],
   "source": [
    "def test():\n",
    "    pass"
   ]
  },
  {
   "cell_type": "code",
   "execution_count": 5,
   "id": "0efed91f",
   "metadata": {},
   "outputs": [],
   "source": [
    "def test1():\n",
    "    print(\"This is my first function\")"
   ]
  },
  {
   "cell_type": "code",
   "execution_count": 7,
   "id": "3a119fab",
   "metadata": {},
   "outputs": [
    {
     "name": "stdout",
     "output_type": "stream",
     "text": [
      "This is my first function\n"
     ]
    }
   ],
   "source": [
    "test1()"
   ]
  },
  {
   "cell_type": "code",
   "execution_count": 10,
   "id": "7884fd26",
   "metadata": {},
   "outputs": [
    {
     "name": "stdout",
     "output_type": "stream",
     "text": [
      "This is my first function\n"
     ]
    }
   ],
   "source": [
    "a = test1()"
   ]
  },
  {
   "cell_type": "code",
   "execution_count": 14,
   "id": "d983d778",
   "metadata": {},
   "outputs": [
    {
     "name": "stdout",
     "output_type": "stream",
     "text": [
      "This is my first function\n"
     ]
    },
    {
     "data": {
      "text/plain": [
       "NoneType"
      ]
     },
     "execution_count": 14,
     "metadata": {},
     "output_type": "execute_result"
    }
   ],
   "source": [
    "type(test1())"
   ]
  },
  {
   "cell_type": "code",
   "execution_count": 16,
   "id": "7cea5804",
   "metadata": {},
   "outputs": [
    {
     "data": {
      "text/plain": [
       "''"
      ]
     },
     "execution_count": 16,
     "metadata": {},
     "output_type": "execute_result"
    }
   ],
   "source": [
    "str()"
   ]
  },
  {
   "cell_type": "code",
   "execution_count": 18,
   "id": "600e7b61",
   "metadata": {},
   "outputs": [],
   "source": [
    "def test2():\n",
    "    return \"this is my first fun \""
   ]
  },
  {
   "cell_type": "code",
   "execution_count": 19,
   "id": "2af46ba9",
   "metadata": {},
   "outputs": [
    {
     "data": {
      "text/plain": [
       "'this is my first fun Done'"
      ]
     },
     "execution_count": 19,
     "metadata": {},
     "output_type": "execute_result"
    }
   ],
   "source": [
    "test2() + \"Done\""
   ]
  },
  {
   "cell_type": "code",
   "execution_count": 20,
   "id": "261f0a9a",
   "metadata": {},
   "outputs": [],
   "source": [
    "def test3():\n",
    "    return 235435"
   ]
  },
  {
   "cell_type": "code",
   "execution_count": 21,
   "id": "50941587",
   "metadata": {},
   "outputs": [
    {
     "data": {
      "text/plain": [
       "int"
      ]
     },
     "execution_count": 21,
     "metadata": {},
     "output_type": "execute_result"
    }
   ],
   "source": [
    "type(test3())"
   ]
  },
  {
   "cell_type": "code",
   "execution_count": 22,
   "id": "1dd5d3f9",
   "metadata": {},
   "outputs": [],
   "source": [
    "def test4():\n",
    "    return 4,3, \"sudh\", [1,2,3,4,5]"
   ]
  },
  {
   "cell_type": "code",
   "execution_count": 23,
   "id": "80a2714d",
   "metadata": {},
   "outputs": [
    {
     "data": {
      "text/plain": [
       "(4, 3, 'sudh', [1, 2, 3, 4, 5])"
      ]
     },
     "execution_count": 23,
     "metadata": {},
     "output_type": "execute_result"
    }
   ],
   "source": [
    "test4()"
   ]
  },
  {
   "cell_type": "code",
   "execution_count": 25,
   "id": "211cba20",
   "metadata": {},
   "outputs": [
    {
     "data": {
      "text/plain": [
       "tuple"
      ]
     },
     "execution_count": 25,
     "metadata": {},
     "output_type": "execute_result"
    }
   ],
   "source": [
    "type(test4())"
   ]
  },
  {
   "cell_type": "code",
   "execution_count": 26,
   "id": "e3479304",
   "metadata": {},
   "outputs": [],
   "source": [
    "b = test4()"
   ]
  },
  {
   "cell_type": "code",
   "execution_count": 27,
   "id": "72b44410",
   "metadata": {},
   "outputs": [
    {
     "data": {
      "text/plain": [
       "3"
      ]
     },
     "execution_count": 27,
     "metadata": {},
     "output_type": "execute_result"
    }
   ],
   "source": [
    "b[1]"
   ]
  },
  {
   "cell_type": "code",
   "execution_count": 28,
   "id": "2cfd2a67",
   "metadata": {},
   "outputs": [],
   "source": [
    "a,b,c,d = test4()"
   ]
  },
  {
   "cell_type": "code",
   "execution_count": 29,
   "id": "9ba2d829",
   "metadata": {},
   "outputs": [
    {
     "data": {
      "text/plain": [
       "(4, 3, 'sudh', [1, 2, 3, 4, 5])"
      ]
     },
     "execution_count": 29,
     "metadata": {},
     "output_type": "execute_result"
    }
   ],
   "source": [
    "a,b,c,d"
   ]
  },
  {
   "cell_type": "code",
   "execution_count": 30,
   "id": "5cb753d6",
   "metadata": {},
   "outputs": [
    {
     "name": "stdout",
     "output_type": "stream",
     "text": [
      "Var are  4 3 sudh [1, 2, 3, 4, 5]\n"
     ]
    }
   ],
   "source": [
    "print('Var are ', a,b,c,d)"
   ]
  },
  {
   "cell_type": "code",
   "execution_count": 31,
   "id": "fe9bb778",
   "metadata": {},
   "outputs": [],
   "source": [
    "def test5():\n",
    "    a = 6*7/6\n",
    "    return a"
   ]
  },
  {
   "cell_type": "code",
   "execution_count": 32,
   "id": "4c8c7c42",
   "metadata": {},
   "outputs": [
    {
     "data": {
      "text/plain": [
       "7.0"
      ]
     },
     "execution_count": 32,
     "metadata": {},
     "output_type": "execute_result"
    }
   ],
   "source": [
    "test5()"
   ]
  },
  {
   "cell_type": "code",
   "execution_count": 34,
   "id": "1fba830e",
   "metadata": {},
   "outputs": [
    {
     "data": {
      "text/plain": [
       "[3, 4, 5, 6, 7, 7]"
      ]
     },
     "execution_count": 34,
     "metadata": {},
     "output_type": "execute_result"
    }
   ],
   "source": [
    "g = [3,4,5,6,7,7,\"sudh\", [1,2,55,54]]\n",
    "def test6(l):\n",
    "    n = []\n",
    "    if type(l) == list:\n",
    "        for i in l:\n",
    "            if (type(i) == int): n.append(i)\n",
    "    return n\n",
    "test6(g)"
   ]
  },
  {
   "cell_type": "code",
   "execution_count": 36,
   "id": "5c1bffbb",
   "metadata": {},
   "outputs": [],
   "source": [
    "def test8(c):\n",
    "    if type(c) == dict:\n",
    "        return c.keys()\n",
    "    else:\n",
    "        return \"You havent passes a dic\""
   ]
  },
  {
   "cell_type": "code",
   "execution_count": 38,
   "id": "82ab0d24",
   "metadata": {},
   "outputs": [
    {
     "data": {
      "text/plain": [
       "dict_keys(['a', 'b'])"
      ]
     },
     "execution_count": 38,
     "metadata": {},
     "output_type": "execute_result"
    }
   ],
   "source": [
    "test8({ \"a\": 1, \"b\": 3546 })"
   ]
  },
  {
   "cell_type": "code",
   "execution_count": 57,
   "id": "35574378",
   "metadata": {},
   "outputs": [],
   "source": [
    "\n",
    "def test9(l1, l2):\n",
    "    \"\"\"This function helps to merge two list\"\"\"\n",
    "    if ((type(l1) == list) and (type(l2) == list)):\n",
    "        l1.extend(l2) # Append will add the whole list to be\n",
    "        return l1\n",
    "    else:\n",
    "        return \"either of you list is not a string\""
   ]
  },
  {
   "cell_type": "code",
   "execution_count": 56,
   "id": "8c43903d",
   "metadata": {},
   "outputs": [
    {
     "data": {
      "text/plain": [
       "[1, 3, 4, 4, 9, 7]"
      ]
     },
     "execution_count": 56,
     "metadata": {},
     "output_type": "execute_result"
    }
   ],
   "source": [
    "test9([1,3,4], [4,9,7])"
   ]
  },
  {
   "cell_type": "code",
   "execution_count": 58,
   "id": "1703368a",
   "metadata": {},
   "outputs": [
    {
     "name": "stdout",
     "output_type": "stream",
     "text": [
      "Help on function test9 in module __main__:\n",
      "\n",
      "test9(l1, l2)\n",
      "    This function helps to merge two list\n",
      "\n"
     ]
    }
   ],
   "source": [
    "help(test9)"
   ]
  },
  {
   "cell_type": "code",
   "execution_count": 59,
   "id": "c68c00ef",
   "metadata": {},
   "outputs": [
    {
     "data": {
      "text/plain": [
       "'asdsd\\nsd\\ns\\nds\\nds\\nds\\nd\\nsd'"
      ]
     },
     "execution_count": 59,
     "metadata": {},
     "output_type": "execute_result"
    }
   ],
   "source": [
    "\"\"\"asdsd\n",
    "sd\n",
    "s\n",
    "ds\n",
    "ds\n",
    "ds\n",
    "d\n",
    "sd\"\"\""
   ]
  },
  {
   "cell_type": "code",
   "execution_count": 62,
   "id": "3292a2e6",
   "metadata": {},
   "outputs": [
    {
     "name": "stdout",
     "output_type": "stream",
     "text": [
      "15\n"
     ]
    }
   ],
   "source": [
    "def stringLength(s):\n",
    "    \"\"\"Returns a length of a string\"\"\"\n",
    "    i = 0\n",
    "    for j in s:\n",
    "        i += 1\n",
    "        \n",
    "    return i\n",
    "\n",
    "print(stringLength(\"aijbcdsjkvdkfsc\"))"
   ]
  },
  {
   "cell_type": "code",
   "execution_count": null,
   "id": "df066ca3",
   "metadata": {},
   "outputs": [],
   "source": [
    "def "
   ]
  }
 ],
 "metadata": {
  "kernelspec": {
   "display_name": "Python 3 (ipykernel)",
   "language": "python",
   "name": "python3"
  },
  "language_info": {
   "codemirror_mode": {
    "name": "ipython",
    "version": 3
   },
   "file_extension": ".py",
   "mimetype": "text/x-python",
   "name": "python",
   "nbconvert_exporter": "python",
   "pygments_lexer": "ipython3",
   "version": "3.9.7"
  }
 },
 "nbformat": 4,
 "nbformat_minor": 5
}
