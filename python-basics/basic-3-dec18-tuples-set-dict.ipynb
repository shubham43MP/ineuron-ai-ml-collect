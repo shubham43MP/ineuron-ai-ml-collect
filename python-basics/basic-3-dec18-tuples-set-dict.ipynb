{
 "cells": [
  {
   "cell_type": "markdown",
   "id": "d037165d",
   "metadata": {},
   "source": [
    "## Tuples"
   ]
  },
  {
   "cell_type": "code",
   "execution_count": null,
   "id": "0d197ae1",
   "metadata": {},
   "outputs": [],
   "source": [
    "# A kind of datatype to bind multiple elements like the lists.\n",
    "# Slicing works the same in lists tuples and strings\n",
    "# List can hold tuples and tuples can also hold lists\n",
    "# List vs Tuple:\n",
    "# 1) Tuple dont support the item assignment unlike lists. It is an immutable collection\n",
    "# 2) # Syntactitcally they are differentiated by []{tuple} and (){list}\n"
   ]
  },
  {
   "cell_type": "code",
   "execution_count": 1,
   "id": "3537a1c0",
   "metadata": {},
   "outputs": [],
   "source": [
    "t = (1,2,3,4,5)"
   ]
  },
  {
   "cell_type": "code",
   "execution_count": 2,
   "id": "c585e9b5",
   "metadata": {},
   "outputs": [
    {
     "data": {
      "text/plain": [
       "tuple"
      ]
     },
     "execution_count": 2,
     "metadata": {},
     "output_type": "execute_result"
    }
   ],
   "source": [
    "type(t)"
   ]
  },
  {
   "cell_type": "code",
   "execution_count": 3,
   "id": "53537546",
   "metadata": {},
   "outputs": [],
   "source": [
    "t1 = (\"abc\", 45, 5+7j, 67.65)"
   ]
  },
  {
   "cell_type": "code",
   "execution_count": 4,
   "id": "b427a2c6",
   "metadata": {},
   "outputs": [
    {
     "data": {
      "text/plain": [
       "('abc', 45, (5+7j), 67.65)"
      ]
     },
     "execution_count": 4,
     "metadata": {},
     "output_type": "execute_result"
    }
   ],
   "source": [
    "t1"
   ]
  },
  {
   "cell_type": "code",
   "execution_count": 5,
   "id": "3008f5ba",
   "metadata": {},
   "outputs": [],
   "source": [
    "l = (\"abc\", 45, 5+7j, 67.65)"
   ]
  },
  {
   "cell_type": "code",
   "execution_count": 6,
   "id": "a0e32a3a",
   "metadata": {},
   "outputs": [
    {
     "data": {
      "text/plain": [
       "('abc', 45)"
      ]
     },
     "execution_count": 6,
     "metadata": {},
     "output_type": "execute_result"
    }
   ],
   "source": [
    "l[0:2]"
   ]
  },
  {
   "cell_type": "code",
   "execution_count": 7,
   "id": "8ffb04af",
   "metadata": {},
   "outputs": [
    {
     "data": {
      "text/plain": [
       "('abc', 45)"
      ]
     },
     "execution_count": 7,
     "metadata": {},
     "output_type": "execute_result"
    }
   ],
   "source": [
    "t1[0:2]"
   ]
  },
  {
   "cell_type": "code",
   "execution_count": 9,
   "id": "ac3c2a2a",
   "metadata": {},
   "outputs": [
    {
     "data": {
      "text/plain": [
       "(67.65, (5+7j), 45, 'abc')"
      ]
     },
     "execution_count": 9,
     "metadata": {},
     "output_type": "execute_result"
    }
   ],
   "source": [
    "t1[::-1]"
   ]
  },
  {
   "cell_type": "code",
   "execution_count": 10,
   "id": "7e3f0b32",
   "metadata": {},
   "outputs": [
    {
     "data": {
      "text/plain": [
       "5"
      ]
     },
     "execution_count": 10,
     "metadata": {},
     "output_type": "execute_result"
    }
   ],
   "source": [
    "t[-1]"
   ]
  },
  {
   "cell_type": "code",
   "execution_count": 11,
   "id": "97a5bdbd",
   "metadata": {},
   "outputs": [
    {
     "data": {
      "text/plain": [
       "('abc', (5+7j))"
      ]
     },
     "execution_count": 11,
     "metadata": {},
     "output_type": "execute_result"
    }
   ],
   "source": [
    "t1[0::2]"
   ]
  },
  {
   "cell_type": "code",
   "execution_count": 12,
   "id": "4a2c4ec3",
   "metadata": {},
   "outputs": [],
   "source": [
    "l = [\"sbc\", 1, 2, 3]"
   ]
  },
  {
   "cell_type": "code",
   "execution_count": 13,
   "id": "6750cf51",
   "metadata": {},
   "outputs": [],
   "source": [
    "l[0] = \"xyz\""
   ]
  },
  {
   "cell_type": "code",
   "execution_count": 14,
   "id": "e6170e31",
   "metadata": {},
   "outputs": [
    {
     "data": {
      "text/plain": [
       "1"
      ]
     },
     "execution_count": 14,
     "metadata": {},
     "output_type": "execute_result"
    }
   ],
   "source": [
    "t[0]"
   ]
  },
  {
   "cell_type": "code",
   "execution_count": 15,
   "id": "344275b6",
   "metadata": {},
   "outputs": [
    {
     "ename": "TypeError",
     "evalue": "'tuple' object does not support item assignment",
     "output_type": "error",
     "traceback": [
      "\u001b[0;31m---------------------------------------------------------------------------\u001b[0m",
      "\u001b[0;31mTypeError\u001b[0m                                 Traceback (most recent call last)",
      "Input \u001b[0;32mIn [15]\u001b[0m, in \u001b[0;36m<module>\u001b[0;34m\u001b[0m\n\u001b[0;32m----> 1\u001b[0m t[\u001b[38;5;241m0\u001b[39m] \u001b[38;5;241m=\u001b[39m \u001b[38;5;124m\"\u001b[39m\u001b[38;5;124mShubham\u001b[39m\u001b[38;5;124m\"\u001b[39m\n",
      "\u001b[0;31mTypeError\u001b[0m: 'tuple' object does not support item assignment"
     ]
    }
   ],
   "source": [
    "t[0] = \"Shubham\" # Item assignment dont work in Tuple. Hence Tuples are immutable"
   ]
  },
  {
   "cell_type": "code",
   "execution_count": 16,
   "id": "e7ae3186",
   "metadata": {},
   "outputs": [],
   "source": [
    "s = \"Shubham\"\n"
   ]
  },
  {
   "cell_type": "code",
   "execution_count": 17,
   "id": "d9d59720",
   "metadata": {},
   "outputs": [
    {
     "ename": "TypeError",
     "evalue": "'str' object does not support item assignment",
     "output_type": "error",
     "traceback": [
      "\u001b[0;31m---------------------------------------------------------------------------\u001b[0m",
      "\u001b[0;31mTypeError\u001b[0m                                 Traceback (most recent call last)",
      "Input \u001b[0;32mIn [17]\u001b[0m, in \u001b[0;36m<module>\u001b[0;34m\u001b[0m\n\u001b[0;32m----> 1\u001b[0m s[\u001b[38;5;241m0\u001b[39m] \u001b[38;5;241m=\u001b[39m \u001b[38;5;124m\"\u001b[39m\u001b[38;5;124mK\u001b[39m\u001b[38;5;124m\"\u001b[39m\n",
      "\u001b[0;31mTypeError\u001b[0m: 'str' object does not support item assignment"
     ]
    }
   ],
   "source": [
    "s[0] = \"K\" # Item assignment dont work in string. Hence strings are immutable"
   ]
  },
  {
   "cell_type": "code",
   "execution_count": 19,
   "id": "fe93d4db",
   "metadata": {},
   "outputs": [
    {
     "data": {
      "text/plain": [
       "('abc', 45, (5+7j), 67.65, 1, 2, 3, 4, 5)"
      ]
     },
     "execution_count": 19,
     "metadata": {},
     "output_type": "execute_result"
    }
   ],
   "source": [
    "t1 + t"
   ]
  },
  {
   "cell_type": "code",
   "execution_count": 20,
   "id": "ce6424f1",
   "metadata": {},
   "outputs": [
    {
     "data": {
      "text/plain": [
       "1"
      ]
     },
     "execution_count": 20,
     "metadata": {},
     "output_type": "execute_result"
    }
   ],
   "source": [
    "t1.count(45)"
   ]
  },
  {
   "cell_type": "code",
   "execution_count": 23,
   "id": "d90ce597",
   "metadata": {},
   "outputs": [],
   "source": [
    "t2 = (1,2,3,4, (4,7, \"asbc\"))"
   ]
  },
  {
   "cell_type": "code",
   "execution_count": 24,
   "id": "912defbc",
   "metadata": {},
   "outputs": [
    {
     "data": {
      "text/plain": [
       "(1, 2, 3, 4, (4, 7, 'asbc'))"
      ]
     },
     "execution_count": 24,
     "metadata": {},
     "output_type": "execute_result"
    }
   ],
   "source": [
    "t2"
   ]
  },
  {
   "cell_type": "code",
   "execution_count": 25,
   "id": "3bee0727",
   "metadata": {},
   "outputs": [],
   "source": [
    "t3 = (6, 7 , [\"yui\", True, 1,3])"
   ]
  },
  {
   "cell_type": "code",
   "execution_count": 26,
   "id": "f6c5f864",
   "metadata": {},
   "outputs": [
    {
     "data": {
      "text/plain": [
       "3"
      ]
     },
     "execution_count": 26,
     "metadata": {},
     "output_type": "execute_result"
    }
   ],
   "source": [
    "len(t3)"
   ]
  },
  {
   "cell_type": "code",
   "execution_count": 27,
   "id": "7fe3646c",
   "metadata": {},
   "outputs": [],
   "source": [
    "t3[2][0] = \"xyz\""
   ]
  },
  {
   "cell_type": "code",
   "execution_count": 28,
   "id": "181625a0",
   "metadata": {},
   "outputs": [
    {
     "data": {
      "text/plain": [
       "(6, 7, ['xyz', True, 1, 3])"
      ]
     },
     "execution_count": 28,
     "metadata": {},
     "output_type": "execute_result"
    }
   ],
   "source": [
    "t3"
   ]
  },
  {
   "cell_type": "code",
   "execution_count": 29,
   "id": "c17c932d",
   "metadata": {},
   "outputs": [],
   "source": [
    "l3 = list(t3)"
   ]
  },
  {
   "cell_type": "code",
   "execution_count": 30,
   "id": "c8e88d91",
   "metadata": {},
   "outputs": [
    {
     "data": {
      "text/plain": [
       "[6, 7, ['xyz', True, 1, 3]]"
      ]
     },
     "execution_count": 30,
     "metadata": {},
     "output_type": "execute_result"
    }
   ],
   "source": [
    "l3"
   ]
  },
  {
   "cell_type": "markdown",
   "id": "b37c8e53",
   "metadata": {},
   "source": [
    "## Sets"
   ]
  },
  {
   "cell_type": "code",
   "execution_count": null,
   "id": "f5da27aa",
   "metadata": {},
   "outputs": [],
   "source": [
    "# Hold unique elements by value and its and unordered collection.\n",
    "# Sets can also add different data types in one\n",
    "# They are similar to dictionary but not a key value pair instead just values\n",
    "# Slicing cant be applied to Sets just remember --> its not subscribable\n",
    "# List CANT be elements of a set. Its bcz it is an unordered collection of primitive data types\n",
    "# Tuples can be there in the Sets as Tuples are immutable"
   ]
  },
  {
   "cell_type": "code",
   "execution_count": 31,
   "id": "2f0a53e6",
   "metadata": {},
   "outputs": [],
   "source": [
    "l = [1,2,3,4,5,6,7,8,3,4,4,4,4,4,4,4,4,4,4,6]"
   ]
  },
  {
   "cell_type": "code",
   "execution_count": 32,
   "id": "65cdf97d",
   "metadata": {},
   "outputs": [
    {
     "data": {
      "text/plain": [
       "[1, 2, 3, 4, 5, 6, 7, 8, 3, 4, 4, 4, 4, 4, 4, 4, 4, 4, 4, 6]"
      ]
     },
     "execution_count": 32,
     "metadata": {},
     "output_type": "execute_result"
    }
   ],
   "source": [
    "l"
   ]
  },
  {
   "cell_type": "code",
   "execution_count": 33,
   "id": "e292d203",
   "metadata": {},
   "outputs": [
    {
     "data": {
      "text/plain": [
       "{1, 2, 3, 4, 5, 6, 7, 8}"
      ]
     },
     "execution_count": 33,
     "metadata": {},
     "output_type": "execute_result"
    }
   ],
   "source": [
    "s= set(l)\n",
    "s"
   ]
  },
  {
   "cell_type": "code",
   "execution_count": 34,
   "id": "df740007",
   "metadata": {},
   "outputs": [
    {
     "data": {
      "text/plain": [
       "set"
      ]
     },
     "execution_count": 34,
     "metadata": {},
     "output_type": "execute_result"
    }
   ],
   "source": [
    "type(s)"
   ]
  },
  {
   "cell_type": "code",
   "execution_count": 35,
   "id": "98a3986d",
   "metadata": {},
   "outputs": [
    {
     "data": {
      "text/plain": [
       "dict"
      ]
     },
     "execution_count": 35,
     "metadata": {},
     "output_type": "execute_result"
    }
   ],
   "source": [
    "s1 = {}\n",
    "type(s1)"
   ]
  },
  {
   "cell_type": "code",
   "execution_count": 36,
   "id": "8716d9bb",
   "metadata": {},
   "outputs": [
    {
     "data": {
      "text/plain": [
       "set"
      ]
     },
     "execution_count": 36,
     "metadata": {},
     "output_type": "execute_result"
    }
   ],
   "source": [
    "s2 = {1,2,3}\n",
    "type(s2)"
   ]
  },
  {
   "cell_type": "code",
   "execution_count": 38,
   "id": "2e443ae0",
   "metadata": {},
   "outputs": [
    {
     "ename": "TypeError",
     "evalue": "'set' object is not subscriptable",
     "output_type": "error",
     "traceback": [
      "\u001b[0;31m---------------------------------------------------------------------------\u001b[0m",
      "\u001b[0;31mTypeError\u001b[0m                                 Traceback (most recent call last)",
      "Input \u001b[0;32mIn [38]\u001b[0m, in \u001b[0;36m<module>\u001b[0;34m\u001b[0m\n\u001b[0;32m----> 1\u001b[0m \u001b[43ms2\u001b[49m\u001b[43m[\u001b[49m\u001b[38;5;241;43m0\u001b[39;49m\u001b[43m]\u001b[49m\n",
      "\u001b[0;31mTypeError\u001b[0m: 'set' object is not subscriptable"
     ]
    }
   ],
   "source": [
    "s2[0]"
   ]
  },
  {
   "cell_type": "code",
   "execution_count": 39,
   "id": "7f418543",
   "metadata": {},
   "outputs": [],
   "source": [
    "# Convert the set into list if you wanna access. Sets have a different purpose then the list"
   ]
  },
  {
   "cell_type": "code",
   "execution_count": 40,
   "id": "277a0c60",
   "metadata": {},
   "outputs": [
    {
     "data": {
      "text/plain": [
       "{1, 2, 3, 456}"
      ]
     },
     "execution_count": 40,
     "metadata": {},
     "output_type": "execute_result"
    }
   ],
   "source": [
    "s2.add(456)\n",
    "s2"
   ]
  },
  {
   "cell_type": "code",
   "execution_count": 41,
   "id": "25652982",
   "metadata": {},
   "outputs": [],
   "source": [
    "s2.add(\"Shubham\")"
   ]
  },
  {
   "cell_type": "code",
   "execution_count": 42,
   "id": "8736c344",
   "metadata": {},
   "outputs": [
    {
     "data": {
      "text/plain": [
       "{1, 2, 3, 456, 'Shubham'}"
      ]
     },
     "execution_count": 42,
     "metadata": {},
     "output_type": "execute_result"
    }
   ],
   "source": [
    "s2"
   ]
  },
  {
   "cell_type": "code",
   "execution_count": 45,
   "id": "7b24965c",
   "metadata": {},
   "outputs": [
    {
     "data": {
      "text/plain": [
       "{(3, 4, 5, 6), 3, 4, 5, 6, 7}"
      ]
     },
     "execution_count": 45,
     "metadata": {},
     "output_type": "execute_result"
    }
   ],
   "source": [
    "{(3,4,5,6), (3,4,5,6),3,3,4,4,5,6,6,7,7}"
   ]
  },
  {
   "cell_type": "code",
   "execution_count": 46,
   "id": "697b2369",
   "metadata": {},
   "outputs": [],
   "source": [
    "s4 = {(3, 4, 5, 6), 3, 4, 5, 6, 7}"
   ]
  },
  {
   "cell_type": "code",
   "execution_count": 47,
   "id": "2fee5b6e",
   "metadata": {},
   "outputs": [
    {
     "data": {
      "text/plain": [
       "{(3, 4, 5, 6), 3, 5, 6, 7}"
      ]
     },
     "execution_count": 47,
     "metadata": {},
     "output_type": "execute_result"
    }
   ],
   "source": [
    "s4.remove(4)\n",
    "s4"
   ]
  },
  {
   "cell_type": "markdown",
   "id": "f49db3eb",
   "metadata": {},
   "source": [
    "## Dictionary"
   ]
  },
  {
   "cell_type": "code",
   "execution_count": null,
   "id": "1daf1bb5",
   "metadata": {},
   "outputs": [],
   "source": [
    "# its a connection with a key value pair characteristics. Its like a JS Object\n"
   ]
  },
  {
   "cell_type": "code",
   "execution_count": 48,
   "id": "e132b441",
   "metadata": {},
   "outputs": [
    {
     "data": {
      "text/plain": [
       "dict"
      ]
     },
     "execution_count": 48,
     "metadata": {},
     "output_type": "execute_result"
    }
   ],
   "source": [
    "d= {}\n",
    "type(d)"
   ]
  },
  {
   "cell_type": "code",
   "execution_count": 49,
   "id": "e6e5eacd",
   "metadata": {},
   "outputs": [],
   "source": [
    "d= {4: \"Shubham\"}"
   ]
  },
  {
   "cell_type": "code",
   "execution_count": 50,
   "id": "e5391c21",
   "metadata": {},
   "outputs": [],
   "source": [
    "d1 = {\"key1\": 5546, \"key2\": 4536, \"key3\": \"Shubham\"}"
   ]
  },
  {
   "cell_type": "code",
   "execution_count": 51,
   "id": "f230a8ef",
   "metadata": {},
   "outputs": [
    {
     "data": {
      "text/plain": [
       "{'key1': 5546, 'key2': 4536, 'key3': 'Shubham'}"
      ]
     },
     "execution_count": 51,
     "metadata": {},
     "output_type": "execute_result"
    }
   ],
   "source": [
    "d1"
   ]
  },
  {
   "cell_type": "code",
   "execution_count": 53,
   "id": "ce191e0b",
   "metadata": {},
   "outputs": [
    {
     "data": {
      "text/plain": [
       "5546"
      ]
     },
     "execution_count": 53,
     "metadata": {},
     "output_type": "execute_result"
    }
   ],
   "source": [
    "d1['key1']"
   ]
  },
  {
   "cell_type": "code",
   "execution_count": 54,
   "id": "b140567b",
   "metadata": {},
   "outputs": [
    {
     "data": {
      "text/plain": [
       "{'key1': 5546, 'key2': 4536, 'key3': 'Shubham', 'key4': [1, 2, 3, 4]}"
      ]
     },
     "execution_count": 54,
     "metadata": {},
     "output_type": "execute_result"
    }
   ],
   "source": [
    "d1[\"key4\"] = [1,2,3,4]\n",
    "d1"
   ]
  },
  {
   "cell_type": "code",
   "execution_count": 56,
   "id": "4bf07f30",
   "metadata": {},
   "outputs": [
    {
     "data": {
      "text/plain": [
       "dict_keys(['key1', 'key2', 'key3', 'key4'])"
      ]
     },
     "execution_count": 56,
     "metadata": {},
     "output_type": "execute_result"
    }
   ],
   "source": [
    "d1.keys()"
   ]
  },
  {
   "cell_type": "code",
   "execution_count": 57,
   "id": "090396e2",
   "metadata": {},
   "outputs": [
    {
     "data": {
      "text/plain": [
       "dict_values([5546, 4536, 'Shubham', [1, 2, 3, 4]])"
      ]
     },
     "execution_count": 57,
     "metadata": {},
     "output_type": "execute_result"
    }
   ],
   "source": [
    "d1.values()"
   ]
  },
  {
   "cell_type": "code",
   "execution_count": 58,
   "id": "4658d2c6",
   "metadata": {},
   "outputs": [
    {
     "data": {
      "text/plain": [
       "dict_items([('key1', 5546), ('key2', 4536), ('key3', 'Shubham'), ('key4', [1, 2, 3, 4])])"
      ]
     },
     "execution_count": 58,
     "metadata": {},
     "output_type": "execute_result"
    }
   ],
   "source": [
    "d1.items()"
   ]
  },
  {
   "cell_type": "code",
   "execution_count": 59,
   "id": "669c0910",
   "metadata": {},
   "outputs": [
    {
     "data": {
      "text/plain": [
       "{'key2': 4536, 'key3': 'Shubham', 'key4': [1, 2, 3, 4]}"
      ]
     },
     "execution_count": 59,
     "metadata": {},
     "output_type": "execute_result"
    }
   ],
   "source": [
    "del d1['key1']\n",
    "d1"
   ]
  },
  {
   "cell_type": "code",
   "execution_count": null,
   "id": "85947c93",
   "metadata": {},
   "outputs": [],
   "source": [
    "del d # DFeletes dict"
   ]
  },
  {
   "cell_type": "code",
   "execution_count": 60,
   "id": "eae18937",
   "metadata": {},
   "outputs": [
    {
     "data": {
      "text/plain": [
       "4536"
      ]
     },
     "execution_count": 60,
     "metadata": {},
     "output_type": "execute_result"
    }
   ],
   "source": [
    "d1.get('key2')"
   ]
  },
  {
   "cell_type": "code",
   "execution_count": null,
   "id": "0b239693",
   "metadata": {},
   "outputs": [],
   "source": []
  }
 ],
 "metadata": {
  "kernelspec": {
   "display_name": "Python 3 (ipykernel)",
   "language": "python",
   "name": "python3"
  },
  "language_info": {
   "codemirror_mode": {
    "name": "ipython",
    "version": 3
   },
   "file_extension": ".py",
   "mimetype": "text/x-python",
   "name": "python",
   "nbconvert_exporter": "python",
   "pygments_lexer": "ipython3",
   "version": "3.9.9"
  }
 },
 "nbformat": 4,
 "nbformat_minor": 5
}
