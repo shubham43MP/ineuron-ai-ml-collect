{
 "cells": [
  {
   "cell_type": "code",
   "execution_count": 7,
   "id": "71c5dc53",
   "metadata": {},
   "outputs": [
    {
     "name": "stdout",
     "output_type": "stream",
     "text": [
      "Enter valid number of terms15\n",
      "Fibonacci sequence:\n",
      "0\n",
      "1\n",
      "1\n",
      "2\n",
      "3\n",
      "5\n",
      "8\n",
      "13\n",
      "21\n",
      "34\n",
      "55\n",
      "89\n",
      "144\n",
      "233\n",
      "377\n"
     ]
    }
   ],
   "source": [
    "# 1) Write a Python Program to Display Fibonacci Sequence Using Recursion?\n",
    "\n",
    "def fibo(n):\n",
    "    \"\"\"\n",
    "        Recursive program for fibonacci sequence\n",
    "    \"\"\"\n",
    "    if (n<=1):\n",
    "        return n\n",
    "    return (fibo(n-1) + fibo(n - 2))\n",
    "\n",
    "\n",
    "nterms = int(input(\"Enter valid number of terms\"))\n",
    "if nterms <= 0:\n",
    "   print(\"Plese enter a valid pos int\")\n",
    "else:\n",
    "   print(\"The sequence is as under: \")\n",
    "   for i in range(nterms):\n",
    "       print(fibo(i))"
   ]
  },
  {
   "cell_type": "code",
   "execution_count": 13,
   "id": "7579ecdc",
   "metadata": {},
   "outputs": [
    {
     "name": "stdout",
     "output_type": "stream",
     "text": [
      "Enter number 4\n",
      "Factorial is  24\n"
     ]
    }
   ],
   "source": [
    "# 2) Write a Python Program to Find Factorial of Number Using Recursion?\n",
    "\n",
    "def fact(n):\n",
    "    \"\"\"\n",
    "        Recursive program for factorial\n",
    "    \"\"\"\n",
    "    if(n == 0):\n",
    "        return 1\n",
    "    return n * fact(n-1)\n",
    "\n",
    "n = int(input(\"Enter number \"))\n",
    "print(\"Factorial is \", fact(n))"
   ]
  },
  {
   "cell_type": "code",
   "execution_count": 20,
   "id": "35298c51",
   "metadata": {},
   "outputs": [
    {
     "name": "stdout",
     "output_type": "stream",
     "text": [
      "Enter weight in Kg 79.5\n",
      "Enter height in metre 1.81\n",
      "Your BMI is  24.266658526906994 BMI Status: Healthy\n"
     ]
    }
   ],
   "source": [
    "# 3) Write a Python Program to calculate your Body Mass Index??\n",
    "\n",
    "# As we know BMI formula is weight/height*2\n",
    "# Input weight(kg) and height(meter)\n",
    "\n",
    "def bmiCalculator(weight, height):\n",
    "    \"\"\"\n",
    "        Calculates your body mass index and let you know what it indicates\n",
    "    \"\"\"\n",
    "    BMI =  weight/(height ** 2)\n",
    "    print(\"Your BMI is \", BMI, end = \"\")\n",
    "    if BMI <= 18.5:\n",
    "        print(\" BMI Status: Underweight\")\n",
    "    elif BMI > 18.5 and BMI <= 24.9:\n",
    "        print(\" BMI Status: Healthy\")\n",
    "    elif BMI > 24.9 and BMI <= 29.9:\n",
    "        print(\" BMI Status: Overweight\")\n",
    "    else:\n",
    "        print(\" BMI Status: Obese\")\n",
    "    \n",
    "\n",
    "weight = float(input(\"Enter weight in Kg \"))\n",
    "height = float(input(\"Enter height in metre \"))\n",
    "\n",
    "bmiCalculator(weight, height)"
   ]
  },
  {
   "cell_type": "code",
   "execution_count": 21,
   "id": "4d1db642",
   "metadata": {},
   "outputs": [
    {
     "name": "stdout",
     "output_type": "stream",
     "text": [
      "Enter a positive number 5\n",
      "Natural Log is  1.6094379124341003\n"
     ]
    }
   ],
   "source": [
    "# 4) Write a Python Program to calculate the natural logarithm of any number?\n",
    "import math\n",
    "\n",
    "def naturalLogCalculator(num):\n",
    "    \"\"\"\n",
    "        Calculates and print the natural log of a number\n",
    "    \"\"\"\n",
    "    if (num <=0):\n",
    "        print(\"Natural log is undefined for this value. Enter a positive number\")\n",
    "    else:\n",
    "        print(\"Natural Log is \", math.log(num))\n",
    "\n",
    "num = float(input(\"Enter a positive number \"))\n",
    "naturalLogCalculator(num)"
   ]
  },
  {
   "cell_type": "code",
   "execution_count": 28,
   "id": "eb32fcad",
   "metadata": {},
   "outputs": [
    {
     "name": "stdout",
     "output_type": "stream",
     "text": [
      "Enter a natural number 3\n",
      "Cube sum till  3  is  36.0\n"
     ]
    }
   ],
   "source": [
    "# 5) Write a Python Program for cube sum of first n natural numbers?\n",
    "\n",
    "def cubeSum(n):\n",
    "    \"\"\"\n",
    "        Returns the sum of first n natural numbers\n",
    "    \"\"\"\n",
    "    sum = ((n * (n+1) /2 ) ** 2)\n",
    "    return sum\n",
    "\n",
    "n = int(input(\"Enter a natural number \"))\n",
    "print(\"Cube sum till \", n,  \" is \", cubeSum(n))"
   ]
  },
  {
   "cell_type": "code",
   "execution_count": null,
   "id": "7e4de240",
   "metadata": {},
   "outputs": [],
   "source": []
  }
 ],
 "metadata": {
  "kernelspec": {
   "display_name": "Python 3 (ipykernel)",
   "language": "python",
   "name": "python3"
  },
  "language_info": {
   "codemirror_mode": {
    "name": "ipython",
    "version": 3
   },
   "file_extension": ".py",
   "mimetype": "text/x-python",
   "name": "python",
   "nbconvert_exporter": "python",
   "pygments_lexer": "ipython3",
   "version": "3.9.7"
  }
 },
 "nbformat": 4,
 "nbformat_minor": 5
}
