{
 "cells": [
  {
   "cell_type": "code",
   "execution_count": 10,
   "id": "d15f1b63",
   "metadata": {},
   "outputs": [
    {
     "name": "stdout",
     "output_type": "stream",
     "text": [
      "Enter a valid integer 6\n",
      "720\n"
     ]
    }
   ],
   "source": [
    "# 1). Write a Python Program to Find the Factorial of a Number?\n",
    "\n",
    "def factorial(num):\n",
    "    fact = 1\n",
    "    for i in range(1, num + 1):\n",
    "        fact = fact * i\n",
    "    return fact\n",
    "    \n",
    "num = int(input(\"Enter a valid integer \"))\n",
    "print(factorial(num))"
   ]
  },
  {
   "cell_type": "code",
   "execution_count": 12,
   "id": "572e7e2c",
   "metadata": {},
   "outputs": [
    {
     "name": "stdout",
     "output_type": "stream",
     "text": [
      "Enter a valid integer 9\n",
      "9  *  1  =  9\n",
      "9  *  2  =  18\n",
      "9  *  3  =  27\n",
      "9  *  4  =  36\n",
      "9  *  5  =  45\n",
      "9  *  6  =  54\n",
      "9  *  7  =  63\n",
      "9  *  8  =  72\n",
      "9  *  9  =  81\n",
      "9  *  10  =  90\n",
      "None\n"
     ]
    }
   ],
   "source": [
    "# 2). Write a Python Program to Display the multiplication Table?\n",
    "\n",
    "def printMultiplication(num):\n",
    "    for i in range(1, 11):\n",
    "        print(num, \" * \", i, \" = \", num*i)\n",
    "    \n",
    "num = int(input(\"Enter a valid integer \"))\n",
    "print(printMultiplication(num))"
   ]
  },
  {
   "cell_type": "code",
   "execution_count": null,
   "id": "f676cbf9",
   "metadata": {},
   "outputs": [],
   "source": [
    "# 3). Write a Python Program to Print the Fibonacci sequence?"
   ]
  }
 ],
 "metadata": {
  "kernelspec": {
   "display_name": "Python 3 (ipykernel)",
   "language": "python",
   "name": "python3"
  },
  "language_info": {
   "codemirror_mode": {
    "name": "ipython",
    "version": 3
   },
   "file_extension": ".py",
   "mimetype": "text/x-python",
   "name": "python",
   "nbconvert_exporter": "python",
   "pygments_lexer": "ipython3",
   "version": "3.9.7"
  }
 },
 "nbformat": 4,
 "nbformat_minor": 5
}
