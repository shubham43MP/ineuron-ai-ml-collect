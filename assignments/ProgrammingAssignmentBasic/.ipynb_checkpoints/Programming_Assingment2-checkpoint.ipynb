{
 "cells": [
  {
   "cell_type": "code",
   "execution_count": 1,
   "id": "983eadc4",
   "metadata": {},
   "outputs": [
    {
     "name": "stdout",
     "output_type": "stream",
     "text": [
      "Enter Kilometers 1500\n",
      "1500  KMs is equivalent to  932.26  miles \n"
     ]
    }
   ],
   "source": [
    "# 1) Write a Python program to convert kilometers to miles?\n",
    "\n",
    "def kmToMiles(kilometer):\n",
    "    \"\"\"Coverts KM to miles\"\"\"\n",
    "    kmMileConversionFactor = 1.609\n",
    "    return round(kilometer / kmMileConversionFactor, 2)\n",
    "\n",
    "kilometer = int(input(\"Enter Kilometers \"))\n",
    "print(kilometer, \" KMs is equivalent to \", kmToMiles(kilometer), \" miles \")"
   ]
  },
  {
   "cell_type": "code",
   "execution_count": null,
   "id": "c54ad61a",
   "metadata": {},
   "outputs": [],
   "source": []
  },
  {
   "cell_type": "code",
   "execution_count": 2,
   "id": "743d89dc",
   "metadata": {},
   "outputs": [
    {
     "name": "stdout",
     "output_type": "stream",
     "text": [
      "Enter Celcius Temperature 15\n",
      "15  Degree Celcius is equivalent to  59.0  degree  Fahrenheit\n"
     ]
    }
   ],
   "source": [
    "#2 Write a Python program to convert Celsius to Fahrenheit?\n",
    "\n",
    "def celciusToFarenheit(celsiusTemp):\n",
    "    \"\"\"Converts celcius temperature to farenheit\"\"\"\n",
    "    return round((9/5) * celsiusTemp + 32, 0)\n",
    "\n",
    "celsiusTemp = int(input(\"Enter Celcius Temperature \"))\n",
    "print(celsiusTemp, \" Degree Celcius is equivalent to \",\n",
    "      celciusToFarenheit(celsiusTemp), \" degree  Fahrenheit\")\n"
   ]
  },
  {
   "cell_type": "code",
   "execution_count": null,
   "id": "a5f18fd9",
   "metadata": {},
   "outputs": [],
   "source": [
    "# 3) Write a Python program to display calendar?"
   ]
  },
  {
   "cell_type": "code",
   "execution_count": 4,
   "id": "81623143",
   "metadata": {},
   "outputs": [
    {
     "name": "stdout",
     "output_type": "stream",
     "text": [
      "Enter the coefficient a of Quadratic considering ax**2 + bx + c = 01\n",
      "Enter the coefficient b of Quadratic considering ax**2 + bx + c = 05\n",
      "Enter the constant c of Quadratic considering ax**2 + bx + c = 06\n",
      "Roots of quadratic equation are  (-2+0j) (-2+0j)\n"
     ]
    }
   ],
   "source": [
    "# 4) Write a Python program to solve quadratic equation?\n",
    "\n",
    "import cmath\n",
    "\n",
    "def solveQuadratic(a,b,c):\n",
    "    \"\"\"\n",
    "        Solves a Quadratic function.\n",
    "        A typical Quadratic equation is ax**2 + bx + c = 0\n",
    "        Function takes coefficients of  Quadratic Equation as a, b, c \n",
    "        as number and return two solutions    \n",
    "    \"\"\"\n",
    "    if((type(a) !=int) or (type(b) != int) or (type(c) != int)):\n",
    "        print(\"Please enter valid number coefficients\")\n",
    "        return 0, 0\n",
    "    d = (b**2) - 4*a*c\n",
    "    root1 = ((-b + cmath.sqrt(d)))/(2*a)\n",
    "    root2 = ((-b - cmath.sqrt(d)))/(2*a)\n",
    "    return root1, root2\n",
    "\n",
    "a = int(input(\"Enter the coefficient a of Quadratic considering ax**2 + bx + c = 0\"))\n",
    "b = int(input(\"Enter the coefficient b of Quadratic considering ax**2 + bx + c = 0\"))\n",
    "c = int(input(\"Enter the constant c of Quadratic considering ax**2 + bx + c = 0\"))\n",
    "\n",
    "root1, root2 = solveQuadratic(a,b,c)\n",
    "print(\"Roots of quadratic equation are \", root1, root2)"
   ]
  },
  {
   "cell_type": "code",
   "execution_count": 8,
   "id": "95fbb59f",
   "metadata": {},
   "outputs": [
    {
     "name": "stdout",
     "output_type": "stream",
     "text": [
      "Method 1 swap 5 10\n",
      "Method 2 swap 5 10\n"
     ]
    }
   ],
   "source": [
    "# 5) Write a Python program to swap two variables without temp variable?\n",
    "\n",
    "# Method 1\n",
    "x = 10\n",
    "y = 5\n",
    "\n",
    "x = x+y\n",
    "y = x - y\n",
    "x = x - y\n",
    "\n",
    "print(\"Method 1 swap\", x, y)\n",
    "\n",
    "# Method 2\n",
    "x = 10\n",
    "y = 5\n",
    "x,y = y,x\n",
    "print(\"Method 2 swap\", x, y)\n"
   ]
  },
  {
   "cell_type": "code",
   "execution_count": null,
   "id": "ca20ef3e",
   "metadata": {},
   "outputs": [],
   "source": []
  }
 ],
 "metadata": {
  "kernelspec": {
   "display_name": "Python 3 (ipykernel)",
   "language": "python",
   "name": "python3"
  },
  "language_info": {
   "codemirror_mode": {
    "name": "ipython",
    "version": 3
   },
   "file_extension": ".py",
   "mimetype": "text/x-python",
   "name": "python",
   "nbconvert_exporter": "python",
   "pygments_lexer": "ipython3",
   "version": "3.9.7"
  }
 },
 "nbformat": 4,
 "nbformat_minor": 5
}
