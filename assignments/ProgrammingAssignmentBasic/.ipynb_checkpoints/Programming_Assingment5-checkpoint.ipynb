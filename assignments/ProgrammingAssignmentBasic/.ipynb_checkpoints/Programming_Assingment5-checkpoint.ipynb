{
 "cells": [
  {
   "cell_type": "code",
   "execution_count": 4,
   "id": "726698fb",
   "metadata": {},
   "outputs": [
    {
     "name": "stdout",
     "output_type": "stream",
     "text": [
      "Enter the first number 2\n",
      "Enter the second number 8\n",
      "LCM of  2  and  8  is  8\n"
     ]
    }
   ],
   "source": [
    "# 1) Write a Python Program to Find LCM?\n",
    "\n",
    "def lcm(num1, num2):\n",
    "    \"\"\"\n",
    "        This function inputs two integers and outputs their LCM\n",
    "    \"\"\"\n",
    "    greater = 0\n",
    "    if num1 > num2:\n",
    "        greater = num1\n",
    "    else:\n",
    "        greater = num2\n",
    "    while(True):\n",
    "        if( (greater % num1 == 0) and (greater % num2 == 0) ):\n",
    "            return greater\n",
    "        greater += 1\n",
    "    \n",
    "num1 = int(input(\"Enter the first number \"))\n",
    "num2 = int(input(\"Enter the second number \"))\n",
    "LCM = lcm(num1, num2)\n",
    "\n",
    "print(\"LCM of \", num1, \" and \", num2, \" is \", LCM )"
   ]
  },
  {
   "cell_type": "code",
   "execution_count": 7,
   "id": "d8000ac5",
   "metadata": {},
   "outputs": [
    {
     "name": "stdout",
     "output_type": "stream",
     "text": [
      "Enter the first number 58\n",
      "Enter the second number 45\n",
      "HCF of  58  and  45  is  1.0\n"
     ]
    }
   ],
   "source": [
    "# 2) Write a Python Program to Find HCF?\n",
    "\n",
    "# Since we know that LCM * HCF = Product of Two numbers we will exploit it here\n",
    "\n",
    "num1 = int(input(\"Enter the first number \"))\n",
    "num2 = int(input(\"Enter the second number \"))\n",
    "\n",
    "def computeHCF(num1, num2):\n",
    "    \"\"\"\n",
    "        This function inputs two integers and outputs their HCF\n",
    "    \"\"\"\n",
    "    LCM = lcm(num1, num2)\n",
    "    return ((num1 * num2) / LCM)\n",
    "\n",
    "print(\"HCF of \", num1, \" and \", num2, \" is \", computeHCF(num1, num2) )"
   ]
  },
  {
   "cell_type": "code",
   "execution_count": 30,
   "id": "68af4ef2",
   "metadata": {},
   "outputs": [
    {
     "name": "stdout",
     "output_type": "stream",
     "text": [
      "Enter the number 788\n",
      "Binary equivalent of  788  is 0b1100010100\n",
      "Octal equivalent of  788  is 0o1424\n",
      "Hex equivalent of  788  is 0x314\n"
     ]
    }
   ],
   "source": [
    "# 3) Write a Python Program to Convert Decimal to Binary, Octal and Hexadecimal?\n",
    "\n",
    "inp = int(input(\"Enter the number \"))\n",
    "\n",
    "def printBinOctHexEquivalent(inp):\n",
    "    \"\"\"\n",
    "        Prints Binary, Octal and Hexadecimal Equivalent of the given input\n",
    "    \"\"\"\n",
    "\n",
    "    print(\"Binary equivalent of \", inp, \" is\", bin(inp))\n",
    "\n",
    "    print(\"Octal equivalent of \", inp, \" is\", oct(inp))\n",
    "\n",
    "    print(\"Hex equivalent of \", inp, \" is\", hex(inp))\n",
    "    \n",
    "printBinOctHexEquivalent(inp)"
   ]
  },
  {
   "cell_type": "code",
   "execution_count": 15,
   "id": "f5ca7629",
   "metadata": {},
   "outputs": [
    {
     "name": "stdout",
     "output_type": "stream",
     "text": [
      "Enter the character %\n",
      "ASCII value of  % is  37\n"
     ]
    }
   ],
   "source": [
    "# 4) Write a Python Program To Find ASCII value of a character?\n",
    "c = input(\"Enter the character \")\n",
    "   \n",
    "def printASCII(c):\n",
    "    if (len(c) > 1) :\n",
    "        print(\"Please enter only a character\")\n",
    "    else:\n",
    "        print(\"ASCII value of \", c, \"is \", ord(c))\n",
    "\n",
    "printASCII(c)"
   ]
  },
  {
   "cell_type": "code",
   "execution_count": 21,
   "id": "0a8346bc",
   "metadata": {},
   "outputs": [
    {
     "name": "stdout",
     "output_type": "stream",
     "text": [
      "Input the operation you have to perform amongst +, -, * and /-\n",
      "Enter the first number 89\n",
      "Enter the second number 45\n",
      "Result of  -  is 44\n"
     ]
    }
   ],
   "source": [
    "# 5. Write a Python Program to Make a Simple Calculator with 4 basic mathematical operations?\n",
    "\n",
    "operator = input(\"Input the operation you have to perform amongst +, -, * and /\")\n",
    "operand1 = int(input(\"Enter the first number \"))\n",
    "operand2 = int(input(\"Enter the second number \"))\n",
    "\n",
    "def simpleCalc(operator, operand1, operand2):\n",
    "    \"\"\"\n",
    "        This is a basic calculator with basic math operations\n",
    "    \"\"\"\n",
    "    if operator == '+':\n",
    "        return operand1 + operand2\n",
    "    elif operator == '-':\n",
    "        return operand1 - operand2\n",
    "    elif operator == '*':\n",
    "        return operand1 * operand2\n",
    "    elif operator == '/':\n",
    "        return operand1 / operand2\n",
    "    else:\n",
    "        return \"Operator input invalid\"\n",
    "\n",
    "result = simpleCalc(operator, operand1, operand2)\n",
    "print(\"Result of \", operator, \" is\", result)"
   ]
  },
  {
   "cell_type": "code",
   "execution_count": null,
   "id": "53ec3383",
   "metadata": {},
   "outputs": [],
   "source": []
  }
 ],
 "metadata": {
  "kernelspec": {
   "display_name": "Python 3 (ipykernel)",
   "language": "python",
   "name": "python3"
  },
  "language_info": {
   "codemirror_mode": {
    "name": "ipython",
    "version": 3
   },
   "file_extension": ".py",
   "mimetype": "text/x-python",
   "name": "python",
   "nbconvert_exporter": "python",
   "pygments_lexer": "ipython3",
   "version": "3.9.7"
  }
 },
 "nbformat": 4,
 "nbformat_minor": 5
}
