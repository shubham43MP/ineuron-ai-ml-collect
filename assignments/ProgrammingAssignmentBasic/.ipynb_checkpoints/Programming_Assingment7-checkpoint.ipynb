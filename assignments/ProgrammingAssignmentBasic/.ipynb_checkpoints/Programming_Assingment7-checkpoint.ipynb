{
 "cells": [
  {
   "cell_type": "code",
   "execution_count": 1,
   "id": "b8361a37",
   "metadata": {},
   "outputs": [
    {
     "name": "stdout",
     "output_type": "stream",
     "text": [
      "Sum of array is  127\n"
     ]
    }
   ],
   "source": [
    "# 1) Write a Python Program to find sum of array?\n",
    "\n",
    "def arraySum(arr):\n",
    "    \"\"\"\n",
    "        Returns the sum of an array\n",
    "    \"\"\"\n",
    "    sum = 0\n",
    "    for i in arr:\n",
    "        sum += i\n",
    "    return sum\n",
    "\n",
    "arr = [3,4,77,-11,51,3]\n",
    "print(\"Sum of array is \", arraySum(arr))"
   ]
  },
  {
   "cell_type": "code",
   "execution_count": 2,
   "id": "62f4ca59",
   "metadata": {},
   "outputs": [
    {
     "name": "stdout",
     "output_type": "stream",
     "text": [
      "Max element of array is  77\n"
     ]
    }
   ],
   "source": [
    "# 2) Write a Python Program to find largest element in an array?\n",
    "\n",
    "def arrayLargest(arr):\n",
    "    \"\"\"\n",
    "        Returns the largest element of an array\n",
    "    \"\"\"\n",
    "    max = arr[0]\n",
    "    for i in arr:\n",
    "        if(max < i):\n",
    "            max = i\n",
    "    return max\n",
    "\n",
    "arr = [3,4,77,-11,51,3]\n",
    "print(\"Max element of array is \", arrayLargest(arr))"
   ]
  },
  {
   "cell_type": "code",
   "execution_count": 7,
   "id": "7c9f7281",
   "metadata": {},
   "outputs": [
    {
     "name": "stdout",
     "output_type": "stream",
     "text": [
      "Enter the right shift rotation offset 2\n"
     ]
    },
    {
     "data": {
      "text/plain": [
       "[77, -11, 51, 3, 3, 4]"
      ]
     },
     "execution_count": 7,
     "metadata": {},
     "output_type": "execute_result"
    }
   ],
   "source": [
    "# 3) Write a Python Program for array rotation?\n",
    "\n",
    "def arrayRotate(arr, k):\n",
    "    \"\"\"\n",
    "        Returns the rotated array by k places from last to first\n",
    "    \"\"\"\n",
    "    for i in range(0, k):\n",
    "        for j in range(0, len(arr) -1 ):\n",
    "            temp = arr[j]\n",
    "            arr[j] = arr[j+1]\n",
    "            arr[j+1] = temp\n",
    "    return arr\n",
    "    \n",
    "arr = [3,4,77,-11,51,3]\n",
    "\n",
    "k = int(input(\"Enter the right shift rotation offset \"))\n",
    "arrayRotate(arr, k)  "
   ]
  },
  {
   "cell_type": "code",
   "execution_count": 9,
   "id": "aee45ca0",
   "metadata": {},
   "outputs": [
    {
     "name": "stdout",
     "output_type": "stream",
     "text": [
      "Enter the place where array needs split 2\n"
     ]
    },
    {
     "data": {
      "text/plain": [
       "[5, 12, 14, 27, 9, 2, 3]"
      ]
     },
     "execution_count": 9,
     "metadata": {},
     "output_type": "execute_result"
    }
   ],
   "source": [
    "# 4) Write a Python Program to Split the array and add the first part to the end?\n",
    "\n",
    "# Nothing but the special case of above\n",
    "\n",
    "def arraySplitLastAppend(arr, p):\n",
    "    \"\"\"\n",
    "        Splits the first p elements and appends to right\n",
    "    \"\"\"\n",
    "    arrayRotate(arr, p)\n",
    "    return arr\n",
    "\n",
    "arr = [2, 3, 5, 12, 14, 27, 9]\n",
    "\n",
    "p = int(input(\"Enter the place where array needs split \"))\n",
    "arraySplitLastAppend(arr, p)  "
   ]
  },
  {
   "cell_type": "code",
   "execution_count": 34,
   "id": "e40fa14b",
   "metadata": {},
   "outputs": [
    {
     "name": "stdout",
     "output_type": "stream",
     "text": [
      "monotone increasing\n"
     ]
    }
   ],
   "source": [
    "# 5) Write a Python Program to check if given array is Monotonic?\n",
    "\n",
    "def checkMonotonic(arr):\n",
    "    \"\"\"\n",
    "        Checks whether the given array is monotonic\n",
    "    \"\"\"\n",
    "    for i in range(len(arr) - 1):\n",
    "        if all(arr[i] <= arr[i + 1] for i in range(len(arr) - 1)):\n",
    "            return \"monotone increasing\"\n",
    "        elif all(arr[i] >= arr[i + 1] for i in range(len(arr) - 1)):\n",
    "            return \"monotone decreasing\"\n",
    "    return \"not monotonic array\"\n",
    "arr = [2, 3, 5, 12, 14, 27, 39]\n",
    "print(checkMonotonic(arr))\n"
   ]
  },
  {
   "cell_type": "code",
   "execution_count": null,
   "id": "fa06dc93",
   "metadata": {},
   "outputs": [],
   "source": []
  },
  {
   "cell_type": "code",
   "execution_count": null,
   "id": "d0b36b0f",
   "metadata": {},
   "outputs": [],
   "source": []
  }
 ],
 "metadata": {
  "kernelspec": {
   "display_name": "Python 3 (ipykernel)",
   "language": "python",
   "name": "python3"
  },
  "language_info": {
   "codemirror_mode": {
    "name": "ipython",
    "version": 3
   },
   "file_extension": ".py",
   "mimetype": "text/x-python",
   "name": "python",
   "nbconvert_exporter": "python",
   "pygments_lexer": "ipython3",
   "version": "3.9.7"
  }
 },
 "nbformat": 4,
 "nbformat_minor": 5
}
