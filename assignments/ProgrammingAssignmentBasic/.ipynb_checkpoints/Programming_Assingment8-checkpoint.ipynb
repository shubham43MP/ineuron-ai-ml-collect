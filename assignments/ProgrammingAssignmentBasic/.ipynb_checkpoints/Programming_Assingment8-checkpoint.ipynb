{
 "cells": [
  {
   "cell_type": "code",
   "execution_count": 2,
   "id": "325c7920",
   "metadata": {},
   "outputs": [
    {
     "data": {
      "text/plain": [
       "[[6, 12, 7], [8, 14, 9], [13, 13, 13]]"
      ]
     },
     "execution_count": 2,
     "metadata": {},
     "output_type": "execute_result"
    }
   ],
   "source": [
    "# 1) Write a Python Program to Add Two Matrices?\n",
    "\n",
    "def matrixAdd(a, b):\n",
    "    \"\"\"\n",
    "        Returns a resultant matrix with addition of the given matrix\n",
    "    \"\"\"\n",
    "    row = len(a)\n",
    "    column = len(a[0])\n",
    "    result = []\n",
    "    try:\n",
    "        if ((row != len(b)) or column != len(b[0])):\n",
    "            raise Exception(\"MatrixDimensionMismatch\")\n",
    "        else:\n",
    "            for i in range(row):\n",
    "                currRow = []\n",
    "                for j in range(column):\n",
    "                    currRow.append( a[i][j] + b[i][j])\n",
    "                result.append(currRow)\n",
    "        return result\n",
    "    except Exception as e:\n",
    "        print(\"Some error occured\", e)\n",
    "\n",
    "a = [ [1,4,5], [4,7,5], [8,7,6] ]\n",
    "b = [[ 5,8,2 ], [4,7,4], [5,6,7]]\n",
    "\n",
    "matrixAdd(a, b)"
   ]
  },
  {
   "cell_type": "code",
   "execution_count": 7,
   "id": "7cb311b5",
   "metadata": {},
   "outputs": [
    {
     "name": "stdout",
     "output_type": "stream",
     "text": [
      "a[i][j] 1 5\n",
      "a[i][j] 4 8\n",
      "a[i][j] 5 2\n",
      "a[i][j] 4 4\n",
      "a[i][j] 7 7\n",
      "a[i][j] 5 4\n",
      "a[i][j] 8 5\n",
      "a[i][j] 7 6\n",
      "a[i][j] 6 7\n"
     ]
    },
    {
     "data": {
      "text/plain": [
       "[[5, 21, 46], [32, 81, 111], [16, 44, 86]]"
      ]
     },
     "execution_count": 7,
     "metadata": {},
     "output_type": "execute_result"
    }
   ],
   "source": [
    "# 2) Write a Python Program to Multiply Two Matrices?\n",
    "\n",
    "def matrixMul(a, b):\n",
    "    \"\"\"\n",
    "        Returns a resultant matrix with multiplication of the given matrix\n",
    "    \"\"\"\n",
    "    row = len(a)\n",
    "    column = len(a[0])\n",
    "    rowB = len(b)\n",
    "    result = []\n",
    "    try:\n",
    "        if column != rowB:\n",
    "            raise Exception(\"MatrixDimensionIncompatible\")\n",
    "        else:\n",
    "            for i in range(row):\n",
    "                resultRow = []\n",
    "                sum = 0\n",
    "                for j in range(column):\n",
    "                    print('a[i][j]', a[i][j], b[i][j])\n",
    "                    sum += a[i][j] * b[j][i]\n",
    "                    resultRow.append(sum)\n",
    "                result.append(resultRow)\n",
    "            return result\n",
    "    except Exception as e:\n",
    "        print(\"Please check the input\", e)\n",
    "\n",
    "a = [ [1,4,5], [4,7,5], [8,7,6] ]\n",
    "b = [[ 5,8,2 ], [4,7,4], [5,6,7]]\n",
    "\n",
    "matrixMul(a, b)"
   ]
  },
  {
   "cell_type": "code",
   "execution_count": null,
   "id": "6df8ce3b",
   "metadata": {},
   "outputs": [],
   "source": []
  }
 ],
 "metadata": {
  "kernelspec": {
   "display_name": "Python 3 (ipykernel)",
   "language": "python",
   "name": "python3"
  },
  "language_info": {
   "codemirror_mode": {
    "name": "ipython",
    "version": 3
   },
   "file_extension": ".py",
   "mimetype": "text/x-python",
   "name": "python",
   "nbconvert_exporter": "python",
   "pygments_lexer": "ipython3",
   "version": "3.9.7"
  }
 },
 "nbformat": 4,
 "nbformat_minor": 5
}
