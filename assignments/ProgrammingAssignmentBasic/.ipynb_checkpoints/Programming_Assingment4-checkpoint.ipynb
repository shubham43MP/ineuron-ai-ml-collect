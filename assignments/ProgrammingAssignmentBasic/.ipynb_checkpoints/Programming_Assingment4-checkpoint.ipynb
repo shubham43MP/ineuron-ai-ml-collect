{
 "cells": [
  {
   "cell_type": "code",
   "execution_count": 10,
   "id": "be8cc7b1",
   "metadata": {},
   "outputs": [
    {
     "name": "stdout",
     "output_type": "stream",
     "text": [
      "Enter a valid integer 6\n",
      "720\n"
     ]
    }
   ],
   "source": [
    "# 1). Write a Python Program to Find the Factorial of a Number?\n",
    "\n",
    "def factorial(num):\n",
    "    fact = 1\n",
    "    for i in range(1, num + 1):\n",
    "        fact = fact * i\n",
    "    return fact\n",
    "    \n",
    "num = int(input(\"Enter a valid integer \"))\n",
    "print(factorial(num))"
   ]
  },
  {
   "cell_type": "code",
   "execution_count": 11,
   "id": "e12ac6d6",
   "metadata": {},
   "outputs": [
    {
     "name": "stdout",
     "output_type": "stream",
     "text": [
      "Enter a valid integer 5\n",
      "5  *  1    5\n",
      "5  *  2    10\n",
      "5  *  3    15\n",
      "5  *  4    20\n",
      "5  *  5    25\n",
      "5  *  6    30\n",
      "5  *  7    35\n",
      "5  *  8    40\n",
      "5  *  9    45\n",
      "5  *  10    50\n",
      "None\n"
     ]
    }
   ],
   "source": [
    "# 2). Write a Python Program to Display the multiplication Table?\n",
    "\n",
    "def printMultiplication(num):\n",
    "    for i in range(1, 11):\n",
    "        print(num, \" * \", i, \" = \", num*i)\n",
    "    \n",
    "num = int(input(\"Enter a valid integer \"))\n",
    "print(printMultiplication(num))"
   ]
  },
  {
   "cell_type": "code",
   "execution_count": null,
   "id": "839d132a",
   "metadata": {},
   "outputs": [],
   "source": []
  }
 ],
 "metadata": {
  "kernelspec": {
   "display_name": "Python 3 (ipykernel)",
   "language": "python",
   "name": "python3"
  },
  "language_info": {
   "codemirror_mode": {
    "name": "ipython",
    "version": 3
   },
   "file_extension": ".py",
   "mimetype": "text/x-python",
   "name": "python",
   "nbconvert_exporter": "python",
   "pygments_lexer": "ipython3",
   "version": "3.9.7"
  }
 },
 "nbformat": 4,
 "nbformat_minor": 5
}
