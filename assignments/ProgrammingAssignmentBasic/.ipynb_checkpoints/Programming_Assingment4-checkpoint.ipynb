{
 "cells": [
  {
   "cell_type": "code",
   "execution_count": 10,
   "id": "6978fee0",
   "metadata": {},
   "outputs": [
    {
     "name": "stdout",
     "output_type": "stream",
     "text": [
      "Enter a valid integer 6\n",
      "720\n"
     ]
    }
   ],
   "source": [
    "# 1). Write a Python Program to Find the Factorial of a Number?\n",
    "\n",
    "def factorial(num):\n",
    "    \"\"\"\n",
    "        Prints the factorial of a number\n",
    "    \"\"\"\n",
    "    fact = 1\n",
    "    for i in range(1, num + 1):\n",
    "        fact = fact * i\n",
    "    return fact\n",
    "    \n",
    "num = int(input(\"Enter a valid integer \"))\n",
    "print(factorial(num))"
   ]
  },
  {
   "cell_type": "code",
   "execution_count": 12,
   "id": "62960267",
   "metadata": {},
   "outputs": [
    {
     "name": "stdout",
     "output_type": "stream",
     "text": [
      "Enter a valid integer 9\n",
      "9  *  1  =  9\n",
      "9  *  2  =  18\n",
      "9  *  3  =  27\n",
      "9  *  4  =  36\n",
      "9  *  5  =  45\n",
      "9  *  6  =  54\n",
      "9  *  7  =  63\n",
      "9  *  8  =  72\n",
      "9  *  9  =  81\n",
      "9  *  10  =  90\n",
      "None\n"
     ]
    }
   ],
   "source": [
    "# 2). Write a Python Program to Display the multiplication Table?\n",
    "\n",
    "def printMultiplication(num):\n",
    "    \"\"\"\n",
    "        Prints a multiplication table\n",
    "    \"\"\"\n",
    "    for i in range(1, 11):\n",
    "        print(num, \" * \", i, \" = \", num*i)\n",
    "    \n",
    "num = int(input(\"Enter a valid integer \"))\n",
    "print(printMultiplication(num))"
   ]
  },
  {
   "cell_type": "code",
   "execution_count": 16,
   "id": "fea2ec01",
   "metadata": {},
   "outputs": [
    {
     "name": "stdout",
     "output_type": "stream",
     "text": [
      "Enter no. of terms 100\n",
      "0 1 1 2 3 5 8 13 21 34 55 89 144 233 377 610 987 1597 2584 4181 6765 10946 17711 28657 46368 75025 121393 196418 317811 514229 832040 1346269 2178309 3524578 5702887 9227465 14930352 24157817 39088169 63245986 102334155 165580141 267914296 433494437 701408733 1134903170 1836311903 2971215073 4807526976 7778742049 12586269025 20365011074 32951280099 53316291173 86267571272 139583862445 225851433717 365435296162 591286729879 956722026041 1548008755920 2504730781961 4052739537881 6557470319842 10610209857723 17167680177565 27777890035288 44945570212853 72723460248141 117669030460994 190392490709135 308061521170129 498454011879264 806515533049393 1304969544928657 2111485077978050 3416454622906707 5527939700884757 8944394323791464 14472334024676221 23416728348467685 37889062373143906 61305790721611591 99194853094755497 160500643816367088 259695496911122585 420196140727489673 679891637638612258 1100087778366101931 1779979416004714189 2880067194370816120 4660046610375530309 7540113804746346429 12200160415121876738 19740274219868223167 31940434634990099905 51680708854858323072 83621143489848422977 135301852344706746049 218922995834555169026 354224848179261915075 "
     ]
    }
   ],
   "source": [
    "# 3). Write a Python Program to Print the Fibonacci sequence?\n",
    "\n",
    "def printFibonacci(numTerms):\n",
    "    \"\"\"\n",
    "        This prints a fibonacci sequence with numTerms elements\n",
    "    \"\"\"\n",
    "    counter = 0\n",
    "\n",
    "    first = 0\n",
    "    second = 1\n",
    "    temp = 0\n",
    "\n",
    "    while counter <= numTerms:\n",
    "      print(first, end = \" \")\n",
    "      temp = first + second\n",
    "      first = second\n",
    "      second = temp\n",
    "      counter = counter + 1\n",
    "        \n",
    "numTerms = int(input(\"Enter no. of terms \"))\n",
    "printFibonacci(numTerms)"
   ]
  },
  {
   "cell_type": "code",
   "execution_count": 30,
   "id": "aee38bbb",
   "metadata": {},
   "outputs": [
    {
     "name": "stdout",
     "output_type": "stream",
     "text": [
      "Enter a valid integer 1\n",
      "Armstrong number\n"
     ]
    }
   ],
   "source": [
    "# 4). Write a Python Program to Check Armstrong Number?\n",
    "import math\n",
    "def checkArmStrong(num):\n",
    "    \"\"\"\n",
    "        Checks if a given number is an armstrong number\n",
    "    \"\"\"\n",
    "    sumOfCubes = 0\n",
    "    initialNum = num\n",
    "    while num > 0:\n",
    "        digit = num % 10\n",
    "        sumOfCubes += (digit ** 3)\n",
    "        num = math.floor((num / 10))\n",
    "        \n",
    "    return sumOfCubes == initialNum\n",
    "num = int(input(\"Enter a valid integer \"))\n",
    "isArmstrong = checkArmStrong(num)\n",
    "if isArmstrong:\n",
    "    print(\"Armstrong number\")\n",
    "else:\n",
    "    print(\"not an armstrong number\")"
   ]
  },
  {
   "cell_type": "code",
   "execution_count": null,
   "id": "dad65ed2",
   "metadata": {},
   "outputs": [],
   "source": [
    "# 5. Write a Python Program to Find Armstrong Number in an Interval?"
   ]
  },
  {
   "cell_type": "code",
   "execution_count": null,
   "id": "5c447ce3",
   "metadata": {},
   "outputs": [],
   "source": []
  }
 ],
 "metadata": {
  "kernelspec": {
   "display_name": "Python 3 (ipykernel)",
   "language": "python",
   "name": "python3"
  },
  "language_info": {
   "codemirror_mode": {
    "name": "ipython",
    "version": 3
   },
   "file_extension": ".py",
   "mimetype": "text/x-python",
   "name": "python",
   "nbconvert_exporter": "python",
   "pygments_lexer": "ipython3",
   "version": "3.9.7"
  }
 },
 "nbformat": 4,
 "nbformat_minor": 5
}
