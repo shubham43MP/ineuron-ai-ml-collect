{
 "cells": [
  {
   "cell_type": "code",
   "execution_count": 3,
   "id": "4ae2ee71",
   "metadata": {},
   "outputs": [
    {
     "name": "stdout",
     "output_type": "stream",
     "text": [
      "Enter a valid number-89\n",
      "Negative number\n"
     ]
    }
   ],
   "source": [
    "# 1.) Write a Python Program to Check if a Number is Positive, Negative or Zero?\n",
    "\n",
    "def posNegZero(num):\n",
    "    \"\"\"\n",
    "        Figures out whether a given number is positive negative or zero\n",
    "    \"\"\"\n",
    "    if num > 0:\n",
    "        print(\"Positve number\")\n",
    "    elif num < 0:\n",
    "        print(\"Negative number\")\n",
    "    else:\n",
    "        print(\"Number is zero\")\n",
    "\n",
    "num = int(input(\"Enter a valid number\"))\n",
    "posNegZero(num)    "
   ]
  },
  {
   "cell_type": "code",
   "execution_count": 5,
   "id": "819bd69b",
   "metadata": {},
   "outputs": [
    {
     "name": "stdout",
     "output_type": "stream",
     "text": [
      "Enter a valid number78\n",
      "Even number\n"
     ]
    }
   ],
   "source": [
    "# 2.) Write a Python Program to Check if a Number is Odd or Even?\n",
    "def oddEvenCheck(num):\n",
    "    \"\"\"\n",
    "        Figures out whether a given number is Even or Odd\n",
    "    \"\"\"\n",
    "    if num % 2 == 0:\n",
    "        print(\"Even number\")\n",
    "    else:\n",
    "        print(\"Odd Number\")\n",
    "\n",
    "num = int(input(\"Enter a valid number\"))\n",
    "oddEvenCheck(num)  "
   ]
  },
  {
   "cell_type": "code",
   "execution_count": 12,
   "id": "4a85a0de",
   "metadata": {},
   "outputs": [
    {
     "name": "stdout",
     "output_type": "stream",
     "text": [
      "Enter a valid year 2012\n",
      "leap year\n"
     ]
    }
   ],
   "source": [
    "# 3.) Write a Python Program to Check Leap Year?\n",
    "def leapYearCheck(year):\n",
    "    \"\"\"\n",
    "        Figures out whether a given year is leap or not\n",
    "    \"\"\"\n",
    "    if (year % 400 == 0) and (year % 100 == 0):\n",
    "        print(\"Leap Year\")\n",
    "    elif ((year % 4 == 0) and (year % 100 !=0 ) ):\n",
    "        print(\"leap year\")\n",
    "    else:\n",
    "        print(\"Not a leap year\")\n",
    "\n",
    "year = int(input(\"Enter a valid year \"))\n",
    "leapYearCheck(year)\n"
   ]
  },
  {
   "cell_type": "code",
   "execution_count": 6,
   "id": "1bbd9824",
   "metadata": {},
   "outputs": [
    {
     "name": "stdout",
     "output_type": "stream",
     "text": [
      "Enter a valid number 45\n",
      "Not Prime number\n"
     ]
    }
   ],
   "source": [
    "#4 Write a Python Program to Check Prime Number?\n",
    "\n",
    "def checkPrime(num):\n",
    "    \"\"\"\n",
    "        Checks whether a number is prime or not\n",
    "    \"\"\"\n",
    "    flag = False\n",
    "    if num > 1:\n",
    "        # check for factors\n",
    "        for i in range(2, num):\n",
    "            if (num % i) == 0:\n",
    "                flag = True\n",
    "                break\n",
    "    return flag\n",
    "\n",
    "num = int(input(\"Enter a valid number \"))\n",
    "isNotPrime = checkPrime(num)\n",
    "if isNotPrime:\n",
    "    print('Not Prime number')\n",
    "else:\n",
    "    print('Prime number')\n"
   ]
  },
  {
   "cell_type": "code",
   "execution_count": 8,
   "id": "960bc7c5",
   "metadata": {},
   "outputs": [
    {
     "name": "stdout",
     "output_type": "stream",
     "text": [
      "12357111317192329313741434753596167717379838997"
     ]
    }
   ],
   "source": [
    "# 5.) Write a Python Program to Print all Prime Numbers in an interval of 1-100000\n",
    "def printPrimeInRange(numRange):\n",
    "    for i in range(1, numRange+1):\n",
    "        isPrime = not(checkPrime(i))\n",
    "        if isPrime:\n",
    "            print(i, end = \" \")\n",
    "\n",
    "printPrimeInRange(100)"
   ]
  },
  {
   "cell_type": "code",
   "execution_count": null,
   "id": "e41d9c3d",
   "metadata": {},
   "outputs": [],
   "source": []
  }
 ],
 "metadata": {
  "kernelspec": {
   "display_name": "Python 3 (ipykernel)",
   "language": "python",
   "name": "python3"
  },
  "language_info": {
   "codemirror_mode": {
    "name": "ipython",
    "version": 3
   },
   "file_extension": ".py",
   "mimetype": "text/x-python",
   "name": "python",
   "nbconvert_exporter": "python",
   "pygments_lexer": "ipython3",
   "version": "3.9.7"
  }
 },
 "nbformat": 4,
 "nbformat_minor": 5
}
