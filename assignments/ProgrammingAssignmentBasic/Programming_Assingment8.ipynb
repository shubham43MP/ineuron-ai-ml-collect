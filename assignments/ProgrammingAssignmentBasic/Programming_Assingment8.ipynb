{
 "cells": [
  {
   "cell_type": "code",
   "execution_count": 6,
   "id": "325c7920",
   "metadata": {},
   "outputs": [
    {
     "name": "stdout",
     "output_type": "stream",
     "text": [
      "asasasa 0\n",
      "asasasa 1\n"
     ]
    },
    {
     "data": {
      "text/plain": [
       "[[6, 12, 7], [8, 14, 9]]"
      ]
     },
     "execution_count": 6,
     "metadata": {},
     "output_type": "execute_result"
    }
   ],
   "source": [
    "# 1) Write a Python Program to Add Two Matrices?\n",
    "\n",
    "def matrixAdd(a, b):\n",
    "    \"\"\"\n",
    "        Returns a resultant matrix with addition of the given matrix\n",
    "    \"\"\"\n",
    "    row = len(a)\n",
    "    column = len(a[0])\n",
    "    result = []\n",
    "    try:\n",
    "        if ((row != len(b)) or column != len(b[0])):\n",
    "            raise Exception(\"MatrixDimensionMismatch\")\n",
    "        else:\n",
    "            for i in range(row):\n",
    "                print('asasasa', i)\n",
    "                currRow = []\n",
    "                for j in range(column):\n",
    "                    currRow.append( a[i][j] + b[i][j])\n",
    "                result.append(currRow)\n",
    "        return result\n",
    "    except Exception as e:\n",
    "        print(\"Some error occured\", e)\n",
    "\n",
    "a = [ [1,4,5], [4,7,5] ]\n",
    "b = [[ 5,8,2 ], [4,7,4]]\n",
    "\n",
    "matrixAdd(a, b)"
   ]
  },
  {
   "cell_type": "code",
   "execution_count": null,
   "id": "7cb311b5",
   "metadata": {},
   "outputs": [],
   "source": [
    "# 2) Write a Python Program to Multiply Two Matrices?"
   ]
  }
 ],
 "metadata": {
  "kernelspec": {
   "display_name": "Python 3 (ipykernel)",
   "language": "python",
   "name": "python3"
  },
  "language_info": {
   "codemirror_mode": {
    "name": "ipython",
    "version": 3
   },
   "file_extension": ".py",
   "mimetype": "text/x-python",
   "name": "python",
   "nbconvert_exporter": "python",
   "pygments_lexer": "ipython3",
   "version": "3.9.7"
  }
 },
 "nbformat": 4,
 "nbformat_minor": 5
}
