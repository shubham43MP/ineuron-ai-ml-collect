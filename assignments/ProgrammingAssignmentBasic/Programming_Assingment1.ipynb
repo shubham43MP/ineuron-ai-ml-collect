{
 "cells": [
  {
   "cell_type": "code",
   "execution_count": null,
   "id": "d2086575",
   "metadata": {},
   "outputs": [],
   "source": [
    "# 1). Write a Python program to print \"Hello Python\"?"
   ]
  },
  {
   "cell_type": "code",
   "execution_count": 1,
   "id": "6da058ee",
   "metadata": {},
   "outputs": [
    {
     "name": "stdout",
     "output_type": "stream",
     "text": [
      "Hello Python\n"
     ]
    }
   ],
   "source": [
    "print('Hello Python')"
   ]
  },
  {
   "cell_type": "code",
   "execution_count": null,
   "id": "ee3e38f8",
   "metadata": {},
   "outputs": [],
   "source": [
    "# 2.) Write a Python program to do arithmetical operations addition and division.?"
   ]
  },
  {
   "cell_type": "code",
   "execution_count": 2,
   "id": "01f1a5d2",
   "metadata": {},
   "outputs": [
    {
     "name": "stdout",
     "output_type": "stream",
     "text": [
      "Add =  15  Div =  2.0\n"
     ]
    }
   ],
   "source": [
    "a = 10\n",
    "b = 5\n",
    "add = a + b\n",
    "div = a/b\n",
    "\n",
    "print('Addition = ',add, \" Division = \", div)"
   ]
  },
  {
   "cell_type": "code",
   "execution_count": null,
   "id": "e377a81c",
   "metadata": {},
   "outputs": [],
   "source": [
    "# 3) Write a Python program to find the area of a triangle?"
   ]
  },
  {
   "cell_type": "code",
   "execution_count": 3,
   "id": "5f79059d",
   "metadata": {},
   "outputs": [
    {
     "name": "stdout",
     "output_type": "stream",
     "text": [
      "Area of traingle is  75.0\n"
     ]
    }
   ],
   "source": [
    "base = 15\n",
    "height = 10\n",
    "\n",
    "areaTriangle = 0.5 * base * height\n",
    "\n",
    "print(\"Area of traingle is \", areaTriangle)"
   ]
  },
  {
   "cell_type": "code",
   "execution_count": null,
   "id": "d87565b7",
   "metadata": {},
   "outputs": [],
   "source": [
    "# 4) Write a Python program to swap two variables?"
   ]
  },
  {
   "cell_type": "code",
   "execution_count": 4,
   "id": "587d9c02",
   "metadata": {},
   "outputs": [
    {
     "name": "stdout",
     "output_type": "stream",
     "text": [
      "6 5\n"
     ]
    }
   ],
   "source": [
    "a = 5\n",
    "b = 6\n",
    "swap = a\n",
    "a=b\n",
    "b = swap\n",
    "print(a, b)"
   ]
  },
  {
   "cell_type": "code",
   "execution_count": null,
   "id": "a62277f3",
   "metadata": {},
   "outputs": [],
   "source": [
    "# 5) Write a Python program to generate a random number?"
   ]
  },
  {
   "cell_type": "code",
   "execution_count": 7,
   "id": "d8fa597d",
   "metadata": {},
   "outputs": [
    {
     "name": "stdout",
     "output_type": "stream",
     "text": [
      "38\n"
     ]
    }
   ],
   "source": [
    "import random\n",
    "print(random.randint(0, 100))"
   ]
  },
  {
   "cell_type": "code",
   "execution_count": null,
   "id": "a082dda7",
   "metadata": {},
   "outputs": [],
   "source": []
  }
 ],
 "metadata": {
  "kernelspec": {
   "display_name": "Python 3 (ipykernel)",
   "language": "python",
   "name": "python3"
  },
  "language_info": {
   "codemirror_mode": {
    "name": "ipython",
    "version": 3
   },
   "file_extension": ".py",
   "mimetype": "text/x-python",
   "name": "python",
   "nbconvert_exporter": "python",
   "pygments_lexer": "ipython3",
   "version": "3.9.9"
  }
 },
 "nbformat": 4,
 "nbformat_minor": 5
}
