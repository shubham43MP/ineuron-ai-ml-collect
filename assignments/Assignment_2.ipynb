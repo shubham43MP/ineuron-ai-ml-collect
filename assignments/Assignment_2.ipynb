{
 "cells": [
  {
   "cell_type": "code",
   "execution_count": null,
   "id": "7059ddd9",
   "metadata": {},
   "outputs": [],
   "source": [
    "1.What are the two values of the Boolean data type? How do you write them?\n",
    "\n",
    "# Ans:\n",
    "# The two values of Boolean data type are True and False. They are written as: True, False"
   ]
  },
  {
   "cell_type": "code",
   "execution_count": null,
   "id": "20099731",
   "metadata": {},
   "outputs": [],
   "source": [
    "2. What are the three different types of Boolean operators?\n",
    "# Ans:\n",
    "# The are 3 different types of boolean operators: AND OR and NOT. Python Equivalent is:\n",
    "# and, or, not"
   ]
  },
  {
   "cell_type": "code",
   "execution_count": null,
   "id": "becd7613",
   "metadata": {},
   "outputs": [],
   "source": [
    "3. Make a list of each Boolean operators truth tables (i.e. every possible combination\n",
    "of Boolean values for the operator and what it evaluate )\n",
    "\n",
    "# Ans:\n",
    "# Truth Table for AND\n",
    "\n",
    "    # I1 I2   OUTPUT\n",
    "    # 0 0 --> 0\n",
    "    # 0 1 --> 0\n",
    "    # 1 0 --> 0\n",
    "    # 1 1 --> 1\n",
    "\n",
    "# Truth Table for OR\n",
    "\n",
    "    # I1 I2   OUTPUT\n",
    "    # 0 0 --> 0\n",
    "    # 0 1 --> 1\n",
    "    # 1 0 --> 1\n",
    "    # 1 1 --> 1\n",
    "\n",
    "# Truth Table for NOT\n",
    "\n",
    "    # I1 I2   OUTPUT\n",
    "    # 1 --> 0\n",
    "    # 0 --> 1\n"
   ]
  },
  {
   "cell_type": "code",
   "execution_count": 9,
   "id": "365d6aff",
   "metadata": {},
   "outputs": [],
   "source": [
    "4. What are the values of the following expressions?\n",
    "\n",
    "# Ans\n",
    "# (5 > 4) and (3 == 5) --> False\n",
    "# not (5 > 4) --> False\n",
    "# (5 > 4) or (3 == 5) --> True\n",
    "# not ((5 > 4) or (3 == 5)) --> False\n",
    "# (True and True) and (True == False) --> False\n",
    "# (not False) or (not True) --> True\n"
   ]
  },
  {
   "cell_type": "code",
   "execution_count": 10,
   "id": "95491e34",
   "metadata": {},
   "outputs": [],
   "source": [
    "5. What are the six comparison operators?\n",
    "\n",
    "# Ans\n",
    "# <  : Less than\n",
    "# >  : greater than\n",
    "# <= : less than or equal\n",
    "# >= : greater than or equal\n",
    "# == : equal to\n",
    "# != : Not equal to"
   ]
  },
  {
   "cell_type": "code",
   "execution_count": null,
   "id": "16ca4b64",
   "metadata": {},
   "outputs": [],
   "source": [
    "6. How do you tell the difference between the equal to and assignment operators?\n",
    "Describe a condition and when you would use one.\n",
    "\n",
    "# Ans\n",
    "# The differentiation between assignement and equal to operation is quite straight forward.\n",
    "#  == means equal to and = means an assignment operator\n",
    "# the key is two equals (==) or a single equal(=)\n",
    "# Example:\n",
    "# a = 5 --> This is an assignment operator telling that value of 5 is being assigned to a variable named a\n",
    "# a == 5 --> This is and equal to operator checking that whether value of variable a is equal to 5\n"
   ]
  },
  {
   "cell_type": "code",
   "execution_count": null,
   "id": "6903914e",
   "metadata": {},
   "outputs": [],
   "source": [
    "7. Identify the three blocks in this code:\n",
    "    \n",
    "# Ans:\n",
    "spam = 0\n",
    "if spam == 10: # Block 1\n",
    "print('eggs') \n",
    "if spam > 5: # Block 2\n",
    "print('bacon')\n",
    "else: # Block 3\n",
    "print('ham')\n",
    "print('spam')\n",
    "print('spam')\n"
   ]
  },
  {
   "cell_type": "code",
   "execution_count": null,
   "id": "a57891b4",
   "metadata": {},
   "outputs": [],
   "source": [
    "8. Write code that prints Hello if 1 is stored in spam, prints Howdy if 2 is stored in spam,\n",
    "and prints Greetings! if anything else is stored in spam.\n",
    "\n",
    "# Ans in next block"
   ]
  },
  {
   "cell_type": "code",
   "execution_count": 23,
   "id": "af3b9bd5",
   "metadata": {},
   "outputs": [
    {
     "name": "stdout",
     "output_type": "stream",
     "text": [
      "Enter a valid number 2\n",
      "Howdy\n"
     ]
    }
   ],
   "source": [
    "spam = int(input(\"Enter a valid number \"))\n",
    "\n",
    "if spam == 1:\n",
    "    print('Hello')\n",
    "elif spam == 2:\n",
    "    print('Howdy')\n",
    "else:\n",
    "    print('Greetings!')"
   ]
  },
  {
   "cell_type": "code",
   "execution_count": null,
   "id": "75fa5a86",
   "metadata": {},
   "outputs": [],
   "source": [
    "9.If your programme is stuck in an endless loop, what keys you’ll press?\n",
    "\n",
    "# Ans: If the program is stuck in an endless loop, in Jupyter notebook we will press the \n",
    "# square button to terminate the execution. If The program was run In a classic terminal, we wil\n",
    "# press CTRL+C to stop the execution of program"
   ]
  },
  {
   "cell_type": "code",
   "execution_count": null,
   "id": "be62c3b0",
   "metadata": {},
   "outputs": [],
   "source": [
    "10 How can you tell the difference between break and continue?\n",
    "\n",
    "#Ans:\n",
    "# break statement completely stop the execution of the current running loop and exits out of that particular loop\n",
    "# continue statement does not break the loop but just transfers loop's execution to next iteration"
   ]
  },
  {
   "cell_type": "code",
   "execution_count": null,
   "id": "d0d28510",
   "metadata": {},
   "outputs": [],
   "source": [
    "11. In a for loop, what is the difference between range(10), range(0, 10), and range(0, 10, 1)?\n",
    "\n",
    "# Ans:\n",
    "# Techincally all three statement serves the same purpose but in the third statement range(0, 10, 1),\n",
    "# If the last value 1 is replaced with 2, the step size increases and is not in continuation\n",
    "\n",
    "\n"
   ]
  },
  {
   "cell_type": "code",
   "execution_count": null,
   "id": "8189dae1",
   "metadata": {},
   "outputs": [],
   "source": [
    "12. Write a short program that prints the numbers 1 to 10 using a for loop.\n",
    "Then write an equivalent program that prints the numbers 1 to 10 using a while loop.\n",
    "\n",
    "# Ans in next block"
   ]
  },
  {
   "cell_type": "code",
   "execution_count": 21,
   "id": "8765afd3",
   "metadata": {},
   "outputs": [
    {
     "name": "stdout",
     "output_type": "stream",
     "text": [
      "1\n",
      "2\n",
      "3\n",
      "4\n",
      "5\n",
      "6\n",
      "7\n",
      "8\n",
      "9\n",
      "10\n"
     ]
    }
   ],
   "source": [
    "# Write a short program that prints the numbers 1 to 10 using a for loop\n",
    "for i in range(1, 11):\n",
    "    print(i)"
   ]
  },
  {
   "cell_type": "code",
   "execution_count": 22,
   "id": "98571590",
   "metadata": {},
   "outputs": [
    {
     "name": "stdout",
     "output_type": "stream",
     "text": [
      "1\n",
      "2\n",
      "3\n",
      "4\n",
      "5\n",
      "6\n",
      "7\n",
      "8\n",
      "9\n",
      "10\n"
     ]
    }
   ],
   "source": [
    "# Then write an equivalent program that prints the numbers 1 to 10 using a while loop\n",
    "\n",
    "num = 1\n",
    "while num < 11:\n",
    "    print(num)\n",
    "    num +=1"
   ]
  },
  {
   "cell_type": "code",
   "execution_count": null,
   "id": "1cb15e4d",
   "metadata": {},
   "outputs": [],
   "source": [
    "13. If you had a function named bacon() inside a module named spam,\n",
    "how would you call it after importing spam?\n",
    "\n",
    "# Ans:\n",
    "# spam.bacon()"
   ]
  }
 ],
 "metadata": {
  "kernelspec": {
   "display_name": "Python 3 (ipykernel)",
   "language": "python",
   "name": "python3"
  },
  "language_info": {
   "codemirror_mode": {
    "name": "ipython",
    "version": 3
   },
   "file_extension": ".py",
   "mimetype": "text/x-python",
   "name": "python",
   "nbconvert_exporter": "python",
   "pygments_lexer": "ipython3",
   "version": "3.9.9"
  }
 },
 "nbformat": 4,
 "nbformat_minor": 5
}
