{
 "cells": [
  {
   "cell_type": "code",
   "execution_count": null,
   "id": "46954e47",
   "metadata": {},
   "outputs": [],
   "source": [
    "1.What are the two values of the Boolean data type? How do you write them?\n",
    "\n",
    "# Ans:\n",
    "# The two values of Boolean data type are True and False. They are written as: True, False"
   ]
  },
  {
   "cell_type": "code",
   "execution_count": null,
   "id": "9abc8b9d",
   "metadata": {},
   "outputs": [],
   "source": [
    "2. What are the three different types of Boolean operators?\n",
    "# Ans:\n",
    "# The are 3 different types of boolean operators are AND OR and NOT. Python Equivalent is:\n",
    "# and, or, not"
   ]
  },
  {
   "cell_type": "code",
   "execution_count": null,
   "id": "1549ea4d",
   "metadata": {},
   "outputs": [],
   "source": [
    "3. Make a list of each Boolean operators truth tables (i.e. every possible combination\n",
    "of Boolean values for the operator and what it evaluate )\n",
    "\n",
    "# Ans:\n",
    "# Truth Table for AND\n",
    "\n",
    "# 0 0 --> 0\n",
    "# 0 1 --> 0\n",
    "# 1 0 --> 0\n",
    "# 1 1 --> 1\n",
    "\n",
    "# Truth Table for OR\n",
    "\n",
    "# 0 0 --> 0\n",
    "# 0 1 --> 1\n",
    "# 1 0 --> 1\n",
    "# 1 1 --> 1\n",
    "\n",
    "# Truth Table for NOT\n",
    "\n",
    "# 1 --> 0\n",
    "# 0 --> 1\n"
   ]
  },
  {
   "cell_type": "code",
   "execution_count": 9,
   "id": "b5514597",
   "metadata": {},
   "outputs": [],
   "source": [
    "4. What are the values of the following expressions?\n",
    "\n",
    "# Ans\n",
    "# (5 > 4) and (3 == 5) --> False\n",
    "# not (5 > 4) --> False\n",
    "# (5 > 4) or (3 == 5) --> True\n",
    "# not ((5 > 4) or (3 == 5)) --> False\n",
    "# (True and True) and (True == False) --> False\n",
    "# (not False) or (not True) --> True\n"
   ]
  },
  {
   "cell_type": "code",
   "execution_count": 10,
   "id": "c9e41a46",
   "metadata": {},
   "outputs": [],
   "source": [
    "5. What are the six comparison operators?\n",
    "\n",
    "# Ans\n",
    "# <  : Less than\n",
    "# >  : greater than\n",
    "# <= : less than or equal\n",
    "# >= : greater than or equal\n",
    "# == : equal to\n",
    "# != : Not equal to"
   ]
  },
  {
   "cell_type": "code",
   "execution_count": null,
   "id": "96aa5fa3",
   "metadata": {},
   "outputs": [],
   "source": [
    "6. How do you tell the difference between the equal to and assignment operators?\n",
    "Describe a condition and when you would use one.\n",
    "\n",
    "# Ans\n",
    "# The differentiation between assignement and equal to operation is quite straight forward.\n",
    "#  == means equal to and = means an assignment operator\n",
    "# the key is two equals (==) or a single equal(=)\n",
    "# Example:\n",
    "# a = 5 --> This is an assignment operator telling that value of 5 is being assigned to a variable named a\n",
    "# a == 5 --> This is and equal to operator checking that whether value of variable a is equal to 5\n"
   ]
  },
  {
   "cell_type": "code",
   "execution_count": null,
   "id": "94f5a65c",
   "metadata": {},
   "outputs": [],
   "source": [
    "7. Identify the three blocks in this code:\n",
    "    \n",
    "# Ans:\n",
    "spam = 0\n",
    "if spam == 10: # Block 1\n",
    "print('eggs') \n",
    "if spam > 5: # Block 2\n",
    "print('bacon')\n",
    "else: # Block 3\n",
    "print('ham')\n",
    "print('spam')\n",
    "print('spam')\n"
   ]
  },
  {
   "cell_type": "code",
   "execution_count": null,
   "id": "088ce3e6",
   "metadata": {},
   "outputs": [],
   "source": [
    "8. Write code that prints Hello if 1 is stored in spam, prints Howdy if 2 is stored in spam,\n",
    "and prints Greetings! if anything else is stored in spam.\n",
    "\n",
    "# Ans in next block"
   ]
  },
  {
   "cell_type": "code",
   "execution_count": 16,
   "id": "80f2de7d",
   "metadata": {},
   "outputs": [
    {
     "name": "stdout",
     "output_type": "stream",
     "text": [
      "Enter a valid number89\n",
      "Greetings!\n"
     ]
    }
   ],
   "source": [
    "spam = int(input(\"Enter a valid number\"))\n",
    "\n",
    "if spam == 1:\n",
    "    print('Hello')\n",
    "elif spam == 2:\n",
    "    print('Howdy')\n",
    "else:\n",
    "    print('Greetings!')"
   ]
  },
  {
   "cell_type": "code",
   "execution_count": null,
   "id": "89706f65",
   "metadata": {},
   "outputs": [],
   "source": [
    "9.If your programme is stuck in an endless loop, what keys you’ll press?\n",
    "\n",
    "# Ans: If the program is stuck in an endless loop, in Jupyter notebook we will press the \n",
    "# square button to terminate the execution. If he program was run In a classic terminal, we wil\n",
    "# press CTRL+C to stop the execution of program"
   ]
  },
  {
   "cell_type": "code",
   "execution_count": null,
   "id": "5f1be78a",
   "metadata": {},
   "outputs": [],
   "source": [
    "10 How can you tell the difference between break and continue?\n",
    "\n",
    "#Ans:\n",
    "# break statement completely stop the execution of the current running loop and exits out of that particular loop\n",
    "# continue statement does not break the loop but just transfers loop's execution to next iteration"
   ]
  },
  {
   "cell_type": "code",
   "execution_count": null,
   "id": "9a389f43",
   "metadata": {},
   "outputs": [],
   "source": [
    "11. In a for loop, what is the difference between range(10), range(0, 10), and range(0, 10, 1)?\n",
    "\n",
    "# Ans:\n",
    "# Techincally all three statement serves the same purpose but in the third statement range(0, 10, 1),\n",
    "# If the last value 1 is replaced with 2, the step size increases and is not in continuation\n",
    "\n",
    "\n"
   ]
  },
  {
   "cell_type": "code",
   "execution_count": 19,
   "id": "135568f0",
   "metadata": {},
   "outputs": [
    {
     "data": {
      "text/plain": [
       "range(0, 10)"
      ]
     },
     "execution_count": 19,
     "metadata": {},
     "output_type": "execute_result"
    }
   ],
   "source": [
    "range(0, 10, 1)"
   ]
  },
  {
   "cell_type": "code",
   "execution_count": null,
   "id": "de570c50",
   "metadata": {},
   "outputs": [],
   "source": []
  }
 ],
 "metadata": {
  "kernelspec": {
   "display_name": "Python 3 (ipykernel)",
   "language": "python",
   "name": "python3"
  },
  "language_info": {
   "codemirror_mode": {
    "name": "ipython",
    "version": 3
   },
   "file_extension": ".py",
   "mimetype": "text/x-python",
   "name": "python",
   "nbconvert_exporter": "python",
   "pygments_lexer": "ipython3",
   "version": "3.9.9"
  }
 },
 "nbformat": 4,
 "nbformat_minor": 5
}
