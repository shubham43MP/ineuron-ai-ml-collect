{
 "cells": [
  {
   "cell_type": "code",
   "execution_count": null,
   "id": "6e14924b",
   "metadata": {},
   "outputs": [],
   "source": [
    "# 1. In the below elements which of them are values or an expression?\n",
    "# eg:- values can be integer or string and expressions will be mathematical operators.\n",
    "* - exp \n",
    "'hello' - values\n",
    "-87.8 - values\n",
    "- exp\n",
    "/ exp\n",
    "6 value\n"
   ]
  },
  {
   "cell_type": "code",
   "execution_count": null,
   "id": "03d6ab1c",
   "metadata": {},
   "outputs": [],
   "source": [
    "2. What is the difference between string and variable?\n",
    "\n",
    "# String is a value, variable is an entity that holds a value"
   ]
  },
  {
   "cell_type": "code",
   "execution_count": null,
   "id": "2558e0b2",
   "metadata": {},
   "outputs": [],
   "source": [
    "Describe three different data types."
   ]
  },
  {
   "cell_type": "code",
   "execution_count": null,
   "id": "1237abed",
   "metadata": {},
   "outputs": [],
   "source": [
    "4. What is an expression made up of? What do all expressions do?"
   ]
  },
  {
   "cell_type": "code",
   "execution_count": 1,
   "id": "6fd810dc",
   "metadata": {},
   "outputs": [
    {
     "data": {
      "text/plain": [
       "2"
      ]
     },
     "execution_count": 1,
     "metadata": {},
     "output_type": "execute_result"
    }
   ],
   "source": [
    "True + True"
   ]
  },
  {
   "cell_type": "code",
   "execution_count": null,
   "id": "e71239b1",
   "metadata": {},
   "outputs": [],
   "source": [
    " "
   ]
  }
 ],
 "metadata": {
  "kernelspec": {
   "display_name": "Python 3 (ipykernel)",
   "language": "python",
   "name": "python3"
  },
  "language_info": {
   "codemirror_mode": {
    "name": "ipython",
    "version": 3
   },
   "file_extension": ".py",
   "mimetype": "text/x-python",
   "name": "python",
   "nbconvert_exporter": "python",
   "pygments_lexer": "ipython3",
   "version": "3.9.9"
  }
 },
 "nbformat": 4,
 "nbformat_minor": 5
}
