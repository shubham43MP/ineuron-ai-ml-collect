{
 "cells": [
  {
   "cell_type": "code",
   "execution_count": null,
   "id": "6e14924b",
   "metadata": {},
   "outputs": [],
   "source": [
    "# 1. In the below elements which of them are values or an expression?\n",
    "# eg:- values can be integer or string and expressions will be mathematical operators.\n",
    "\n",
    "# Ans:\n",
    "* - exp \n",
    "'hello' - values\n",
    "-87.8 - values\n",
    "- exp\n",
    "/ exp\n",
    "6 value\n"
   ]
  },
  {
   "cell_type": "code",
   "execution_count": null,
   "id": "230fde32",
   "metadata": {},
   "outputs": [],
   "source": []
  },
  {
   "cell_type": "code",
   "execution_count": null,
   "id": "03d6ab1c",
   "metadata": {},
   "outputs": [],
   "source": [
    "2. What is the difference between string and variable?\n",
    "# Ans:\n",
    "# String is a value, variable is an entity that holds a value"
   ]
  },
  {
   "cell_type": "code",
   "execution_count": null,
   "id": "2558e0b2",
   "metadata": {},
   "outputs": [],
   "source": [
    "Describe three different data types.\n",
    "# Ans:\n",
    "# Python Basic data types are: String Boolean and numeric\n",
    "# Numeric data type os for numbers and decimals\n",
    "# Boolean holds either a True or a False\n",
    "# String as the name suggests is the classic charater list tied inside double commas"
   ]
  },
  {
   "cell_type": "code",
   "execution_count": null,
   "id": "1237abed",
   "metadata": {},
   "outputs": [],
   "source": [
    "4. What is an expression made up of? What do all expressions do?\n",
    "\n",
    "# Ans:\n",
    "# An expression is made of operators and operands to result in some different value.\n",
    "# Operators are like + - * / and operands can be values or variables"
   ]
  },
  {
   "cell_type": "code",
   "execution_count": 1,
   "id": "6fd810dc",
   "metadata": {},
   "outputs": [
    {
     "data": {
      "text/plain": [
       "2"
      ]
     },
     "execution_count": 1,
     "metadata": {},
     "output_type": "execute_result"
    }
   ],
   "source": [
    "5. This assignment statements, like spam = 10. What is the difference between an expression and a statement?\n",
    "\n",
    "# Ans:\n",
    "# Expressions as explained above is made of operators and operands to result\n",
    "# in some different value\n",
    "#Statements are the lines of code that do something. Expressions are hence part of statement\n"
   ]
  },
  {
   "cell_type": "code",
   "execution_count": null,
   "id": "e71239b1",
   "metadata": {},
   "outputs": [],
   "source": [
    " 6. After running the following code, what does the variable bacon contain?\n",
    "bacon = 22\n",
    "bacon + 1\n",
    "# Ans:\n",
    " # Bacon will contain 22 as bacon has not been reassigned"
   ]
  },
  {
   "cell_type": "code",
   "execution_count": null,
   "id": "f4e5c148",
   "metadata": {},
   "outputs": [],
   "source": [
    "7. What should the values of the following two terms be?\n",
    "'spam' + 'spamspam'\n",
    "'spam' * 3\n",
    "\n",
    "# Ans: \n",
    "# 'spamspamspam'\n"
   ]
  },
  {
   "cell_type": "code",
   "execution_count": 2,
   "id": "4b79549c",
   "metadata": {},
   "outputs": [],
   "source": [
    "8. Why is eggs a valid variable name while 100 is invalid?\n",
    " # Ans\n",
    "# eggs is valid because it follows the rule where a letter must start with number or underscore\n",
    "# 100 is invalid because it violates basic rule that A variable name cannot start with a number"
   ]
  },
  {
   "cell_type": "code",
   "execution_count": null,
   "id": "92190b2d",
   "metadata": {},
   "outputs": [],
   "source": [
    "9. What three functions can be used to get the integer,\n",
    "floating-point number, or string version of a value?\n",
    "\n",
    "# Ans\n",
    "# int() float() and str( )\n"
   ]
  },
  {
   "cell_type": "code",
   "execution_count": null,
   "id": "03365914",
   "metadata": {},
   "outputs": [],
   "source": [
    "10. Why does this expression cause an error? How can you fix it?\n",
    "'I have eaten ' + 99 + ' burritos.'\n",
    "\n",
    "# Ans: 'I have eaten ' + '99' + ' burritos.'\n",
    "# The catch is that 99 is of type number and hence needs to be converted to string\n"
   ]
  },
  {
   "cell_type": "code",
   "execution_count": null,
   "id": "5e8c770a",
   "metadata": {},
   "outputs": [],
   "source": []
  },
  {
   "cell_type": "code",
   "execution_count": null,
   "id": "ee2e83e4",
   "metadata": {},
   "outputs": [],
   "source": []
  }
 ],
 "metadata": {
  "kernelspec": {
   "display_name": "Python 3 (ipykernel)",
   "language": "python",
   "name": "python3"
  },
  "language_info": {
   "codemirror_mode": {
    "name": "ipython",
    "version": 3
   },
   "file_extension": ".py",
   "mimetype": "text/x-python",
   "name": "python",
   "nbconvert_exporter": "python",
   "pygments_lexer": "ipython3",
   "version": "3.9.9"
  }
 },
 "nbformat": 4,
 "nbformat_minor": 5
}
